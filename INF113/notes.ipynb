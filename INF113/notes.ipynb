{
 "cells": [
  {
   "cell_type": "markdown",
   "metadata": {},
   "source": [
    "### lecture 1 - 22/08/24"
   ]
  },
  {
   "cell_type": "markdown",
   "metadata": {},
   "source": [
    "Skille brukergrensesnitt fra kjernen"
   ]
  },
  {
   "cell_type": "markdown",
   "metadata": {},
   "source": [
    "## abstraksjon\n",
    "\n",
    "- eksempel: programmene må ikke bry seg om hva slags lagring er konblet til maskinen (SSD / HDD / SD-card)\n",
    "- input / print\n",
    "- terminalen er en emulasjon\n",
    "\n",
    "\n",
    "OS presenterer et virtuelt bilde av hardware til programmene\n",
    "- CPU\n",
    "- MINNE\n",
    "- LAGRING\n",
    "\n",
    "\n",
    "Ressursfordeling\n",
    "- kjøre flere programmer \"samtidig på CPU\"\n",
    "- fordele tilgang til minne\n",
    "- fordele tilgang til I/O\n",
    "- må være korrekt / effektivt / lett å bruke\n",
    "\n",
    "Komponenter til et OS\n",
    "- programmer: instrukser\n",
    "- prossesser: kjørende programmer\n",
    "\n",
    "\n",
    "BIOs\n",
    "- kjernen er et av de f;rste programmene som lastes inn når maskinen er på\n",
    "- er bakgrunnen hele tiden\n",
    "- ansvar for ressursforedeling\n",
    "\n",
    "\n",
    "API - application programming interface\n",
    "- C funksjoner som programmer kan bruke for å få en tjeneste fra kjerner\n",
    "- \"system calls\"\n",
    "- f.eks: åpne en fil, reservere plass i minne GNU?\n",
    "\n",
    "Drivers\n",
    "- Drivere er delprogrammer i OS som kjører og interagerer med en spesefikt enhet\n",
    "- f.eks Nvidia og amd\n",
    "- Ny hardware kan kreve installasjon av en tilpasset driver"
   ]
  },
  {
   "cell_type": "markdown",
   "metadata": {},
   "source": [
    "Kommandolinjen / cli\n",
    "- bash\n",
    "- fleksibel interaksjon med alt som OS tilbyr\n",
    "- enkel å automatisere"
   ]
  },
  {
   "cell_type": "markdown",
   "metadata": {},
   "source": [
    "lecture 3 - nice to know"
   ]
  },
  {
   "cell_type": "markdown",
   "metadata": {
    "vscode": {
     "languageId": "plaintext"
    }
   },
   "source": [
    "echo $? for the last returned by exeutable\n",
    "\n",
    "gcc -c for objects files\n",
    "\n",
    "function declarations "
   ]
  },
  {
   "cell_type": "markdown",
   "metadata": {},
   "source": [
    "# lecture 3 - von neumann arkitektur\n",
    "\n",
    "- alu - arithmetic logic uni\n",
    "  - A Bus (variable 1)\n",
    "  - B Bus (variable 2)\n",
    "  - ALU Control Lines (use operation nr n)\n",
    "  - C Bus (output)\n",
    "\n",
    "- minne\n",
    "  - adresse\n",
    "  - en rekke med informasjon\n",
    "  - holds an byte f.ex\n",
    "\n",
    "- hex\n",
    "  - 0000 -> 0110 0010   \n",
    "  - 0x0 -> 0x62\n",
    "\n",
    "  - 0001 -> 1111 0000\n",
    "  - 0x1 -> 0xF0\n",
    "\n",
    "- register\n",
    "  - holder på en bit med minne\n",
    "\n",
    "- FETCH\n",
    "  - last inn instruksen som Instruction Counter (IC) perker på, ok ic\n",
    "\n",
    "- DECODE\n",
    "  - tolke instruksen, beregn adresser som instr. strenger\n",
    "  - move, add compare, jump(endrer IC)\n",
    "\n",
    "- WRITE BACK  \n",
    "  - lagre resultat i registere"
   ]
  },
  {
   "cell_type": "markdown",
   "metadata": {},
   "source": [
    "Opcodes\n",
    "- %rax 64 bit\n",
    "- %eax 32 bit\n",
    "- %ax 16 bit\n",
    "- %ah 8 bit\n",
    "- %al 8 bit"
   ]
  },
  {
   "cell_type": "markdown",
   "metadata": {
    "vscode": {
     "languageId": "plaintext"
    }
   },
   "source": [
    "rax=60 betyr exit()\n",
    "der rdi har returverdier til programmet"
   ]
  },
  {
   "cell_type": "markdown",
   "metadata": {},
   "source": [
    "# lecture 4 - syscalls"
   ]
  },
  {
   "cell_type": "markdown",
   "metadata": {},
   "source": [
    "nm calc.o\n",
    "            U _adder (undifined)\n",
    "            T _start (defined)"
   ]
  },
  {
   "cell_type": "markdown",
   "metadata": {},
   "source": [
    "### Linker tilpasser adressene\n",
    "\n",
    "\n",
    "\n",
    "- call pointer to other func\n",
    "  - it will add a call with current pos + some binary\n",
    "\n",
    "- the linker will add the objects together\n",
    "  - if one object is missing an reference"
   ]
  },
  {
   "cell_type": "markdown",
   "metadata": {},
   "source": [
    "differenct syscalls\n",
    "\n",
    "sys write er syscall 1 => mov $1, %rax\n",
    "\n",
    "unsigned for fd - file descriptor et tall som tilsvarer en åpen fil fra sys open\n",
    "- fd 0 - stdin\n",
    "- fd 1 - stdout\n",
    "- fd 2 - stderr\n",
    "\n",
    "buf - adressen til strengen\n",
    "count - antall bytes"
   ]
  },
  {
   "cell_type": "markdown",
   "metadata": {},
   "source": [
    "sections in asm\n",
    "- data-blokker\n",
    "\n",
    "./calc | xxd for å se det i byte format\n",
    "nm file shows sections\n",
    "\n",
    "strace"
   ]
  },
  {
   "cell_type": "markdown",
   "metadata": {
    "vscode": {
     "languageId": "plaintext"
    }
   },
   "source": [
    "write skriver\n",
    "srt0.S kallar _start main"
   ]
  },
  {
   "cell_type": "markdown",
   "metadata": {},
   "source": [
    "# bruk av systemkall\n",
    "\n",
    "- "
   ]
  },
  {
   "cell_type": "markdown",
   "metadata": {},
   "source": [
    "# lecture 5\n",
    "\n",
    "Program\n",
    "- Sekvens av instrukser\n",
    "\n",
    "Prosess\n",
    "- program under kjøring\n",
    "\n",
    "\n",
    "Time sharing\n",
    "- en CPU kan bare kjøre en prosess om gangen\n",
    "- et avansert OS kan late som at flere prosesser kjører samtidig\n",
    "  - time sharing\n",
    "\n",
    "Context Switch\n",
    "- \"hvordan bytter vi?\"\n",
    "\n",
    "Policy: Scheduling\n",
    "- \"Hvem får kjøre nå?\"\n",
    "\n",
    "En prosess\n",
    "- må lagre staten \"prosess\" fra registrene, %rip (instruks peker)\n",
    "\n",
    "\n",
    "cpu_context\n",
    "- saves the current info in registars to memory for it to be called later\n",
    "\n",
    "Prosesshåndtering\n",
    "- OS må ha mulighet til å håndtere prosesser\n",
    "  - create\n",
    "  - destroy\n",
    "  - stop/resume\n",
    "  - status\n",
    "  - wait for finish\n",
    "\n",
    "Prosess\n",
    "- fork -> new -> ready -(scheduler)> run -(stop/pause)> ready -> run -(exit)> zombie(linux)\n",
    "- run -> wait (for i/o) -> ready\n",
    "\n",
    "Direct execution\n",
    "- Create entry for process list\n",
    "- allocate memory for program\n",
    "- load program into memory\n",
    "- set up stack with argc / argv\n",
    "  - argv arguments\n",
    "  - argc count of argument\n",
    "- clear registers\n",
    "- execute call main()\n",
    "- program\n",
    "  - run main()\n",
    "  - execute return from main\n",
    "- free memory of process\n",
    "- remove from process list\n",
    "\n",
    "user mode / kernel mode switch\n",
    "- vanlige programmer kjører i user mode\n",
    "- systemfunksjoner kun tilgjengelig i kernel mode\n",
    "- \"syscall\"-instr hopper til kernel mode "
   ]
  },
  {
   "cell_type": "markdown",
   "metadata": {},
   "source": [
    "### bytte mellom prosesser cooperative\n",
    "\n",
    "- mens brukerkode kjører får ikke kernel gjøre noe\n",
    "- kernel må ha kontroll for å starte en annen prosess\n",
    "\n",
    "- Mulighet 1\n",
    "  - kan vente til en syscall skjer\n",
    "  - ofte finnes det en \"yield\" syscall som kan brukes\n",
    "  - feil i programmet også gir kontroll til kernel\n",
    "  - user code som aldi kaller syscall får kjøre ubegrenset\n",
    "\n",
    "### bytte mellom prosesser non cooperative\n",
    "\n",
    "- Kernen interupter programmet etter x antall instrukser eller noe lignende\n",
    "- Kan inkludere slik at interupt kan utsettes\n",
    "- interupt skjer jevnlig, og blir som oftest utsatt hvis den allerede holder på med en\n",
    "\n",
    "current running processes\n",
    "- /proc/nr \n",
    "  - status\n",
    "- ps\n",
    "- ps a\n",
    "\n",
    "Context switches\n",
    "- volentary context switches\n",
    "  - syscalls and so on\n",
    "- nonvolentary ----\n",
    "  - forced timer \n",
    "\n",
    "- kill\n",
    "  - -stop\n",
    "  - -cont\n",
    "  - -hup"
   ]
  },
  {
   "cell_type": "markdown",
   "metadata": {},
   "source": [
    "double 1.7×10-308 to 1.7×10+308\n",
    "float 3.4 x 10-38 to 3.4 x 1038"
   ]
  },
  {
   "cell_type": "markdown",
   "metadata": {},
   "source": [
    "# lecture 6\n",
    "\n",
    "Eksempel: user code - libc - kernel\n",
    "#include <fcntl.h>\n",
    "- File f = falesystem->open(path)\n",
    "- if (f-> != current_user)\n",
    "  - return -1;\n",
    "\n",
    "\n",
    "Kun kernel mode får kjøre i k modus\n",
    "- må gjøre en syscall til traptable\n",
    "  - context switch\n",
    "  - for at kernel mode skal sjekke eierskap, og åne\n",
    "  - context switch\n",
    "\n",
    "libc\n",
    "\n",
    "- "
   ]
  },
  {
   "cell_type": "markdown",
   "metadata": {},
   "source": [
    "# lecture 7"
   ]
  },
  {
   "cell_type": "markdown",
   "metadata": {},
   "source": [
    "Scheduler\n",
    "- ppid - parent process id \n",
    "- pid - process id"
   ]
  },
  {
   "cell_type": "markdown",
   "metadata": {},
   "source": [
    "### Schedluling\n",
    "- Process\n",
    "- user mode / kernel mode\n",
    "  - calling systemcalls will switch the \n",
    "- system call\n",
    "- context switch \n",
    "  - pretty expensive\n",
    "\n",
    "PCB (Process Control Block)\n",
    "\n",
    "\n",
    "kernel må ha koontroll for å utføre en context switch. Vi må bytte til kernel mode\n",
    "- interrupt\n",
    "- exception\n",
    "  - hardware level exception is kind of like low level error handling\n",
    "- syscall trap"
   ]
  },
  {
   "cell_type": "markdown",
   "metadata": {},
   "source": [
    "##### Policy\n",
    "- hva skal man måle?\n",
    "  - batch? live time share? mye cpu? mye io?\n",
    "    - metrics turnaround time /wait time / ...\n",
    "\n",
    "- Turnaround\n",
    "  - $f(i) - i(i)$ (finished time - incoming time)\n",
    "\n",
    "  - avg. turnaround can also be used\n",
    "\n",
    "- Response\n",
    "  - $s(i) - i(i)$ (starting time - incoming time)\n"
   ]
  },
  {
   "cell_type": "markdown",
   "metadata": {},
   "source": [
    "Scheduling of incoming tasks\n",
    "- interval scheduling\n",
    "- Shortest to complete first (STCF)\n",
    "  - if time of process is known ahead of time\n",
    "\n",
    "Time Slicing\n",
    "- Hands out f.ex 10 ms at a time \n",
    "- Round Robin\n",
    "\n",
    "I/O begynner Context Switch\n",
    "Når I/O er ferdig switch med en gang eller vent til B er ferdig\n",
    "\n",
    "A: wait for I/O\n",
    "- Run\n",
    "- Ready"
   ]
  },
  {
   "cell_type": "markdown",
   "metadata": {},
   "source": [
    "Multi-Level feedback queue\n",
    "*Optimize the feeback queue*\n",
    "\n",
    "\n",
    "| Priority | Processes | Round Robin |\n",
    "| -------- | -------- | -------- |\n",
    "| High | A,B | ABAB |\n",
    "| Middle |      |  |\n",
    "| Low | C | C |\n",
    "\n",
    "\n",
    "\n",
    "| Priority | Processes | ---      |    |   |    | |\n",
    "| -------- | --------  | -------- |-    |-   |-    | - |\n",
    "| High     | A         |           |    |  B |    | |\n",
    "| Middle   |           | A        |    |   |B    | |\n",
    "| Low      |           |          |A    | |  |ABABA    |\n",
    "\n",
    "\n",
    "- The process gets deprioritized as it uses too much time\n",
    "\n",
    "\n",
    "- trenger prio i lengre avstand\n",
    "  - De kan opprioriters "
   ]
  },
  {
   "cell_type": "markdown",
   "metadata": {},
   "source": [
    "# Completly Fair Scheduler"
   ]
  },
  {
   "cell_type": "markdown",
   "metadata": {},
   "source": [
    "Hver prosess samler opp virtuell kjøretid\n",
    "- vruntime\n",
    "- lavest vruntime bestemmer neste jobb\n",
    "- sched_latency (f.eks 48 ms) / N_queue: time slice til neste switch\n",
    "- min_granularity: (f.eks  6ms) minimum kjøretid\n",
    "\n",
    "- if 3 jobs, then schedule latency is devidid by 3.\n",
    "\n",
    "- minimum granularity\n",
    "  -  the minimum allowed time for a process to run\n",
    "-  the target latency is supposed to be as small as possible \n",
    "   - Theoretically in a mutlitasking system it will be as close to 0"
   ]
  },
  {
   "cell_type": "markdown",
   "metadata": {},
   "source": [
    "Rod-Blck tree: \n",
    "- priority \n",
    "\n",
    "Completely Fair Shceduler\n",
    "- \"nice\" level\n",
    "- each job has its own weight number\n",
    "- time_slice = $\\frac{weight_k}{\\sum{weight_i}} \\cdot$ sched_latency\n",
    "  - that makes it so that jobs with higher weights will run for longer"
   ]
  },
  {
   "cell_type": "markdown",
   "metadata": {},
   "source": [
    "$\\text{vruntime}_i = \\text{vruntime}_i + \\frac{weight_0}{weight_i} \\cdot \\text{runtime}_i$"
   ]
  },
  {
   "cell_type": "markdown",
   "metadata": {},
   "source": [
    "\"nice\" value\n",
    "- value between -20 and 19\n",
    "  - choosing weight\n",
    "  - lower is higher"
   ]
  },
  {
   "cell_type": "markdown",
   "metadata": {},
   "source": [
    "# Minne :D"
   ]
  },
  {
   "cell_type": "markdown",
   "metadata": {},
   "source": [
    "### Memory notation\n",
    "**hex notation**\n",
    "- 0xF $\\rightarrow$\n",
    "\n",
    "### Memory of a function\n",
    "- Code\n",
    "- Globale variables\n",
    "- ...\n",
    "- stack\n",
    "  - local variables to each function\n",
    "\n",
    "\n",
    "Base pointer ( rbp )\n",
    "- pekker til bunnen av stacken\n",
    "Top pointer  ( rsp )\n",
    "- pekker til stoppen av stacken\n",
    "- this is so the heapush ends et the top\n",
    "\n",
    "Assembly example\n",
    "- pushq push to stack queue\n",
    "\n",
    "When calling other functions\n",
    "Rsp\n",
    "- saved rbp when callng another function\n",
    "- ...\n",
    "- rbp\n",
    "\n",
    "in the helper function\n",
    "- pushpq rbp first\n",
    "- popq rbp on the end\n",
    "- places it at the saved rbp\n",
    "\n",
    "Stack frames\n",
    "- A way to frame multiple information data form different functions which is called by other\n"
   ]
  },
  {
   "cell_type": "markdown",
   "metadata": {
    "vscode": {
     "languageId": "plaintext"
    }
   },
   "source": [
    "https://stackoverflow.com/questions/10057443/explain-the-concept-of-a-stack-frame-in-a-nutshell"
   ]
  },
  {
   "cell_type": "markdown",
   "metadata": {
    "vscode": {
     "languageId": "plaintext"
    }
   },
   "source": [
    "address space\n",
    "- virtual space fixxed by the os\n",
    "- heap and stack"
   ]
  },
  {
   "cell_type": "markdown",
   "metadata": {},
   "source": [
    "# Lecture - Memory"
   ]
  },
  {
   "cell_type": "markdown",
   "metadata": {},
   "source": [
    "debugging tools\n",
    "- gdb\n",
    "- valgrind"
   ]
  },
  {
   "cell_type": "markdown",
   "metadata": {},
   "source": [
    "stack\n",
    "- bare verdier som er tilkjent under compilering kommer på stacken.\n",
    "- ikke dynamisk\n",
    "\n",
    "heap\n",
    "- stakken er dynamisk \n",
    "- malloc(size * sizeof(int))\n",
    "  - calloc(size * sizeof(int))\n",
    "    - fills every space up with 0"
   ]
  },
  {
   "cell_type": "markdown",
   "metadata": {
    "vscode": {
     "languageId": "plaintext"
    }
   },
   "source": [
    "gdb\n",
    "- break at line\n",
    "- run\n",
    "- p var a\n",
    "- x examine at memory address\n",
    "- list\n",
    "- p /x\n",
    "- p /h\n",
    "- p /c"
   ]
  },
  {
   "cell_type": "markdown",
   "metadata": {},
   "source": [
    "| **Value** | **Decimal** | **Hex** | **Little Endian** | **Big Endian** |\n",
    "|-----------|-------------|---------|-------------------|----------------|\n",
    "| 1 byte    | 17          | 0x11    | 11                | 11             |\n",
    "| 2 bytes   | 300         | 0x012c  | 2c 01             | 01 2c          |\n",
    "| 4 bytes   | 4045364d    | 0x4045364d | 4d 36 45 40       | 40 45 36 4d    |\n"
   ]
  },
  {
   "cell_type": "markdown",
   "metadata": {},
   "source": [
    "formatting\n",
    "- %x hex\n",
    "\n",
    "x /4xb"
   ]
  },
  {
   "cell_type": "markdown",
   "metadata": {},
   "source": [
    "# Minne - Adress translation - free space (kap 10-11)"
   ]
  },
  {
   "cell_type": "markdown",
   "metadata": {},
   "source": [
    "void func() {\n",
    "    int x = 3000;\n",
    "    x = x + 3;\n",
    "}\n",
    "\n",
    "Program code\n",
    "- The code segment where the instructions live\n",
    "Heap\n",
    "- The heap segment contains malloc'd data dynamic data structions (it can grow positively)\n",
    "\n",
    "stack \n",
    "- (it grows negatively) the stack segment: contains local variables argumetns to routines. return values. etc.\n",
    "\n",
    "movl 0x0(%ebx), %eax\n",
    "addl $0x03, %eax\n",
    "movl %eax , 0x0 (%ebx)\n",
    "\n",
    "Prosessen adresserom(kalles virtuell adresse)"
   ]
  },
  {
   "cell_type": "markdown",
   "metadata": {
    "vscode": {
     "languageId": "plaintext"
    }
   },
   "source": [
    "We have to translate virtual addresses to physical ones"
   ]
  },
  {
   "cell_type": "markdown",
   "metadata": {},
   "source": [
    "### Minne / Memory"
   ]
  },
  {
   "cell_type": "markdown",
   "metadata": {},
   "source": [
    "Spørsmål:\n",
    "- Vil prosessens addresserom være limited til en viss kb"
   ]
  },
  {
   "cell_type": "markdown",
   "metadata": {
    "vscode": {
     "languageId": "plaintext"
    }
   },
   "source": [
    "Når flere prosesser er i minne samtidig\n",
    "- må ikke få tilgang til andres minne\n",
    "- må være enkelt å bruker uanset hvor prosessen fatkisk ligger\n",
    "- tregner konsistent plassering av kode, stack, og heap\n",
    "\n",
    "virtualisert minne\n",
    "- eget adresserom til hver prosess\n",
    "\n",
    "\n",
    "32 bit systems:\n",
    "- adress space is $2^{32} = 4 GB$\n",
    "- A 32-bit system can address 4,294,967,296 unique memory locations (or addresses). Since each location corresponds to a single byte, this translates to a maximum of 4 GB of addressable memory.\n",
    "- \n",
    "\n",
    "64 bit systems:\n",
    "- adress space is $2^{64} = 16$ exabytes\n",
    "- A 64-bit system can address an astronomically larger number of unique memory locations—18,446,744,073,709,551,616. This translates to a maximum of 16 exabytes of addressable memory."
   ]
  },
  {
   "cell_type": "markdown",
   "metadata": {},
   "source": [
    "## Dynamic relocation\n",
    "- calculating the physical adress trainslation while runnig\n",
    "- the process can be moved after running if that is needed\n",
    "  - OS kopierer adresserom til et annet sted\n",
    "  - oppdaterer base + bound\n",
    "\n",
    "### base-bound\n",
    "- to flere registere i CPU hardware: base-register & bound-registar\n",
    "- each process get a value of base and bound, which is moved on context-switch\n",
    "- OS beregner fysisk adresse ut i fra virituell adresse + base\n",
    "- OS bruker bound for å sjekke tilgang, prosessen har bare lov å bruke sine egne adresser \n",
    "\n",
    "- base:\n",
    "  - hvor minne bolken begynner\n",
    "- bound:\n",
    "  - hvor minne bolken slutter\n",
    "  - endten hvor langt fra base eller globalt\n",
    "\n",
    "- context switch, da endrer den base\n",
    "\n",
    "- regner ut adresse verdi\n",
    "  - OS finner fysisk minne som er ledig\n",
    "  - setter ase + bounds til den nye prosessen\n",
    "  - laster inn kode-segment fra disk\n",
    "\n",
    "While running:\n",
    "- Sjekk virtuell adresse < bound\n",
    "- fusisk adresse = virtuell adressse + base\n",
    "\n",
    "Securing:\n",
    "- checking if adress is $0<address<bound$\n",
    "- out of bounds exeptions\n",
    "\n",
    "\n",
    "- Memory Management Unit - MMU\n",
    "  - base+ boudn trenger en enkel mmu\n",
    "  - hver minnetilgang trenger adresse-kalkulusjon\n",
    "  - bra med hardware støtte til virtuell minne: MMU\n",
    "\n",
    "Krav for base+bounds løsning:\n",
    "- privlaged mode\n",
    "- base bounds registers\n",
    "- ability to translate virtual addresses and check for bounds\n",
    "- privilaged instructions to update base bounds\n",
    "- privilaged instructions to register exepction handlers\n",
    "- ability to raise exeptions\n",
    "\n",
    "Cons of Base & bounds\n",
    "- a lot of reserved memory is empty\n",
    "- \"internal fragmentation.\""
   ]
  },
  {
   "cell_type": "markdown",
   "metadata": {
    "vscode": {
     "languageId": "plaintext"
    }
   },
   "source": [
    "## segmentation\n",
    "- three pairs of base/bound registers:\n",
    "  - code \n",
    "  - heap\n",
    "  - stack\n",
    "    - where base and bound is flipped, since it is going backwards\n",
    "\n",
    "- 6 registers now\n",
    "\n",
    "finding the virtual adress:\n",
    "- hvor langt inne i segmentet er vi? *offset*\n",
    "- sjekk *offset* < bounds\n",
    "- add base + offset\n",
    "- segmentation fault is when you are going out of your memory\n",
    "\n",
    "given a virtual adress, what type is the segment\n",
    "- the first two bits will spesify the segment type\n",
    "- 00 is code\n",
    "- 01 is heap\n",
    "- 11 is stack\n",
    "- the system knows what base adress it is based on the first two bits\n",
    "- the 2^2 bits can be 4 different options\n",
    "- then it will look at the offset, which is 2^12 big 4096 options\n",
    "\n",
    "\n",
    "| Segment   | Base  | Size (max 4K) | Grows Positive? |\n",
    "|-----------|-------|----------------|-----------------|\n",
    "| Code₀₀    | 32K   | 2K             | 1               |\n",
    "| Heap₀₁    | 34K   | 3K             | 1               |\n",
    "| Stack₁₁   | 28K   | 2K             | 0               |\n",
    "\n",
    "\n",
    "If grows negative:\n",
    "- offset = offset - max size\n",
    "- base + offset\n",
    "\n",
    "\n",
    "Pros med segmentation:\n",
    "- no internal fragmentation\n",
    "- MMU kan støtte tilgangskontroll\n",
    "\n",
    "| Segment   | Base  | Size (max 4K)  | Grows Positive? | protection      |\n",
    "|-----------|-------|----------------|-----------------|-----------------|\n",
    "| Code₀₀    | 32K   | 2K             | 1               | read - execute  |\n",
    "| Heap₀₁    | 34K   | 3K             | 1               | read - write    | \n",
    "| Stack₁₁   | 28K   | 2K             | 0               | read - write    |\n",
    "\n",
    "Read-only segmenter kan gjenbrukes i flere prosesser (f.eks etter fork)\n",
    "Kan til og med segmentere mye finere enn bare 3 store segmenter\n",
    "\n",
    "\n",
    "what is needed:\n",
    "- MMU må holde segment tabellen, og bytte ut ved kontekst-switch\n",
    "- OS må håndtere endrigner i ønsket størrelsen til et segment (malloc -> minne fra et eksisterende segment / sbrk -> øke heap-størrelsen)\n",
    "- OS må huske free-list: hvor finnes det ledig plass i fysisk minne\n"
   ]
  },
  {
   "cell_type": "markdown",
   "metadata": {
    "vscode": {
     "languageId": "plaintext"
    }
   },
   "source": [
    "## Handling external fragmenting"
   ]
  },
  {
   "cell_type": "markdown",
   "metadata": {},
   "source": [
    "- memory will fast be splitted up into smaller bits if we keep splitting - fragmentation\n",
    "- fragmenting is a problem when we have flexible size, just not with segmenting, f.ex in heap with malloc\n",
    "  - 20 bytes are free but, they are discontious, therefore there is not enough room for malloc(15)"
   ]
  },
  {
   "cell_type": "markdown",
   "metadata": {},
   "source": [
    "**Free List**\n",
    "- linked list which points from one free block to the next free block\n",
    "\n",
    "F.ex:\n",
    "- head $\\rightarrow$ addr:0, len: 10 $\\rightarrow$ addr: 20, len: 10 $\\rightarrow$ NULL\n",
    "\n",
    "Split:\n",
    "- malloc(1) $\\rightarrow$ can return pointer to addr: 20\n",
    "- head $\\rightarrow$ addr:0, len: 10 $\\rightarrow$ addr: 20, len: 0 $\\rightarrow$ addr: 21, len: 9 $\\rightarrow$ NULL\n",
    "- ig hvordan den endrer på 0 lengthen ikke er så viktig\n",
    "- head $\\rightarrow$ addr:0, len: 10 $\\rightarrow$ addr: 21, len: 9 $\\rightarrow$ NULL\n",
    "\n",
    "Coalesce:\n",
    "- head $\\rightarrow$ addr:0, len: 10 $\\rightarrow$ addr: 20, len: 10 $\\rightarrow$ NULL\n",
    "- free(10)\n",
    "- head $\\rightarrow$ addr:10, len 10 $\\rightarrow$ addr:0, len: 10 $\\rightarrow$ addr: 20, len: 10 $\\rightarrow$ NULL\n",
    "- given that there still there is no fully connected segments for malloc(15), free() have to check if the block is by something which already is free, and then combine them.\n",
    "- head $\\rightarrow$ addr: 0, len: 30 $\\rightarrow$ NULL\n",
    "\n",
    "\n",
    "- free list is implemented by a seperate linked struct\n",
    "- alternative, use memory blocks to hold list pointers, each block with the next pointer of free memory\n",
    "- each free block gets a header in front of it (linux: 16 bytes)\n",
    "- *next points to the next block in memory"
   ]
  },
  {
   "cell_type": "code",
   "execution_count": null,
   "metadata": {
    "vscode": {
     "languageId": "c"
    }
   },
   "outputs": [],
   "source": [
    "typedef struct __node_t {\n",
    "    int size;\n",
    "    struct __node_t *next;\n",
    "} node_t;"
   ]
  },
  {
   "cell_type": "markdown",
   "metadata": {},
   "source": [
    "- headers is also used for memoryblocks which are in use\n",
    "- free takes an address\n",
    "- malloc saves a header of 16 bytes in front\n",
    "\n",
    "- free"
   ]
  },
  {
   "cell_type": "code",
   "execution_count": null,
   "metadata": {
    "vscode": {
     "languageId": "c"
    }
   },
   "outputs": [],
   "source": [
    "\n",
    "typedef struct header {\n",
    "    int size;\n",
    "    struct magic;\n",
    "} header_t;"
   ]
  },
  {
   "cell_type": "markdown",
   "metadata": {},
   "source": [
    "**Magic Numbers:**\n",
    "- constants\n",
    "- C provides a preprocessor directive (also called a macro) for creating symbolic constants\n",
    "```C\n",
    "# define NAME REPLACEMENT\n",
    "```\n",
    "\n",
    "At the time your program is compiled, #define goes through your code and replaces NAME with REPLACEMENT\n",
    "- #include is analougus with copy paste\n",
    "- #define is then analoguous with find and replace"
   ]
  },
  {
   "cell_type": "markdown",
   "metadata": {},
   "source": [
    "when we call free(), it will check the memory blocks magic number, and check if it matches your computer predefined magic number, to see if it is valid"
   ]
  },
  {
   "cell_type": "markdown",
   "metadata": {},
   "source": [
    "when doing free head must point to a new address, and the new header must point to the earlier thing head pointed to"
   ]
  },
  {
   "cell_type": "markdown",
   "metadata": {},
   "source": [
    "### Stragegies when using malloc(15)\n",
    "head $\\rightarrow$ 10 $\\rightarrow$ 30 $\\rightarrow$ 20 $\\rightarrow$ NULL\n",
    "\n",
    "best fit:\n",
    "- looking for the memory block which fits the best, which would be the last\n",
    "- the whole has to be run\n",
    "- small bits\n",
    "\n",
    "worst fit:\n",
    "- taking the most empty fitting block\n",
    "- the whole has to be run\n",
    "\n",
    "first fit:\n",
    "- taking the fist fit\n",
    "- a lot of small early in list -> sorted is important idk\n",
    "\n",
    "next fit:\n",
    "- we run first fit from whre the last first fit stopped\n",
    "- complicated ig\n",
    "\n",
    "### Buddy allocation\n",
    "- you split the an allocation until it fits your malloc(x)\n",
    "- coalesce is easy, bc if your buddy is also free, then you can just merge\n"
   ]
  },
  {
   "cell_type": "markdown",
   "metadata": {},
   "source": [
    "# Paging\n",
    "\n",
    "\n",
    "- Segmentation uses segments of different sizes, the problem of fragmenting\n",
    "- We instead split up the virutal memory into bites of similar sizing: different paging\n",
    "- physical memory is then splitted up into n many page frames, which can hold a page each.\n",
    "\n",
    "-If we have a free page frame, we are guaranteed that the will fit a frame\n",
    "\n",
    "\n",
    "Each process has a page table:\n",
    "- It will take all the virtual tables and point it to a pageframe\n",
    "\n",
    "Example:\n",
    "- given 6 bit viruell address(2^6=64)\n",
    "- 2 bit page number, 4 bit as offsett, where each page is 16 bytes each\n",
    "\n",
    "Translation:\n",
    "- The offset will be the same\n",
    "- vp1 -> pf7\n",
    "- this will translate the first part to a physical address through the page table\n",
    "  - 01 -> 111 (if vp1 goes to pf7)"
   ]
  },
  {
   "cell_type": "markdown",
   "metadata": {},
   "source": [
    "### How big is a page table?\n",
    "- 32bit = 4GB with memory with 4kB pages\n",
    "- 4kB needs 12 bit for offset => 20 bit VPN:\n",
    "- Given that a system can use 32bit, which means each virtual memory can be addressed by 32 bit, and we use 12 bit for offset, the 20 rest will go to pages. Roughly 1 million pages.\n",
    "- page table then needs at least 4 mb... 1 million pages * 4 bytes (PFN+flags) for each process\n",
    "\n",
    "- page table cannot be saved in MMU -> apart of OSs own memory"
   ]
  },
  {
   "cell_type": "markdown",
   "metadata": {},
   "source": [
    "### Page table: data structure\n",
    "- virtual page number 20 bits\n",
    "- 3 bits for reserved use, and unused\n",
    "- 9 bits for flags\n",
    "  - valid/invalid - valid\n",
    "    - The valid/invalid bit in a page table entry (PTE) is used to indicate whether the page referenced by that entry is currently valid (i.e., mapped to physical memory) or invalid (i.e., not currently mapped to physical memory or not accessible).\n",
    "  - read/write\n",
    "  - user/supervisor"
   ]
  },
  {
   "cell_type": "code",
   "execution_count": null,
   "metadata": {
    "vscode": {
     "languageId": "c"
    }
   },
   "outputs": [],
   "source": [
    "// Extract the VPN from the virtual address\n",
    "unsigned int VPN = (VirtualAddress & VPN_MASK) >> SHIFT;\n",
    "\n",
    "// Form the address of the page-table entry (PTE)\n",
    "unsigned int PTEAddr = PTBR + (VPN * sizeof(PTE));\n",
    "\n",
    "// Fetch the PTE\n",
    "PTE = AccessMemory(PTEAddr);\n",
    "\n",
    "// Check if process can access the page\n",
    "if (PTE.Valid == 0) {\n",
    "    RaiseException(SEGMENTATION_FAULT);\n",
    "}\n",
    "else if (CanAccess(PTE.ProtectBits) == 0) {\n",
    "    RaiseException(PROTECTION_FAULT);\n",
    "}\n",
    "else {\n",
    "    // Access OK: form physical address and fetch it\n",
    "    unsigned int offset = VirtualAddress & OFFSET_MASK;\n",
    "    unsigned int PhysAddr = (PTE.PFN << PFN_SHIFT) | offset;\n",
    "    Register = AccessMemory(PhysAddr);\n",
    "}\n"
   ]
  },
  {
   "cell_type": "markdown",
   "metadata": {},
   "source": [
    "VPN|OFFSET\n",
    "\n",
    "VPN\n",
    "- VPN_MASK = 1111000000000\n",
    "- this is so that only vpn is cared about\n",
    "- shift away the zeroes\n",
    "\n",
    "PTBR is the start point of the page table\n",
    "PTBR + VPN(sizeof*(pte)) will gave the adress where PTE is in the page-table\n",
    "\n",
    "We then need to use accessmemory(PTEaddr) to actually get what is here from memory\n",
    "\n",
    "then it checks if it exist\n",
    "then if we have access\n",
    "\n",
    "we get the offset from virtual address\n",
    "we will use the pfn_shift | offset \n",
    "register can we then get form another accessmemory(physaddr)\n",
    "\n"
   ]
  },
  {
   "cell_type": "markdown",
   "metadata": {},
   "source": [
    "# Faster address translation "
   ]
  },
  {
   "cell_type": "markdown",
   "metadata": {},
   "source": [
    "- Our paging-solution double the memorysize needed: each virtual process needs a lookup in a page table\n",
    "- Hardware support\n",
    "- TLB (translation lookasade buffer) as a part of the MMU\n",
    "- TLB er en cache which is used for address - translations"
   ]
  },
  {
   "cell_type": "code",
   "execution_count": null,
   "metadata": {
    "vscode": {
     "languageId": "c"
    }
   },
   "outputs": [],
   "source": [
    "// Extract the VPN from the virtual address\n",
    "VPN = (VirtualAddress & VPN_MASK) >> SHIFT;\n",
    "\n",
    "// Perform a TLB lookup\n",
    "(Success, TlbEntry) = TLB_Lookup(VPN);\n",
    "\n",
    "if (Success == True) {  // TLB Hit\n",
    "    if (CanAccess(TlbEntry.ProtectBits) == True) {\n",
    "        Offset = VirtualAddress & OFFSET_MASK;\n",
    "        PhysAddr = (TlbEntry.PFN << SHIFT) | Offset;\n",
    "        Register = AccessMemory(PhysAddr);\n",
    "    }\n",
    "    else {\n",
    "        RaiseException(PROTECTION_FAULT);\n",
    "    }\n",
    "} \n",
    "else {  // TLB Miss\n",
    "    PTEAddr = PTBR + (VPN * sizeof(PTE));\n",
    "    PTE = AccessMemory(PTEAddr);\n",
    "\n",
    "    if (PTE.Valid == False) {\n",
    "        RaiseException(SEGMENTATION_FAULT);\n",
    "    }\n",
    "    else if (CanAccess(PTE.ProtectBits) == False) {\n",
    "        RaiseException(PROTECTION_FAULT);\n",
    "    }\n",
    "    else {\n",
    "        // Insert the new entry into the TLB and retry the instruction\n",
    "        TLB_Insert(VPN, PTE.PFN, PTE.ProtectBits);\n",
    "        RetryInstruction();\n",
    "    }\n",
    "}"
   ]
  },
  {
   "cell_type": "markdown",
   "metadata": {},
   "source": [
    "If page is not in cache, it will get it through accessmemory and then place it through TLB"
   ]
  },
  {
   "cell_type": "markdown",
   "metadata": {},
   "source": [
    "The TLB caches recent virtual-to-physical address translations. However, these mappings are typically specific to the currently running process. When a context switch occurs, the TLB entries from the old process become invalid, as the new process will have a different virtual address space and corresponding page table."
   ]
  },
  {
   "cell_type": "markdown",
   "metadata": {},
   "source": [
    "Flush:\n",
    "- The simplest approach is to flush the TLB during a context switch. Flushing means clearing all the entries in the TLB."
   ]
  },
  {
   "cell_type": "markdown",
   "metadata": {
    "vscode": {
     "languageId": "c"
    }
   },
   "source": [
    "Tagged TLBs:\n",
    "- With tagged TLBs, each entry in the TLB is associated with an identifier for the process that created it. This identifier ensures that the TLB can store mappings for multiple processes simultaneously.\n",
    "- the context only changes the process identifier tag"
   ]
  },
  {
   "cell_type": "markdown",
   "metadata": {},
   "source": [
    "array example:\n",
    "\n",
    "- when entry is not in TLB, it will save it there after fetching it\n",
    "- TLB reduced this lookup in memory from 20 to 13\n",
    "\n",
    "\n",
    "|  Address  | Values               | Access Pattern        |\n",
    "|-----------|----------------------|-----------------------|\n",
    "|    05     |                      |                       |\n",
    "|    06     | a[0]   a[1]  a[2]  | miss, hit, hit        |\n",
    "|    07     | a[3]   a[4]  a[5] a[6]  | miss, hit, hit, hit   |\n",
    "|    08     | a[7]   a[8]  a[9]  | miss, hit, hit        |\n",
    "|    09     |                      |                       |\n",
    "|    10     |                      |                       |\n"
   ]
  },
  {
   "cell_type": "markdown",
   "metadata": {},
   "source": [
    "### TLB structure\n",
    "- f.ex ha 32,64, eller 128 elementer\n",
    "- each element is, and has VPN|PFN | flags\n",
    "- TLB lookup searches through all elements\n",
    "\n",
    "How to handle multiple processes, even though we only have on TLB\n",
    "- flush with each context switch, set all to invalid\n",
    "    - can be expensive\n",
    "- or using address space ID:\n",
    "  - mark wich line is the property of each process\n",
    "\n",
    "\n",
    "| VPN | PFN | valid | prot | ASID |\n",
    "|-----|-----|-------|------|------|\n",
    "|  10 | 100 |   1   | rwx  |  1   |\n",
    "|  -- |  -- |   0   |  --  |  --  |\n",
    "|  10 | 170 |   1   | rwx  |  2   |\n",
    "|  -- |  -- |   0   |  --  |  --  |\n"
   ]
  },
  {
   "cell_type": "markdown",
   "metadata": {},
   "source": [
    "### Size of page tables\n",
    "- The array based table structures are big. 4 MB for each page table (4GB physical memory, 4kB pages)\n",
    "- alot of PTE is not used\n",
    "- bigger pages, more intern fragmenting\n",
    "\n",
    "### Multi-level page table: use a tree structure rather than an array\n",
    "- the page table is broken down into pages\n",
    "- new structure\n",
    "- page directory\n",
    "    - points to different pages in memory\n",
    "\n",
    "- doesnt need place for a big array, just reuse the same page structures as memory\n",
    "- better use of space just more steps in the traslation\n",
    "\n",
    "\n",
    "MLPT - eksempel\n",
    "- virtual address space: 16 kB = 2^14 bytes\n",
    "- page size 64b = 2^6\n",
    "- this will include in 258 pages\n",
    "- vpn: 2^8 | offset: 2^6 \n",
    "\n",
    "256 page table entries, needs 1 kB\n",
    "- 1kB is 16 pages -> 16 page tables\n",
    "\n",
    "- VPN 2^8                     | offset 2^6\n",
    "- PD index 2^4 | PT index 2^4 | offset 2^6\n",
    "\n",
    "- Page directory\n",
    "  - will point to \n"
   ]
  },
  {
   "cell_type": "markdown",
   "metadata": {},
   "source": [
    "# Lagring / HDD / files\n",
    "- hullkort\n",
    "\n",
    "- magnet tape\n",
    "- magnet drum\n",
    "- magnetic-core memory\n",
    "- floppy\n",
    "- optical\n",
    "- flash"
   ]
  },
  {
   "cell_type": "markdown",
   "metadata": {},
   "source": [
    "**Copying from memory**\n",
    "- DMA moves to the storagespace\n",
    "\n",
    "Drivere\n",
    "- when calling memory you need to ask kernel which are gonna use drivers to get things of memory ig"
   ]
  },
  {
   "cell_type": "markdown",
   "metadata": {},
   "source": [
    "Hard disk drives (HDD)\n",
    "- spindle (rotates 7200)\n",
    "- platter the magnetisk something\n",
    "- track bevegelig arm with reading head\n",
    "- sector arranged around the tracks\n",
    "\n",
    "\n",
    "HDD timeuse:\n",
    "- seek time\n",
    "  - reading head has to be moved to the right track\n",
    "    - accelerate - coast - decelerate - settle\n",
    "- rotational latency\n",
    "  - has to wait until right sector is rotated under reading head\n",
    "- transfer time\n",
    "\n",
    "Layout\n",
    "- the when reading 1 -12 in outer layer and depending on the rotation it should be possible to go in one layer and immidiatly read from 13 and on\n",
    "\n",
    "\n",
    "HDD cache\n",
    "- will send a message to the I/O that it is done writing when all the data has been send to the HDD cache, and then it will continue to write it into the HDD. \n",
    "- A drawback with this is that if the power goes out, the data can be lost.\n",
    "- Write through <->\n",
    "\n",
    "HDparm\n",
    "- dunno\n"
   ]
  },
  {
   "cell_type": "markdown",
   "metadata": {},
   "source": [
    "# File directory\n",
    "- linux\n",
    "  - one singular root node\n",
    "- windows\n",
    "  - different \"root\" nodes per drive\n",
    "\n",
    "\n",
    "\n",
    "- strace\n",
    "- open(file)\n",
    "- lseek\n",
    "  - changes where it should write\n",
    "- fsync\n",
    "  - \n",
    "- rename"
   ]
  },
  {
   "cell_type": "markdown",
   "metadata": {},
   "source": [
    "- f = open(\"file.txt\", write)\n",
    "- f is a file discriptor, and can be 1, ..., 9"
   ]
  }
 ],
 "metadata": {
  "language_info": {
   "name": "python"
  }
 },
 "nbformat": 4,
 "nbformat_minor": 2
}
