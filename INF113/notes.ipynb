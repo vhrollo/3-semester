{
 "cells": [
  {
   "cell_type": "markdown",
   "metadata": {},
   "source": [
    "### lecture 1 - 22/08/24"
   ]
  },
  {
   "cell_type": "markdown",
   "metadata": {},
   "source": [
    "Skille brukergrensesnitt fra kjernen"
   ]
  },
  {
   "cell_type": "markdown",
   "metadata": {},
   "source": [
    "## abstraksjon\n",
    "\n",
    "- eksempel: programmene må ikke bry seg om hva slags lagring er konblet til maskinen (SSD / HDD / SD-card)\n",
    "- input / print\n",
    "- terminalen er en emulasjon\n",
    "\n",
    "\n",
    "OS presenterer et virtuelt bilde av hardware til programmene\n",
    "- CPU\n",
    "- MINNE\n",
    "- LAGRING\n",
    "\n",
    "\n",
    "Ressursfordeling\n",
    "- kjøre flere programmer \"samtidig på CPU\"\n",
    "- fordele tilgang til minne\n",
    "- fordele tilgang til I/O\n",
    "- må være korrekt / effektivt / lett å bruke\n",
    "\n",
    "Komponenter til et OS\n",
    "- programmer: instrukser\n",
    "- prossesser: kjørende programmer\n",
    "\n",
    "\n",
    "BIOs\n",
    "- kjernen er et av de f;rste programmene som lastes inn når maskinen er på\n",
    "- er bakgrunnen hele tiden\n",
    "- ansvar for ressursforedeling\n",
    "\n",
    "\n",
    "API - application programming interface\n",
    "- C funksjoner som programmer kan bruke for å få en tjeneste fra kjerner\n",
    "- \"system calls\"\n",
    "- f.eks: åpne en fil, reservere plass i minne GNU?\n",
    "\n",
    "Drivers\n",
    "- Drivere er delprogrammer i OS som kjører og interagerer med en spesefikt enhet\n",
    "- f.eks Nvidia og amd\n",
    "- Ny hardware kan kreve installasjon av en tilpasset driver"
   ]
  },
  {
   "cell_type": "markdown",
   "metadata": {},
   "source": [
    "Kommandolinjen / cli\n",
    "- bash\n",
    "- fleksibel interaksjon med alt som OS tilbyr\n",
    "- enkel å automatisere"
   ]
  },
  {
   "cell_type": "markdown",
   "metadata": {},
   "source": [
    "lecture 3 - nice to know"
   ]
  },
  {
   "cell_type": "markdown",
   "metadata": {
    "vscode": {
     "languageId": "plaintext"
    }
   },
   "source": [
    "echo $? for the last returned by exeutable\n",
    "\n",
    "gcc -c for objects files\n",
    "\n",
    "function declarations "
   ]
  },
  {
   "cell_type": "markdown",
   "metadata": {},
   "source": [
    "# lecture 3 - von neumann arkitektur\n",
    "\n",
    "- alu - arithmetic logic uni\n",
    "  - A Bus (variable 1)\n",
    "  - B Bus (variable 2)\n",
    "  - ALU Control Lines (use operation nr n)\n",
    "  - C Bus (output)\n",
    "\n",
    "- minne\n",
    "  - adresse\n",
    "  - en rekke med informasjon\n",
    "  - holds an byte f.ex\n",
    "\n",
    "- hex\n",
    "  - 0000 -> 0110 0010   \n",
    "  - 0x0 -> 0x62\n",
    "\n",
    "  - 0001 -> 1111 0000\n",
    "  - 0x1 -> 0xF0\n",
    "\n",
    "- register\n",
    "  - holder på en bit med minne\n",
    "\n",
    "- FETCH\n",
    "  - last inn instruksen som Instruction Counter (IC) perker på, ok ic\n",
    "\n",
    "- DECODE\n",
    "  - tolke instruksen, beregn adresser som instr. strenger\n",
    "  - move, add compare, jump(endrer IC)\n",
    "\n",
    "- WRITE BACK  \n",
    "  - lagre resultat i registere"
   ]
  },
  {
   "cell_type": "markdown",
   "metadata": {},
   "source": [
    "Opcodes\n",
    "- %rax 64 bit\n",
    "- %eax 32 bit\n",
    "- %ax 16 bit\n",
    "- %ah 8 bit\n",
    "- %al 8 bit"
   ]
  },
  {
   "cell_type": "markdown",
   "metadata": {
    "vscode": {
     "languageId": "plaintext"
    }
   },
   "source": [
    "rax=60 betyr exit()\n",
    "der rdi har returverdier til programmet"
   ]
  },
  {
   "cell_type": "markdown",
   "metadata": {},
   "source": [
    "# lecture 4 - syscalls"
   ]
  },
  {
   "cell_type": "markdown",
   "metadata": {},
   "source": [
    "nm calc.o\n",
    "            U _adder (undifined)\n",
    "            T _start (defined)"
   ]
  },
  {
   "cell_type": "markdown",
   "metadata": {},
   "source": [
    "### Linker tilpasser adressene\n",
    "\n",
    "\n",
    "\n",
    "- call pointer to other func\n",
    "  - it will add a call with current pos + some binary\n",
    "\n",
    "- the linker will add the objects together\n",
    "  - if one object is missing an reference"
   ]
  },
  {
   "cell_type": "markdown",
   "metadata": {},
   "source": [
    "differenct syscalls\n",
    "\n",
    "sys write er syscall 1 => mov $1, %rax\n",
    "\n",
    "unsigned for fd - file descriptor et tall som tilsvarer en åpen fil fra sys open\n",
    "- fd 0 - stdin\n",
    "- fd 1 - stdout\n",
    "- fd 2 - stderr\n",
    "\n",
    "buf - adressen til strengen\n",
    "count - antall bytes"
   ]
  },
  {
   "cell_type": "markdown",
   "metadata": {},
   "source": [
    "sections in asm\n",
    "- data-blokker\n",
    "\n",
    "./calc | xxd for å se det i byte format\n",
    "nm file shows sections\n",
    "\n",
    "strace"
   ]
  },
  {
   "cell_type": "markdown",
   "metadata": {
    "vscode": {
     "languageId": "plaintext"
    }
   },
   "source": [
    "write skriver\n",
    "srt0.S kallar _start main"
   ]
  },
  {
   "cell_type": "markdown",
   "metadata": {},
   "source": [
    "# bruk av systemkall\n",
    "\n",
    "- "
   ]
  },
  {
   "cell_type": "markdown",
   "metadata": {},
   "source": [
    "# lecture 5\n",
    "\n",
    "Program\n",
    "- Sekvens av instrukser\n",
    "\n",
    "Prosess\n",
    "- program under kjøring\n",
    "\n",
    "\n",
    "Time sharing\n",
    "- en CPU kan bare kjøre en prosess om gangen\n",
    "- et avansert OS kan late som at flere prosesser kjører samtidig\n",
    "  - time sharing\n",
    "\n",
    "Context Switch\n",
    "- \"hvordan bytter vi?\"\n",
    "\n",
    "Policy: Scheduling\n",
    "- \"Hvem får kjøre nå?\"\n",
    "\n",
    "En prosess\n",
    "- må lagre staten \"prosess\" fra registrene, %rip (instruks peker)\n",
    "\n",
    "\n",
    "cpu_context\n",
    "- saves the current info in registars to memory for it to be called later\n",
    "\n",
    "Prosesshåndtering\n",
    "- OS må ha mulighet til å håndtere prosesser\n",
    "  - create\n",
    "  - destroy\n",
    "  - stop/resume\n",
    "  - status\n",
    "  - wait for finish\n",
    "\n",
    "Prosess\n",
    "- fork -> new -> ready -(scheduler)> run -(stop/pause)> ready -> run -(exit)> zombie(linux)\n",
    "- run -> wait (for i/o) -> ready\n",
    "\n",
    "Direct execution\n",
    "- Create entry for process list\n",
    "- allocate memory for program\n",
    "- load program into memory\n",
    "- set up stack with argc / argv\n",
    "  - argv arguments\n",
    "  - argc count of argument\n",
    "- clear registers\n",
    "- execute call main()\n",
    "- program\n",
    "  - run main()\n",
    "  - execute return from main\n",
    "- free memory of process\n",
    "- remove from process list\n",
    "\n",
    "user mode / kernel mode switch\n",
    "- vanlige programmer kjører i user mode\n",
    "- systemfunksjoner kun tilgjengelig i kernel mode\n",
    "- \"syscall\"-instr hopper til kernel mode "
   ]
  },
  {
   "cell_type": "markdown",
   "metadata": {},
   "source": [
    "### bytte mellom prosesser cooperative\n",
    "\n",
    "- mens brukerkode kjører får ikke kernel gjøre noe\n",
    "- kernel må ha kontroll for å starte en annen prosess\n",
    "\n",
    "- Mulighet 1\n",
    "  - kan vente til en syscall skjer\n",
    "  - ofte finnes det en \"yield\" syscall som kan brukes\n",
    "  - feil i programmet også gir kontroll til kernel\n",
    "  - user code som aldi kaller syscall får kjøre ubegrenset\n",
    "\n",
    "### bytte mellom prosesser non cooperative\n",
    "\n",
    "- Kernen interupter programmet etter x antall instrukser eller noe lignende\n",
    "- Kan inkludere slik at interupt kan utsettes\n",
    "- interupt skjer jevnlig, og blir som oftest utsatt hvis den allerede holder på med en\n",
    "\n",
    "current running processes\n",
    "- /proc/nr \n",
    "  - status\n",
    "- ps\n",
    "- ps a\n",
    "\n",
    "Context switches\n",
    "- volentary context switches\n",
    "  - syscalls and so on\n",
    "- nonvolentary ----\n",
    "  - forced timer \n",
    "\n",
    "- kill\n",
    "  - -stop\n",
    "  - -cont\n",
    "  - -hup"
   ]
  },
  {
   "cell_type": "markdown",
   "metadata": {},
   "source": [
    "double 1.7×10-308 to 1.7×10+308\n",
    "float 3.4 x 10-38 to 3.4 x 1038"
   ]
  },
  {
   "cell_type": "markdown",
   "metadata": {},
   "source": [
    "# lecture 6\n",
    "\n",
    "Eksempel: user code - libc - kernel\n",
    "#include <fcntl.h>\n",
    "- File f = falesystem->open(path)\n",
    "- if (f-> != current_user)\n",
    "  - return -1;\n",
    "\n",
    "\n",
    "Kun kernel mode får kjøre i k modus\n",
    "- må gjøre en syscall til traptable\n",
    "  - context switch\n",
    "  - for at kernel mode skal sjekke eierskap, og åne\n",
    "  - context switch\n",
    "\n",
    "libc\n",
    "\n",
    "- "
   ]
  },
  {
   "cell_type": "markdown",
   "metadata": {},
   "source": [
    "# lecture 7"
   ]
  },
  {
   "cell_type": "markdown",
   "metadata": {},
   "source": [
    "Scheduler\n",
    "- ppid - parent process id \n",
    "- pid - process id"
   ]
  },
  {
   "cell_type": "markdown",
   "metadata": {},
   "source": [
    "### Schedluling\n",
    "- Process\n",
    "- user mode / kernel mode\n",
    "  - calling systemcalls will switch the \n",
    "- system call\n",
    "- context switch \n",
    "  - pretty expensive\n",
    "\n",
    "PCB (Process Control Block)\n",
    "\n",
    "\n",
    "kernel må ha koontroll for å utføre en context switch. Vi må bytte til kernel mode\n",
    "- interrupt\n",
    "- exception\n",
    "  - hardware level exception is kind of like low level error handling\n",
    "- syscall trap"
   ]
  },
  {
   "cell_type": "markdown",
   "metadata": {},
   "source": [
    "##### Policy\n",
    "- hva skal man måle?\n",
    "  - batch? live time share? mye cpu? mye io?\n",
    "    - metrics turnaround time /wait time / ...\n",
    "\n",
    "- Turnaround\n",
    "  - $f(i) - i(i)$ (finished time - incoming time)\n",
    "\n",
    "  - avg. turnaround can also be used\n",
    "\n",
    "- Response\n",
    "  - $s(i) - i(i)$ (starting time - incoming time)\n"
   ]
  },
  {
   "cell_type": "markdown",
   "metadata": {},
   "source": [
    "Scheduling of incoming tasks\n",
    "- interval scheduling\n",
    "- Shortest to complete first (STCF)\n",
    "  - if time of process is known ahead of time\n",
    "\n",
    "Time Slicing\n",
    "- Hands out f.ex 10 ms at a time \n",
    "- Round Robin\n",
    "\n",
    "I/O begynner Context Switch\n",
    "Når I/O er ferdig switch med en gang eller vent til B er ferdig\n",
    "\n",
    "A: wait for I/O\n",
    "- Run\n",
    "- Ready"
   ]
  },
  {
   "cell_type": "markdown",
   "metadata": {},
   "source": [
    "Multi-Level feedback queue\n",
    "*Optimize the feeback queue*\n",
    "\n",
    "\n",
    "| Priority | Processes | Round Robin |\n",
    "| -------- | -------- | -------- |\n",
    "| High | A,B | ABAB |\n",
    "| Middle |      |  |\n",
    "| Low | C | C |\n",
    "\n",
    "\n",
    "\n",
    "| Priority | Processes | ---      |    |   |    | |\n",
    "| -------- | --------  | -------- |-    |-   |-    | - |\n",
    "| High     | A         |           |    |  B |    | |\n",
    "| Middle   |           | A        |    |   |B    | |\n",
    "| Low      |           |          |A    | |  |ABABA    |\n",
    "\n",
    "\n",
    "- The process gets deprioritized as it uses too much time\n",
    "\n",
    "\n",
    "- trenger prio i lengre avstand\n",
    "  - De kan opprioriters "
   ]
  },
  {
   "cell_type": "markdown",
   "metadata": {},
   "source": [
    "# Completly Fair Scheduler"
   ]
  },
  {
   "cell_type": "markdown",
   "metadata": {},
   "source": [
    "Hver prosess samler opp virtuell kjøretid\n",
    "- vruntime\n",
    "- lavest vruntime bestemmer neste jobb\n",
    "- sched_latency (f.eks 48 ms) / N_queue: time slice til neste switch\n",
    "- min_granularity: (f.eks  6ms) minimum kjøretid\n",
    "\n",
    "- if 3 jobs, then schedule latency is devidid by 3.\n",
    "\n",
    "- minimum granularity\n",
    "  -  the minimum allowed time for a process to run\n",
    "-  the target latency is supposed to be as small as possible \n",
    "   - Theoretically in a mutlitasking system it will be as close to 0"
   ]
  },
  {
   "cell_type": "markdown",
   "metadata": {},
   "source": [
    "Rod-Blck tree: \n",
    "- priority \n",
    "\n",
    "Completely Fair Shceduler\n",
    "- \"nice\" level\n",
    "- each job has its own weight number\n",
    "- time_slice = $\\frac{weight_k}{\\sum{weight_i}} \\cdot$ sched_latency\n",
    "  - that makes it so that jobs with higher weights will run for longer"
   ]
  },
  {
   "cell_type": "markdown",
   "metadata": {},
   "source": [
    "$\\text{vruntime}_i = \\text{vruntime}_i + \\frac{weight_0}{weight_i} \\cdot \\text{runtime}_i$"
   ]
  },
  {
   "cell_type": "markdown",
   "metadata": {},
   "source": [
    "\"nice\" value\n",
    "- value between -20 and 19\n",
    "  - choosing weight\n",
    "  - lower is higher"
   ]
  },
  {
   "cell_type": "markdown",
   "metadata": {},
   "source": [
    "# Minne :D"
   ]
  },
  {
   "cell_type": "markdown",
   "metadata": {},
   "source": [
    "### Memory notation\n",
    "**hex notation**\n",
    "- 0xF $\\rightarrow$\n",
    "\n",
    "### Memory of a function\n",
    "- Code\n",
    "- Globale variables\n",
    "- ...\n",
    "- stack\n",
    "  - local variables to each function\n",
    "\n",
    "\n",
    "Base pointer ( rbp )\n",
    "- pekker til bunnen av stacken\n",
    "Top pointer  ( rsp )\n",
    "- pekker til stoppen av stacken\n",
    "- this is so the heapush ends et the top\n",
    "\n",
    "Assembly example\n",
    "- pushq push to stack queue\n",
    "\n",
    "When calling other functions\n",
    "Rsp\n",
    "- saved rbp when callng another function\n",
    "- ...\n",
    "- rbp\n",
    "\n",
    "in the helper function\n",
    "- pushpq rbp first\n",
    "- popq rbp on the end\n",
    "- places it at the saved rbp\n",
    "\n",
    "Stack frames\n",
    "- A way to frame multiple information data form different functions which is called by other\n"
   ]
  },
  {
   "cell_type": "markdown",
   "metadata": {
    "vscode": {
     "languageId": "plaintext"
    }
   },
   "source": [
    "https://stackoverflow.com/questions/10057443/explain-the-concept-of-a-stack-frame-in-a-nutshell"
   ]
  },
  {
   "cell_type": "markdown",
   "metadata": {
    "vscode": {
     "languageId": "plaintext"
    }
   },
   "source": [
    "address space\n",
    "- virtual space fixxed by the os\n",
    "- heap and stack"
   ]
  },
  {
   "cell_type": "markdown",
   "metadata": {},
   "source": [
    "# Lecture - Memory"
   ]
  },
  {
   "cell_type": "markdown",
   "metadata": {},
   "source": [
    "debugging tools\n",
    "- gdb\n",
    "- valgrind"
   ]
  },
  {
   "cell_type": "markdown",
   "metadata": {},
   "source": [
    "stack\n",
    "- bare verdier som er tilkjent under compilering kommer på stacken.\n",
    "- ikke dynamisk\n",
    "\n",
    "heap\n",
    "- stakken er dynamisk \n",
    "- malloc(size * sizeof(int))\n",
    "  - calloc(size * sizeof(int))\n",
    "    - fills every space up with 0"
   ]
  },
  {
   "cell_type": "markdown",
   "metadata": {
    "vscode": {
     "languageId": "plaintext"
    }
   },
   "source": [
    "gdb\n",
    "- break at line\n",
    "- run\n",
    "- p var a\n",
    "- x examine at memory address\n",
    "- list\n",
    "- p /x\n",
    "- p /h\n",
    "- p /c"
   ]
  },
  {
   "cell_type": "markdown",
   "metadata": {},
   "source": [
    "| **Value** | **Decimal** | **Hex** | **Little Endian** | **Big Endian** |\n",
    "|-----------|-------------|---------|-------------------|----------------|\n",
    "| 1 byte    | 17          | 0x11    | 11                | 11             |\n",
    "| 2 bytes   | 300         | 0x012c  | 2c 01             | 01 2c          |\n",
    "| 4 bytes   | 4045364d    | 0x4045364d | 4d 36 45 40       | 40 45 36 4d    |\n"
   ]
  },
  {
   "cell_type": "markdown",
   "metadata": {},
   "source": [
    "formatting\n",
    "- %x hex\n",
    "\n",
    "x /4xb"
   ]
  }
 ],
 "metadata": {
  "language_info": {
   "name": "python"
  }
 },
 "nbformat": 4,
 "nbformat_minor": 2
}
