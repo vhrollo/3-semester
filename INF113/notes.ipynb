{
 "cells": [
  {
   "cell_type": "markdown",
   "metadata": {},
   "source": [
    "### lecture 1 - 22/08/24"
   ]
  },
  {
   "cell_type": "markdown",
   "metadata": {},
   "source": [
    "Skille brukergrensesnitt fra kjernen"
   ]
  },
  {
   "cell_type": "markdown",
   "metadata": {},
   "source": [
    "## abstraksjon\n",
    "\n",
    "- eksempel: programmene må ikke bry seg om hva slags lagring er konblet til maskinen (SSD / HDD / SD-card)\n",
    "- input / print\n",
    "- terminalen er en emulasjon\n",
    "\n",
    "\n",
    "OS presenterer et virtuelt bilde av hardware til programmene\n",
    "- CPU\n",
    "- MINNE\n",
    "- LAGRING\n",
    "\n",
    "\n",
    "Ressursfordeling\n",
    "- kjøre flere programmer \"samtidig på CPU\"\n",
    "- fordele tilgang til minne\n",
    "- fordele tilgang til I/O\n",
    "- må være korrekt / effektivt / lett å bruke\n",
    "\n",
    "Komponenter til et OS\n",
    "- programmer: instrukser\n",
    "- prossesser: kjørende programmer\n",
    "\n",
    "\n",
    "BIOs\n",
    "- kjernen er et av de f;rste programmene som lastes inn når maskinen er på\n",
    "- er bakgrunnen hele tiden\n",
    "- ansvar for ressursforedeling\n",
    "\n",
    "\n",
    "API - application programming interface\n",
    "- C funksjoner som programmer kan bruke for å få en tjeneste fra kjerner\n",
    "- \"system calls\"\n",
    "- f.eks: åpne en fil, reservere plass i minne GNU?\n",
    "\n",
    "Drivers\n",
    "- Drivere er delprogrammer i OS som kjører og interagerer med en spesefikt enhet\n",
    "- f.eks Nvidia og amd\n",
    "- Ny hardware kan kreve installasjon av en tilpasset driver"
   ]
  },
  {
   "cell_type": "markdown",
   "metadata": {},
   "source": [
    "Kommandolinjen / cli\n",
    "- bash\n",
    "- fleksibel interaksjon med alt som OS tilbyr\n",
    "- enkel å automatisere"
   ]
  },
  {
   "cell_type": "markdown",
   "metadata": {},
   "source": [
    "lecture 3 - nice to know"
   ]
  },
  {
   "cell_type": "markdown",
   "metadata": {
    "vscode": {
     "languageId": "plaintext"
    }
   },
   "source": [
    "echo $? for the last returned by exeutable\n",
    "\n",
    "gcc -c for objects files\n",
    "\n",
    "function declarations "
   ]
  },
  {
   "cell_type": "markdown",
   "metadata": {},
   "source": [
    "# lecture 3 - von neumann arkitektur\n",
    "\n",
    "- alu - arithmetic logic uni\n",
    "  - A Bus (variable 1)\n",
    "  - B Bus (variable 2)\n",
    "  - ALU Control Lines (use operation nr n)\n",
    "  - C Bus (output)\n",
    "\n",
    "- minne\n",
    "  - adresse\n",
    "  - en rekke med informasjon\n",
    "  - holds an byte f.ex\n",
    "\n",
    "- hex\n",
    "  - 0000 -> 0110 0010   \n",
    "  - 0x0 -> 0x62\n",
    "\n",
    "  - 0001 -> 1111 0000\n",
    "  - 0x1 -> 0xF0\n",
    "\n",
    "- register\n",
    "  - holder på en bit med minne\n",
    "\n",
    "- FETCH\n",
    "  - last inn instruksen som Instruction Counter (IC) perker på, ok ic\n",
    "\n",
    "- DECODE\n",
    "  - tolke instruksen, beregn adresser som instr. strenger\n",
    "  - move, add compare, jump(endrer IC)\n",
    "\n",
    "- WRITE BACK  \n",
    "  - lagre resultat i registere"
   ]
  },
  {
   "cell_type": "markdown",
   "metadata": {},
   "source": [
    "Opcodes\n",
    "- %rax 64 bit\n",
    "- %eax 32 bit\n",
    "- %ax 16 bit\n",
    "- %ah 8 bit\n",
    "- %al 8 bit"
   ]
  },
  {
   "cell_type": "markdown",
   "metadata": {
    "vscode": {
     "languageId": "plaintext"
    }
   },
   "source": [
    "rax=60 betyr exit()\n",
    "der rdi har returverdier til programmet"
   ]
  },
  {
   "cell_type": "markdown",
   "metadata": {},
   "source": [
    "# lecture 4 - syscalls"
   ]
  },
  {
   "cell_type": "markdown",
   "metadata": {},
   "source": [
    "nm calc.o\n",
    "            U _adder (undifined)\n",
    "            T _start (defined)"
   ]
  },
  {
   "cell_type": "markdown",
   "metadata": {},
   "source": [
    "### Linker tilpasser adressene\n",
    "\n",
    "\n",
    "\n",
    "- call pointer to other func\n",
    "  - it will add a call with current pos + some binary\n",
    "\n",
    "- the linker will add the objects together\n",
    "  - if one object is missing an reference"
   ]
  },
  {
   "cell_type": "markdown",
   "metadata": {},
   "source": [
    "differenct syscalls\n",
    "\n",
    "sys write er syscall 1 => mov $1, %rax\n",
    "\n",
    "unsigned for fd - file descriptor et tall som tilsvarer en åpen fil fra sys open\n",
    "- fd 0 - stdin\n",
    "- fd 1 - stdout\n",
    "- fd 2 - stderr\n",
    "\n",
    "buf - adressen til strengen\n",
    "count - antall bytes"
   ]
  },
  {
   "cell_type": "markdown",
   "metadata": {},
   "source": [
    "sections in asm\n",
    "- data-blokker\n",
    "\n",
    "./calc | xxd for å se det i byte format\n",
    "nm file shows sections\n",
    "\n",
    "strace"
   ]
  },
  {
   "cell_type": "code",
   "execution_count": null,
   "metadata": {
    "vscode": {
     "languageId": "plaintext"
    }
   },
   "outputs": [],
   "source": [
    "write skriver\n",
    "srt0.S kallar _start main"
   ]
  },
  {
   "cell_type": "markdown",
   "metadata": {},
   "source": [
    "# bruk av systemkall\n",
    "\n",
    "- "
   ]
  },
  {
   "cell_type": "markdown",
   "metadata": {},
   "source": [
    "# lecture 5\n",
    "\n",
    "Program\n",
    "- Sekvens av instrukser\n",
    "\n",
    "Prosess\n",
    "- program under kjøring\n",
    "\n",
    "\n",
    "Time sharing\n",
    "- en CPU kan bare kjøre en prosess om gangen\n",
    "- et avansert OS kan late som at flere prosesser kjører samtidig\n",
    "  - time sharing\n",
    "\n",
    "Context Switch\n",
    "- \"hvordan bytter vi?\"\n",
    "\n",
    "Policy: Scheduling\n",
    "- \"Hvem får kjøre nå?\"\n",
    "\n",
    "En prosess\n",
    "- må lagre staten \"prosess\" fra registrene, %rip (instruks peker)\n",
    "\n",
    "\n",
    "cpu_context\n",
    "- saves the current info in registars to memory for it to be called later\n",
    "\n",
    "Prosesshåndtering\n",
    "- OS må ha mulighet til å håndtere prosesser\n",
    "  - create\n",
    "  - destroy\n",
    "  - stop/resume\n",
    "  - status\n",
    "  - wait for finish\n",
    "\n",
    "Prosess\n",
    "- fork -> new -> ready -(scheduler)> run -(stop/pause)> ready -> run -(exit)> zombie(linux)\n",
    "- run -> wait (for i/o) -> ready\n",
    "\n",
    "Direct execution\n",
    "- Create entry for process list\n",
    "- allocate memory for program\n",
    "- load program into memory\n",
    "- set up stack with argc / argv\n",
    "  - argv arguments\n",
    "  - argc count of argument\n",
    "- clear registers\n",
    "- execute call main()\n",
    "- program\n",
    "  - run main()\n",
    "  - execute return from main\n",
    "- free memory of process\n",
    "- remove from process list\n",
    "\n",
    "user mode / kernel mode switch\n",
    "- vanlige programmer kjører i user mode\n",
    "- systemfunksjoner kun tilgjengelig i kernel mode\n",
    "- \"syscall\"-instr hopper til kernel mode "
   ]
  },
  {
   "cell_type": "markdown",
   "metadata": {},
   "source": [
    "### bytte mellom prosesser cooperative\n",
    "\n",
    "- mens brukerkode kjører får ikke kernel gjøre noe\n",
    "- kernel må ha kontroll for å starte en annen prosess\n",
    "\n",
    "- Mulighet 1\n",
    "  - kan vente til en syscall skjer\n",
    "  - ofte finnes det en \"yield\" syscall som kan brukes\n",
    "  - feil i programmet også gir kontroll til kernel\n",
    "  - user code som aldi kaller syscall får kjøre ubegrenset\n",
    "\n",
    "### bytte mellom prosesser non cooperative\n",
    "\n",
    "- Kernen interupter programmet etter x antall instrukser eller noe lignende\n",
    "- Kan inkludere slik at interupt kan utsettes\n",
    "- interupt skjer jevnlig, og blir som oftest utsatt hvis den allerede holder på med en\n",
    "\n",
    "current running processes\n",
    "- /proc/nr \n",
    "  - status\n",
    "- ps\n",
    "- ps a\n",
    "\n",
    "Context switches\n",
    "- volentary context switches\n",
    "  - syscalls and so on\n",
    "- nonvolentary ----\n",
    "  - forced timer \n",
    "\n",
    "- kill\n",
    "  - -stop\n",
    "  - -cont\n",
    "  - -hup"
   ]
  }
 ],
 "metadata": {
  "language_info": {
   "name": "python"
  }
 },
 "nbformat": 4,
 "nbformat_minor": 2
}
