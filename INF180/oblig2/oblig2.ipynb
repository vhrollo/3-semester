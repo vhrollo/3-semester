{
 "cells": [
  {
   "cell_type": "code",
   "execution_count": 54,
   "metadata": {},
   "outputs": [],
   "source": [
    "import pandas as pd\n",
    "from sklearn.model_selection import train_test_split\n",
    "from sklearn.neighbors import KNeighborsClassifier\n",
    "from sklearn.linear_model import LogisticRegression\n",
    "from sklearn.tree import DecisionTreeClassifier\n",
    "from sklearn.metrics import accuracy_score"
   ]
  },
  {
   "cell_type": "code",
   "execution_count": 55,
   "metadata": {},
   "outputs": [],
   "source": [
    "seed = 42"
   ]
  },
  {
   "cell_type": "code",
   "execution_count": 56,
   "metadata": {},
   "outputs": [],
   "source": [
    "df = pd.read_csv('party_data.csv', sep=',', header=0)\n",
    "X = pd.get_dummies(df.iloc[:, :-1])\n",
    "y = pd.get_dummies(df.iloc[:, -1], drop_first=True)"
   ]
  },
  {
   "cell_type": "code",
   "execution_count": 57,
   "metadata": {},
   "outputs": [],
   "source": [
    "X_train, X_test, y_train, y_test = train_test_split(X, y, test_size=0.2, random_state=seed)"
   ]
  },
  {
   "cell_type": "code",
   "execution_count": 58,
   "metadata": {},
   "outputs": [
    {
     "name": "stdout",
     "output_type": "stream",
     "text": [
      "KNN with k=3 accuracy: 0.685\n",
      "KNN with k=5 accuracy: 0.72\n",
      "KNN with k=11 accuracy: 0.77\n",
      "KNN with k=17 accuracy: 0.75\n"
     ]
    }
   ],
   "source": [
    "# KNN\n",
    "ks = [3,5,11,17]\n",
    "for k in ks:\n",
    "    knn = KNeighborsClassifier(n_neighbors=k)\n",
    "    knn.fit(X_train, y_train.values.ravel())\n",
    "    y_pred = knn.predict(X_test)\n",
    "    print(f'KNN with k={k} accuracy: {accuracy_score(y_test, y_pred)}') "
   ]
  },
  {
   "cell_type": "code",
   "execution_count": 59,
   "metadata": {},
   "outputs": [
    {
     "name": "stdout",
     "output_type": "stream",
     "text": [
      "Logistic Regression with penalty=l2 accuracy: 0.695\n",
      "Logistic Regression with penalty=None accuracy: 0.68\n"
     ]
    }
   ],
   "source": [
    "# Logistic Regression\n",
    "penalty = ['l2', None]\n",
    "for o in penalty:\n",
    "    log_reg = LogisticRegression(penalty=o)\n",
    "    log_reg.fit(X_train, y_train.values.ravel())\n",
    "    y_pred = log_reg.predict(X_test)\n",
    "    print(f'Logistic Regression with penalty={o} accuracy: {accuracy_score(y_test, y_pred)}')"
   ]
  },
  {
   "cell_type": "code",
   "execution_count": 60,
   "metadata": {},
   "outputs": [
    {
     "name": "stdout",
     "output_type": "stream",
     "text": [
      "Decision Tree with criterion=gini accuracy: 0.65\n",
      "Decision Tree with criterion=entropy accuracy: 0.655\n"
     ]
    }
   ],
   "source": [
    "# Decision Tree\n",
    "criteria = ['gini', 'entropy']\n",
    "for c in criteria:\n",
    "    dt = DecisionTreeClassifier(criterion=c)\n",
    "    dt.fit(X_train, y_train.values.ravel())\n",
    "    y_pred = dt.predict(X_test)\n",
    "    print(f'Decision Tree with criterion={c} accuracy: {accuracy_score(y_test, y_pred)}')\n"
   ]
  }
 ],
 "metadata": {
  "kernelspec": {
   "display_name": "usr",
   "language": "python",
   "name": "python3"
  },
  "language_info": {
   "codemirror_mode": {
    "name": "ipython",
    "version": 3
   },
   "file_extension": ".py",
   "mimetype": "text/x-python",
   "name": "python",
   "nbconvert_exporter": "python",
   "pygments_lexer": "ipython3",
   "version": "3.11.2"
  }
 },
 "nbformat": 4,
 "nbformat_minor": 2
}
