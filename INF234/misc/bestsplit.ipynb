{
 "cells": [
  {
   "cell_type": "code",
   "execution_count": 2,
   "metadata": {},
   "outputs": [
    {
     "name": "stdout",
     "output_type": "stream",
     "text": [
      "[-1, 0, 0, 2, 0, 4, 4, 4, 6, 6, 6, 6]\n",
      "Segmentation: ['meet', 'at', 'eight'], Total Quality: 23\n"
     ]
    }
   ],
   "source": [
    "def segment_string(y, quality):\n",
    "    n = len(y)\n",
    "    # dp[i] will store the maximum quality up to index i\n",
    "    dp = [-float('inf')] * (n + 1)\n",
    "    dp[0] = 0  # Base case: no quality for empty string\n",
    "    \n",
    "    # To reconstruct the segmentation, we'll track the best partition points\n",
    "    prev = [-1] * (n + 1)\n",
    "    \n",
    "    # Iterate over all positions i in the string\n",
    "    for i in range(1, n + 1):\n",
    "        # Try all possible previous positions j\n",
    "        for j in range(i):\n",
    "            word = y[j:i]\n",
    "            # Calculate the quality of the substring y[j:i]\n",
    "            word_quality = quality(word)\n",
    "            if dp[j] + word_quality > dp[i]:\n",
    "                dp[i] = dp[j] + word_quality\n",
    "                prev[i] = j  # Record where the optimal partition happens\n",
    "    \n",
    "    # Backtrack to find the optimal segmentation\n",
    "    segments = []\n",
    "    i = n\n",
    "    while i > 0:\n",
    "        j = prev[i]\n",
    "        segments.append(y[j:i])\n",
    "        i = j\n",
    "    \n",
    "    # Since we backtracked, reverse the segments to get the correct order\n",
    "    segments.reverse()\n",
    "    \n",
    "    # Return the segmentation and the maximum total quality\n",
    "    print(prev)\n",
    "    return segments, dp[n]\n",
    "\n",
    "# Example usage:\n",
    "# Define a mock quality function\n",
    "def mock_quality(word):\n",
    "    # For simplicity, assume longer words have higher quality\n",
    "    word_dict = {'meet': 10, 'at': 5, 'eight': 8, 'me': 2, 'et': -1, 'ate': 3, 'ight': -2}\n",
    "    return word_dict.get(word, -5)  # Default quality for unknown words\n",
    "\n",
    "# Test the segmentation\n",
    "y = \"meetateight\"\n",
    "segmentation, total_quality = segment_string(y, mock_quality)\n",
    "print(f\"Segmentation: {segmentation}, Total Quality: {total_quality}\")\n"
   ]
  },
  {
   "cell_type": "code",
   "execution_count": 3,
   "metadata": {},
   "outputs": [
    {
     "name": "stdout",
     "output_type": "stream",
     "text": [
      "['i', 'am', 'a', 'boy'] 11\n"
     ]
    }
   ],
   "source": [
    "def segment_word(word: str, word_dict: dict):\n",
    "    n = len(word)\n",
    "    dp = [-float('inf')] * (n + 1)\n",
    "    dp[0] = 0\n",
    "    prev = [-1] * (n + 1)\n",
    "\n",
    "    for i in range(1, n + 1):\n",
    "        for j in range(i):\n",
    "            if word[j:i] in word_dict:\n",
    "                quality = word_dict[word[j:i]]\n",
    "            else:\n",
    "                quality = -5\n",
    "\n",
    "            if dp[j] + quality > dp[i]:\n",
    "                dp[i] = dp[j] + quality\n",
    "                prev[i] = j\n",
    "\n",
    "    segments = []\n",
    "    i = n\n",
    "    while i > 0:\n",
    "        j = prev[i]\n",
    "        segments.append(word[j:i])\n",
    "        i = j\n",
    "    \n",
    "    segments.reverse()\n",
    "    return segments, dp[n]\n",
    "    \n",
    "\n",
    "\n",
    "\n",
    "word = \"iamaboy\"\n",
    "word_dict = {'i': 1, 'am': 5, 'a':2, \"boy\": 3}\n",
    "segmentation, total_quality = segment_word(word, word_dict)\n",
    "print(segmentation, total_quality)\n"
   ]
  }
 ],
 "metadata": {
  "kernelspec": {
   "display_name": "Python 3",
   "language": "python",
   "name": "python3"
  },
  "language_info": {
   "codemirror_mode": {
    "name": "ipython",
    "version": 3
   },
   "file_extension": ".py",
   "mimetype": "text/x-python",
   "name": "python",
   "nbconvert_exporter": "python",
   "pygments_lexer": "ipython3",
   "version": "3.11.4"
  }
 },
 "nbformat": 4,
 "nbformat_minor": 2
}
