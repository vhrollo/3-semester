{
 "cells": [
  {
   "cell_type": "code",
   "execution_count": 1,
   "metadata": {},
   "outputs": [
    {
     "data": {
      "text/plain": [
       "3"
      ]
     },
     "execution_count": 1,
     "metadata": {},
     "output_type": "execute_result"
    }
   ],
   "source": [
    "def edit(X, Y):\n",
    "    OPT = {}\n",
    "    lx = len(X)\n",
    "    ly = len(Y)\n",
    "    for i in range(lx + 1):\n",
    "        for j in range(ly + 1):\n",
    "            if i == 0 or j == 0:\n",
    "                OPT[(i,j)] = max(i,j)\n",
    "            elif X[i-1] == Y[j-1]:\n",
    "                OPT[(i,j)] = OPT[(i-1,j-1)]\n",
    "            else:\n",
    "                OPT[(i,j)] = 1 + min(\n",
    "                    [\n",
    "                        OPT[(i-1, j  )],\n",
    "                        OPT[(i  , j-1)],\n",
    "                        OPT[(i-1, j-1)],\n",
    "                    ]\n",
    "                )\n",
    "    return OPT[(lx,ly)]\n",
    "\n",
    "\n",
    "edit(\"kitten\", \"sitting\")"
   ]
  }
 ],
 "metadata": {
  "kernelspec": {
   "display_name": "Python 3",
   "language": "python",
   "name": "python3"
  },
  "language_info": {
   "codemirror_mode": {
    "name": "ipython",
    "version": 3
   },
   "file_extension": ".py",
   "mimetype": "text/x-python",
   "name": "python",
   "nbconvert_exporter": "python",
   "pygments_lexer": "ipython3",
   "version": "3.11.4"
  }
 },
 "nbformat": 4,
 "nbformat_minor": 2
}
