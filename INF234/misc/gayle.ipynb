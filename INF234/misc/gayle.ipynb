{
 "cells": [
  {
   "cell_type": "code",
   "execution_count": 5,
   "metadata": {},
   "outputs": [
    {
     "name": "stdout",
     "output_type": "stream",
     "text": [
      "Final Matching:\n",
      "Hospital h1 is matched with Student s1\n",
      "Hospital h2 is matched with Student s2\n",
      "Hospital h3 is matched with Student s3\n"
     ]
    }
   ],
   "source": [
    "def stable_matching(hospitals_prefs, students_prefs):\n",
    "    unmatched = list(hospitals_prefs)\n",
    "    proposals = {h: iter(hospitals_prefs[h]) for h in hospitals_prefs}\n",
    "    matches = {}\n",
    "\n",
    "    while unmatched:\n",
    "        h = unmatched.pop(0)\n",
    "        try:\n",
    "            s = next(proposals[h])\n",
    "            if s not in matches:\n",
    "                matches[s] = h\n",
    "            else:\n",
    "                h_prime = matches[s]\n",
    "                if students_prefs[s].index(h) < students_prefs[s].index(h_prime):\n",
    "                    matches[s] = h\n",
    "                    unmatched.append(h_prime)\n",
    "                else:\n",
    "                    unmatched.append(h)\n",
    "        except StopIteration:\n",
    "            continue\n",
    "\n",
    "    return [(h, s) for s, h in matches.items()]\n",
    "\n",
    "# Example usage:\n",
    "hospitals_prefs = {\n",
    "    'h1': ['s1', 's2', 's3', 's4'],\n",
    "    'h2': ['s2', 's3', 's1', 's4'],\n",
    "    'h3': ['s3', 's1', 's2', 's4'],\n",
    "}\n",
    "\n",
    "students_prefs = {\n",
    "    's1': ['h2', 'h1', 'h3'],\n",
    "    's2': ['h1', 'h3', 'h2'],\n",
    "    's3': ['h3', 'h2', 'h1'],\n",
    "    's4': ['h1', 'h3', 'h2'],\n",
    "}\n",
    "\n",
    "matching = stable_matching(hospitals_prefs, students_prefs)\n",
    "print(\"Final Matching:\")\n",
    "for h, s in matching:\n",
    "    print(f\"Hospital {h} is matched with Student {s}\")"
   ]
  }
 ],
 "metadata": {
  "kernelspec": {
   "display_name": "usr",
   "language": "python",
   "name": "python3"
  },
  "language_info": {
   "codemirror_mode": {
    "name": "ipython",
    "version": 3
   },
   "file_extension": ".py",
   "mimetype": "text/x-python",
   "name": "python",
   "nbconvert_exporter": "python",
   "pygments_lexer": "ipython3",
   "version": "3.11.2"
  }
 },
 "nbformat": 4,
 "nbformat_minor": 2
}
