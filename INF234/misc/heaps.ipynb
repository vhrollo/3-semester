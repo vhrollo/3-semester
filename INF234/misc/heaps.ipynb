{
 "cells": [
  {
   "cell_type": "code",
   "execution_count": 6,
   "metadata": {},
   "outputs": [
    {
     "name": "stdout",
     "output_type": "stream",
     "text": [
      "[0, 3, 1, 15, 5, 2]\n",
      "0\n",
      "[1, 3, 2, 15, 5]\n"
     ]
    }
   ],
   "source": [
    "class MinHeap:\n",
    "    def __init__(self):\n",
    "        self.heap = []\n",
    "\n",
    "    def parent(self, i):\n",
    "        return (i - 1) // 2\n",
    "\n",
    "    def left(self, i):\n",
    "        return 2 * i + 1\n",
    "\n",
    "    def right(self, i):\n",
    "        return 2 * i + 2\n",
    "\n",
    "    def insert(self, value):\n",
    "        self.heap.append(value)\n",
    "        self._heapify_up(len(self.heap) - 1)\n",
    "    \n",
    "    def extract_min(self):\n",
    "        if len(self.heap) == 0:\n",
    "            return None\n",
    "        if len(self.heap) == 1:\n",
    "            return self.heap.pop()\n",
    "        \n",
    "        root = self.heap[0]\n",
    "        self.heap[0] = self.heap.pop()\n",
    "        self._heapify_down(0)\n",
    "        return root\n",
    "\n",
    "    def _heapify_down(self, i):\n",
    "        left = self.left(i)\n",
    "        right = self.right(i)\n",
    "        smallest = i\n",
    "\n",
    "        if left < len(self.heap) and self.heap[left] < self.heap[i]:\n",
    "            smallest = left\n",
    "        if right < len(self.heap) and self.heap[right] < self.heap[smallest]:\n",
    "            smallest = right\n",
    "        if smallest != i:\n",
    "            self.heap[i], self.heap[smallest] = self.heap[smallest], self.heap[i]\n",
    "            self._heapify_down(smallest)\n",
    "\n",
    "    def _heapify_up(self, i):\n",
    "        while i != 0 and self.heap[self.parent(i)] > self.heap[i]:\n",
    "            self.heap[self.parent(i)], self.heap[i] = self.heap[i], self.heap[self.parent(i)]\n",
    "            i = self.parent(i)\n",
    "\n",
    "\n",
    "heap = MinHeap()\n",
    "heap.insert(3)\n",
    "heap.insert(2)\n",
    "heap.insert(1)\n",
    "heap.insert(15)\n",
    "heap.insert(5)\n",
    "heap.insert(0)\n",
    "\n",
    "print(heap.heap)\n",
    "print(heap.extract_min())\n",
    "print(heap.heap)"
   ]
  },
  {
   "cell_type": "code",
   "execution_count": 3,
   "metadata": {},
   "outputs": [
    {
     "data": {
      "text/plain": [
       "1"
      ]
     },
     "execution_count": 3,
     "metadata": {},
     "output_type": "execute_result"
    }
   ],
   "source": [
    "(3 - 1 ) //2"
   ]
  }
 ],
 "metadata": {
  "kernelspec": {
   "display_name": "usr",
   "language": "python",
   "name": "python3"
  },
  "language_info": {
   "codemirror_mode": {
    "name": "ipython",
    "version": 3
   },
   "file_extension": ".py",
   "mimetype": "text/x-python",
   "name": "python",
   "nbconvert_exporter": "python",
   "pygments_lexer": "ipython3",
   "version": "3.11.2"
  }
 },
 "nbformat": 4,
 "nbformat_minor": 2
}
