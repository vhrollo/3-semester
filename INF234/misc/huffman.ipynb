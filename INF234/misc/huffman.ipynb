{
 "cells": [
  {
   "cell_type": "code",
   "execution_count": 12,
   "metadata": {},
   "outputs": [
    {
     "ename": "TypeError",
     "evalue": "'<' not supported between instances of 'tuple' and 'str'",
     "output_type": "error",
     "traceback": [
      "\u001b[1;31m---------------------------------------------------------------------------\u001b[0m",
      "\u001b[1;31mTypeError\u001b[0m                                 Traceback (most recent call last)",
      "Cell \u001b[1;32mIn[12], line 28\u001b[0m\n\u001b[0;32m     23\u001b[0m text \u001b[38;5;241m=\u001b[39m \u001b[38;5;124m\"\u001b[39m\u001b[38;5;124mhello\u001b[39m\u001b[38;5;124m\"\u001b[39m\n\u001b[0;32m     26\u001b[0m freqs \u001b[38;5;241m=\u001b[39m Counter(text)\n\u001b[1;32m---> 28\u001b[0m \u001b[38;5;28mprint\u001b[39m(\u001b[43mhuffman\u001b[49m\u001b[43m(\u001b[49m\u001b[43mfreqs\u001b[49m\u001b[43m)\u001b[49m)\n",
      "Cell \u001b[1;32mIn[12], line 7\u001b[0m, in \u001b[0;36mhuffman\u001b[1;34m(freqs)\u001b[0m\n\u001b[0;32m      5\u001b[0m heapify(Q)\n\u001b[0;32m      6\u001b[0m \u001b[38;5;28;01mwhile\u001b[39;00m \u001b[38;5;28mlen\u001b[39m(Q) \u001b[38;5;241m>\u001b[39m\u001b[38;5;241m=\u001b[39m \u001b[38;5;241m2\u001b[39m:\n\u001b[1;32m----> 7\u001b[0m     f1, v1 \u001b[38;5;241m=\u001b[39m \u001b[43mheappop\u001b[49m\u001b[43m(\u001b[49m\u001b[43mQ\u001b[49m\u001b[43m)\u001b[49m\n\u001b[0;32m      8\u001b[0m     f2, v2 \u001b[38;5;241m=\u001b[39m heappop(Q)\n\u001b[0;32m      9\u001b[0m     f \u001b[38;5;241m=\u001b[39m f1 \u001b[38;5;241m+\u001b[39m f2\n",
      "\u001b[1;31mTypeError\u001b[0m: '<' not supported between instances of 'tuple' and 'str'"
     ]
    }
   ],
   "source": [
    "from heapq import heapify, heappop, heappush\n",
    "from collections import Counter\n",
    "def huffman(freqs):\n",
    "    Q = [(f,s) for (s,f) in freqs.items()]\n",
    "    heapify(Q)\n",
    "    while len(Q) >= 2:\n",
    "        f1, v1 = heappop(Q)\n",
    "        f2, v2 = heappop(Q)\n",
    "        f = f1 + f2\n",
    "        v = (v1, v2)\n",
    "        heappush(Q, (f,v))\n",
    "\n",
    "    return heappop(Q)[1]\n",
    "        \n",
    "\n",
    "def traverse(T, prefix=\"\"):\n",
    "    if isinstance(T, str):\n",
    "        yield (T, prefix)\n",
    "        return\n",
    "    yield from traverse(T[0], prefix + \"0\")\n",
    "    yield from traverse(T[1], prefix + \"1\")\n",
    "\n",
    "text = \"hello\"\n",
    "\n",
    "\n",
    "freqs = Counter(text)\n",
    "\n",
    "print(huffman(freqs))"
   ]
  }
 ],
 "metadata": {
  "kernelspec": {
   "display_name": "Python 3",
   "language": "python",
   "name": "python3"
  },
  "language_info": {
   "codemirror_mode": {
    "name": "ipython",
    "version": 3
   },
   "file_extension": ".py",
   "mimetype": "text/x-python",
   "name": "python",
   "nbconvert_exporter": "python",
   "pygments_lexer": "ipython3",
   "version": "3.11.4"
  }
 },
 "nbformat": 4,
 "nbformat_minor": 2
}
