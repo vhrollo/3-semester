{
 "cells": [
  {
   "cell_type": "code",
   "execution_count": 15,
   "metadata": {},
   "outputs": [
    {
     "data": {
      "text/plain": [
       "14"
      ]
     },
     "execution_count": 15,
     "metadata": {},
     "output_type": "execute_result"
    }
   ],
   "source": [
    "A = [1,8,6,3,6]\n",
    "\n",
    "def compute_P(A, n):\n",
    "\tif n < 0:\n",
    "\t\treturn 0\n",
    "\tif d[n] == None:\n",
    "\t\td[n] = max(A[n] + compute_P(A, n-2), compute_P(A, n-1))\n",
    "\treturn d[n]\n",
    "\t\n",
    "n = len(A) - 1\n",
    "d = [None] * (n + 1)\n",
    "compute_P(A, n)"
   ]
  },
  {
   "cell_type": "code",
   "execution_count": 16,
   "metadata": {},
   "outputs": [
    {
     "data": {
      "text/plain": [
       "[6, 8]"
      ]
     },
     "execution_count": 16,
     "metadata": {},
     "output_type": "execute_result"
    }
   ],
   "source": [
    "A = [1,8,6,3,6]\n",
    "\n",
    "def compute_P(A, n):\n",
    "\tif n < 0:\n",
    "\t\treturn []\n",
    "\tif d[n] == None:\n",
    "\t\tl1 = [A[n]] + compute_P(A, n-2)\n",
    "\t\tl2 = compute_P(A, n-1)\n",
    "\t  \n",
    "\t\tif sum(l1) > sum(l2):\n",
    "\t\t\td[n] = l1\n",
    "\t\telse:\n",
    "\t\t\td[n] = l2\n",
    "\treturn d[n]\n",
    "\t\n",
    "n = len(A) - 1\n",
    "d = [None] * (n + 1)\n",
    "compute_P(A, n)"
   ]
  }
 ],
 "metadata": {
  "kernelspec": {
   "display_name": "usr",
   "language": "python",
   "name": "python3"
  },
  "language_info": {
   "codemirror_mode": {
    "name": "ipython",
    "version": 3
   },
   "file_extension": ".py",
   "mimetype": "text/x-python",
   "name": "python",
   "nbconvert_exporter": "python",
   "pygments_lexer": "ipython3",
   "version": "3.11.2"
  }
 },
 "nbformat": 4,
 "nbformat_minor": 2
}
