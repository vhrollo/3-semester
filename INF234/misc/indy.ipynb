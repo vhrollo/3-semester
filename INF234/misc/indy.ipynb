{
 "cells": [
  {
   "cell_type": "code",
   "execution_count": 5,
   "metadata": {},
   "outputs": [
    {
     "name": "stdout",
     "output_type": "stream",
     "text": [
      "[0, 1, 1, 1, 2]\n"
     ]
    }
   ],
   "source": [
    "A = [1,8,6,3,6]\n",
    "\n",
    "def compute_P(A, n):\n",
    "    for i in range(1, n + 1):\n",
    "        d[i] = max(d[i - 1], A[i] + d[i - 2])\n",
    "\n",
    "n = len(A) - 1\n",
    "d = [0] * (n + 1)\n",
    "compute_P(A, n)\n",
    "print(d)\n"
   ]
  }
 ],
 "metadata": {
  "kernelspec": {
   "display_name": "usr",
   "language": "python",
   "name": "python3"
  },
  "language_info": {
   "codemirror_mode": {
    "name": "ipython",
    "version": 3
   },
   "file_extension": ".py",
   "mimetype": "text/x-python",
   "name": "python",
   "nbconvert_exporter": "python",
   "pygments_lexer": "ipython3",
   "version": "3.11.2"
  }
 },
 "nbformat": 4,
 "nbformat_minor": 2
}
