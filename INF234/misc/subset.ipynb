{
 "cells": [
  {
   "cell_type": "markdown",
   "metadata": {},
   "source": [
    "# subset algo\n"
   ]
  },
  {
   "cell_type": "code",
   "execution_count": 1,
   "metadata": {},
   "outputs": [
    {
     "ename": "NameError",
     "evalue": "name 'elements' is not defined",
     "output_type": "error",
     "traceback": [
      "\u001b[1;31m---------------------------------------------------------------------------\u001b[0m",
      "\u001b[1;31mNameError\u001b[0m                                 Traceback (most recent call last)",
      "Cell \u001b[1;32mIn[1], line 31\u001b[0m\n\u001b[0;32m     28\u001b[0m     \u001b[38;5;28mprint\u001b[39m(OPT)\n\u001b[0;32m     29\u001b[0m     \u001b[38;5;28;01mreturn\u001b[39;00m val\n\u001b[1;32m---> 31\u001b[0m subset(\u001b[43melements\u001b[49m, weight)\n",
      "\u001b[1;31mNameError\u001b[0m: name 'elements' is not defined"
     ]
    }
   ],
   "source": [
    "import numpy as np\n",
    "def subset(elements: list, weight: int):\n",
    "    def rec(i: int, w: int):\n",
    "        if i == 0:\n",
    "            if w == 0:\n",
    "                return 0  \n",
    "            else:\n",
    "                return 0\n",
    "\n",
    "        el = elements[i]\n",
    "\n",
    "        if el > w + 1:\n",
    "            return 0\n",
    "\n",
    "        if OPT[i-1, w] == 0:\n",
    "            OPT[i-1, w] = rec(i-1, w)\n",
    "\n",
    "        if OPT[i-1, w-el] == 0:\n",
    "            OPT[i-1, w-el] = rec(i-1, w-el)\n",
    "\n",
    "        OPT[i, w] = max(OPT[i-1, w], el + OPT[i-1, w-el])\n",
    "        return OPT[i, w]\n",
    "\n",
    "    length = len(elements)\n",
    "    OPT = np.zeros((length+1, weight))  # Adjusted the dimensions of OPT\n",
    "    val = rec(length-1, weight-1)\n",
    "    print(OPT)\n",
    "    return val\n",
    "\n",
    "\n",
    "elements = [1, 2, 3, 4]\n",
    "weight = 8\n",
    "\n",
    "subset(elements, weight)"
   ]
  },
  {
   "cell_type": "code",
   "execution_count": 2,
   "metadata": {},
   "outputs": [
    {
     "name": "stdout",
     "output_type": "stream",
     "text": [
      "[[  0.   1. -inf -inf -inf -inf -inf   0. -inf]\n",
      " [  0.   0.   0.   0. -inf -inf   0.   0. -inf]\n",
      " [  0.   0.   0.   0.   4.   0.   0.   0. -inf]\n",
      " [  0.   0.   0.   0.   0.   0.   0.   0.   8.]]\n",
      "Max subset sum: 8.0\n"
     ]
    }
   ],
   "source": [
    "import numpy as np\n",
    "\n",
    "def subset(elements: list, weight: int):\n",
    "    def rec(i: int, w: int):\n",
    "        if i < 0:\n",
    "            return 0 if w == 0 else float('-inf')  # Return negative infinity if no valid subset is found\n",
    "\n",
    "        el = elements[i]\n",
    "\n",
    "        if el > w:\n",
    "            return rec(i-1, w)  # Skip this element if it's larger than the current weight\n",
    "\n",
    "        if OPT[i, w] == 0:  # Memoization step\n",
    "            OPT[i, w] = max(rec(i-1, w), el + rec(i-1, w-el))\n",
    "\n",
    "        return OPT[i, w]\n",
    "\n",
    "    length = len(elements)\n",
    "    OPT = np.zeros((length, weight + 1))  # OPT needs to handle full weight capacity\n",
    "\n",
    "    val = rec(length-1, weight)  # Start from the last element and full weight\n",
    "    print(OPT)\n",
    "    return val\n",
    "\n",
    "elements = [1, 2, 3, 4]\n",
    "weight = 8\n",
    "\n",
    "result = subset(elements, weight)\n",
    "print(\"Max subset sum:\", result)\n"
   ]
  }
 ],
 "metadata": {
  "kernelspec": {
   "display_name": "Python 3",
   "language": "python",
   "name": "python3"
  },
  "language_info": {
   "codemirror_mode": {
    "name": "ipython",
    "version": 3
   },
   "file_extension": ".py",
   "mimetype": "text/x-python",
   "name": "python",
   "nbconvert_exporter": "python",
   "pygments_lexer": "ipython3",
   "version": "3.11.4"
  }
 },
 "nbformat": 4,
 "nbformat_minor": 2
}
