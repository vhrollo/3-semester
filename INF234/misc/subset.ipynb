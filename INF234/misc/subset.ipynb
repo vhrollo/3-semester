{
 "cells": [
  {
   "cell_type": "markdown",
   "metadata": {},
   "source": [
    "# subset algo\n"
   ]
  },
  {
   "cell_type": "code",
   "execution_count": 18,
   "metadata": {},
   "outputs": [
    {
     "name": "stdout",
     "output_type": "stream",
     "text": [
      "[[  0. -inf   0. -inf   0. -inf   0. -inf]\n",
      " [  0.   0.   0. -inf   0.   0.   0. -inf]\n",
      " [  0.   0.   0.   0.   0.   0.   0. -inf]]\n"
     ]
    },
    {
     "data": {
      "text/plain": [
       "-inf"
      ]
     },
     "execution_count": 18,
     "metadata": {},
     "output_type": "execute_result"
    }
   ],
   "source": [
    "import numpy as np\n",
    "def subset(elements: list, weight: int):\n",
    "    def rec(i: int, w: int):\n",
    "        if i == -1:\n",
    "            if w == -1:\n",
    "                return 0\n",
    "            else:\n",
    "                return -float('inf')\n",
    "            \n",
    "        el = elements[i]\n",
    "\n",
    "        if OPT[i, w] == 0:\n",
    "            OPT[i, w] = max(rec(i-1, w), el + rec(i-1, w-el))\n",
    "\n",
    "        return OPT[i, w]\n",
    "\n",
    "    length = len(elements)\n",
    "    OPT = np.zeros((length, weight))\n",
    "    val = rec(length-1, weight-1)\n",
    "    print(OPT)\n",
    "    return val\n",
    "\n",
    "\n",
    "elements = [1, 2, 4]\n",
    "weight = 8\n",
    "\n",
    "subset(elements, weight)"
   ]
  },
  {
   "cell_type": "code",
   "execution_count": 25,
   "metadata": {},
   "outputs": [
    {
     "name": "stdout",
     "output_type": "stream",
     "text": [
      "[[0. 0. 0. 0. 0. 0. 0. 0. 0. 0.]\n",
      " [0. 1. 1. 1. 1. 1. 1. 1. 1. 1.]\n",
      " [0. 1. 2. 3. 3. 3. 3. 3. 3. 3.]\n",
      " [0. 1. 2. 3. 4. 5. 6. 7. 7. 7.]\n",
      " [0. 1. 2. 3. 4. 5. 6. 7. 8. 8.]\n",
      " [0. 1. 2. 3. 4. 5. 6. 7. 8. 9.]]\n"
     ]
    },
    {
     "data": {
      "text/plain": [
       "9.0"
      ]
     },
     "execution_count": 25,
     "metadata": {},
     "output_type": "execute_result"
    }
   ],
   "source": [
    "import numpy as np\n",
    "def subset(elements: list, weight: int):\n",
    "    \n",
    "    elements = [0] + elements\n",
    "    length = len(elements)\n",
    "    OPT = np.zeros((length, weight+1))\n",
    "\n",
    "    for i in range(length):\n",
    "        el = elements[i]\n",
    "        for j in range(weight+1):\n",
    "            if i == 0 or j == 0:\n",
    "                OPT[i, j] = 0\n",
    "            elif el <= j:\n",
    "                OPT[i, j] = max(OPT[i-1, j], el + OPT[i-1, j-el])\n",
    "            else:\n",
    "                OPT[i, j] = OPT[i-1, j]\n",
    "\n",
    "    print(OPT)\n",
    "    return OPT[length-1, weight]\n",
    "\n",
    "elements = [1, 2, 4, 1, 5]\n",
    "weight = 9\n",
    "\n",
    "subset(elements, weight)"
   ]
  },
  {
   "cell_type": "code",
   "execution_count": 32,
   "metadata": {},
   "outputs": [
    {
     "name": "stdout",
     "output_type": "stream",
     "text": [
      "1\n",
      "2\n",
      "4\n",
      "1\n",
      "5\n",
      "[4, 5]\n"
     ]
    }
   ],
   "source": [
    "queue = [-float('inf')] *2\n",
    "\n",
    "elements = [1, 2, 4, 1, 5]\n",
    "\n",
    "for i in elements:\n",
    "    print(i)\n",
    "    if i > queue[0]:\n",
    "        queue.append(i)\n",
    "        queue.pop(0)\n",
    "print(queue)\n",
    "\n",
    "    "
   ]
  }
 ],
 "metadata": {
  "kernelspec": {
   "display_name": "Python 3",
   "language": "python",
   "name": "python3"
  },
  "language_info": {
   "codemirror_mode": {
    "name": "ipython",
    "version": 3
   },
   "file_extension": ".py",
   "mimetype": "text/x-python",
   "name": "python",
   "nbconvert_exporter": "python",
   "pygments_lexer": "ipython3",
   "version": "3.11.4"
  }
 },
 "nbformat": 4,
 "nbformat_minor": 2
}
