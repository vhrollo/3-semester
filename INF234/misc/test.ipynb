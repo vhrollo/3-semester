{
 "cells": [
  {
   "cell_type": "code",
   "execution_count": 8,
   "metadata": {},
   "outputs": [
    {
     "data": {
      "text/plain": [
       "[1, 1, 2, 2, 3, 3, 4, 4, 4, 5, 5, 6, 6, 6, 7, 7, 8, 9]"
      ]
     },
     "execution_count": 8,
     "metadata": {},
     "output_type": "execute_result"
    }
   ],
   "source": [
    "a = sorted([1,3,4,4,5,6,6,7])\n",
    "b = sorted([1,2,2,3,4,5,6,7,8,9])\n",
    "def merge(a: list, b: list) -> list:\n",
    "    \"\"\"\n",
    "    Input:Takes in two sorted lists\\n\n",
    "    Output: gives out a combinded sorted list\\n\n",
    "    Running time: O(n)\n",
    "    \"\"\"\n",
    "    pointer_a = 0\n",
    "    pointer_b = 0\n",
    "    length_a = len(a)\n",
    "    length_b = len(b)\n",
    "\n",
    "    result = []\n",
    "    while pointer_a < length_a and pointer_b < length_b:\n",
    "        if a[pointer_a] <= b[pointer_b]:\n",
    "            result.append(a[pointer_a])\n",
    "            pointer_a += 1\n",
    "        else:\n",
    "            result.append(b[pointer_b])\n",
    "            pointer_b += 1\n",
    "\n",
    "    while pointer_a < length_a:\n",
    "        result.append(a[pointer_a])\n",
    "        pointer_a += 1\n",
    "\n",
    "    while pointer_b < length_b:\n",
    "        result.append(b[pointer_b])\n",
    "        pointer_b += 1\n",
    "    return result\n",
    "\n",
    "\n",
    "merge(a,b)"
   ]
  },
  {
   "cell_type": "code",
   "execution_count": 2,
   "metadata": {},
   "outputs": [
    {
     "data": {
      "text/plain": [
       "[1, 3, 3, 4, 5, 6, 5, 5, 34, 6, 12, 7]"
      ]
     },
     "execution_count": 2,
     "metadata": {},
     "output_type": "execute_result"
    }
   ],
   "source": [
    "class Heap:\n",
    "    def __init__(self, heap: list):\n",
    "        self.heap = heap\n",
    "        self.N = len(heap)\n",
    "\n",
    "        start_index = len(heap) // 2 - 1 \n",
    "        for i in range(start_index, -1, -1):\n",
    "            self.heapify(i)\n",
    "\n",
    "\n",
    "    def heapify(self, i):\n",
    "        min = i\n",
    "        left = 2 * i + 1\n",
    "        right = 2 * i + 2\n",
    "        if left < self.N and self.heap[left] < self.heap[min]:\n",
    "            min = left\n",
    "\n",
    "        if right < self.N and self.heap[right] < self.heap[min]:\n",
    "            min = right\n",
    "\n",
    "        if min != i:\n",
    "            self.heap[i], self.heap[min] = self.heap[min], self.heap[i]\n",
    "            self.heapify(min)\n",
    "    \n",
    "\n",
    "c = [12,34,3,5,6,7,5,1,4,3,5,6]\n",
    "\n",
    "heap = Heap(c)\n",
    "heap.heap"
   ]
  },
  {
   "cell_type": "code",
   "execution_count": null,
   "metadata": {},
   "outputs": [],
   "source": [
    "intervals = { (1,3), (2,4), (5,7), (6,8), (9,10) }"
   ]
  }
 ],
 "metadata": {
  "kernelspec": {
   "display_name": "Python 3",
   "language": "python",
   "name": "python3"
  },
  "language_info": {
   "codemirror_mode": {
    "name": "ipython",
    "version": 3
   },
   "file_extension": ".py",
   "mimetype": "text/x-python",
   "name": "python",
   "nbconvert_exporter": "python",
   "pygments_lexer": "ipython3",
   "version": "3.11.2"
  }
 },
 "nbformat": 4,
 "nbformat_minor": 2
}
