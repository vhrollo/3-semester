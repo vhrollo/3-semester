{
 "cells": [
  {
   "cell_type": "code",
   "execution_count": 47,
   "metadata": {},
   "outputs": [
    {
     "name": "stdout",
     "output_type": "stream",
     "text": [
      "stable pairs: [(2, 0), (3, 3), (1, 1), (0, 2)].\n"
     ]
    }
   ],
   "source": [
    "men = [\n",
    "    [1,2,3,0],\n",
    "    [3,1,0,2],\n",
    "    [0,1,2,3],\n",
    "    [3,2,1,0],\n",
    "]\n",
    "\n",
    "women = [\n",
    "    [2,1,3,0],\n",
    "    [3,1,0,2],\n",
    "    [0,1,2,3],\n",
    "    [3,2,1,0],\n",
    "]\n",
    "\n",
    "pairs = []\n",
    "free_men = list(range(len(men)))  # list of free men\n",
    "\n",
    "while free_men: # empty zero ends it\n",
    "    man_i = free_men.pop(0)\n",
    "    man_pref = men[man_i]\n",
    "\n",
    "    for woman_i in man_pref:\n",
    "        current_partner = None\n",
    "\n",
    "        for pair in pairs:\n",
    "            if pair[1] == woman_i:\n",
    "                current_partner = pair[0]\n",
    "                break\n",
    "        \n",
    "        if current_partner is None:\n",
    "            pairs.append((man_i,woman_i))\n",
    "            break\n",
    "        else:\n",
    "            woman_pref = women[woman_i]\n",
    "            if woman_pref.index(man_i) < woman_pref.index(current_partner):\n",
    "                pairs.remove((current_partner, woman_i))\n",
    "                pairs.append((man_i, woman_i))\n",
    "                free_men.append(current_partner)  # The old partner becomes free\n",
    "                break\n",
    "\n",
    "    \n",
    "        \n",
    "\n",
    "\n",
    "\n",
    "print(f'stable pairs: {pairs}.')\n",
    "\n"
   ]
  }
 ],
 "metadata": {
  "kernelspec": {
   "display_name": "Python 3",
   "language": "python",
   "name": "python3"
  },
  "language_info": {
   "codemirror_mode": {
    "name": "ipython",
    "version": 3
   },
   "file_extension": ".py",
   "mimetype": "text/x-python",
   "name": "python",
   "nbconvert_exporter": "python",
   "pygments_lexer": "ipython3",
   "version": "3.11.4"
  }
 },
 "nbformat": 4,
 "nbformat_minor": 2
}
