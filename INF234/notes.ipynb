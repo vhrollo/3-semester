{
 "cells": [
  {
   "cell_type": "markdown",
   "metadata": {},
   "source": [
    "# notes - INF234"
   ]
  },
  {
   "cell_type": "markdown",
   "metadata": {},
   "source": [
    "### what does thie cource include\n",
    "- prove stuff\n",
    "- formalise problem\n",
    "- algo\n",
    "-   efficiency and power consuption"
   ]
  },
  {
   "cell_type": "markdown",
   "metadata": {
    "vscode": {
     "languageId": "plaintext"
    }
   },
   "source": [
    "- Dyn prog\n",
    "- Select advanced algorthims and datastructures\n",
    "    - maximum flow and matching\n",
    "    - minimum spanning tree\n",
    "    - subsetsum\n",
    "    - closest pairs\n",
    "    - schedule\n",
    "- tractability\n",
    "- complexity\n",
    "- lower bounds\n"
   ]
  },
  {
   "cell_type": "markdown",
   "metadata": {},
   "source": [
    "### lecture 1 - 20/08/24\n",
    "\n",
    "Algorithm\n",
    "- A finite sequence of well-defined instructions\n",
    "\n",
    "\n",
    "Notation for class\n",
    "- input set of input(s)\n",
    "- output: algorithm\n",
    "\n",
    "o upper bound\n",
    "omega lower bound\n",
    "theta tight bound\n",
    "\n",
    "Pesky Mosquitos\n",
    "- sets of points in a plane, diameter d\n",
    "- maximum nymber of points that can be covered by a disc of diameter d\n",
    "- for p1 in P for p2 in P calculate num p in circle"
   ]
  },
  {
   "cell_type": "markdown",
   "metadata": {},
   "source": [
    "### lecture 2 - 21/08/24\n",
    "\n",
    "#### Stable matching problems\n",
    "\n",
    "$H = \\{h_1, h_2, ... h_{len}\\}$\n",
    "\n",
    "$S = \\{s_1, s_2, ... s_{len}\\}$\n",
    "\n",
    "Matching\n",
    "- M set of pairs as an subset of HxS where each S and H appear most one time\n",
    "- perfect matching when |M|=|H|=|S|\n",
    "- Preference is a ranking of elements, an ordered list\n",
    "  - each h in H had to rank all S\n",
    "  - each s in S had to rank all H\n",
    "- $s_3 >_h s_2 >_h s_1$\n",
    "\n",
    "Stable matching\n",
    "  - input\n",
    "    - sets H, S, |H| = |S|\n",
    "    - output a stable perfect matching\n",
    "\n",
    "Unstable pair, a pair where at least one of them has another partner which they prefer, and that partner would agree\n",
    "\n",
    "brute force:\n",
    "- O(n!*n^2)\n",
    "\n",
    "#### Algorithm Gayle-Shapley\n",
    "\n",
    "\n",
    "    initially all are free\n",
    "    while some h in H is unmatched and has not yet proposed to all student\n",
    "        h proposes to the highest ranked student s that has not yet been proposed to\n",
    "\n",
    "        if s is unmatched\n",
    "            add (h,s) to M\n",
    "        else if  s prefers h over its current matched h'\n",
    "            replace (h', s) with (h, s) in M\n",
    "        else\n",
    "            s rejects h #no op\n",
    "\n",
    "\n",
    "We have to show\n",
    "- G-S terminates\n",
    "- Perfect matching\n",
    "- M is stable\n",
    "\n",
    "Observation 1.\n",
    "- Hospitals propose in decreasing order of preference\n",
    "\n",
    "Observation 2.\n",
    "- Students never gets unmatched\n",
    "\n",
    "Observation 3.\n",
    "- If a hospital h is unmatched when G-S terminates, then h has proposed to all students\n",
    "\n",
    "Lemma 1. G-S terminates after at most $n^2$ iteration of the while loop\n",
    "- Let P(t) be the number of pairs (h, s) thtat has proposed to s after interation t\n",
    "- Note that P(t+1)> P(t)\n",
    "\n",
    "Lemma 2.  G-S outputs a matching\n",
    "- no hospital can be in two pairs, as only free hospital give proposals\n",
    "- Each student is matched to at most one \n",
    "- M is a matching\n",
    "\n",
    "Lemma 3. M is a perfect matching\n",
    "- Suppose M is not Perfect\n",
    "  - There is is some h from H and s from S not beeing in M\n",
    "  - Since |H|=|S| then there are two elements, h and s not in M\n",
    "    - By observation 2 s was never to proposed to. In particular h never proposed to s.\n",
    "    - By observation 3 h proposed to everyone. In particular, h proposed to s\n",
    "  - Therefore an contridiction arrises, which means that M is perfect\n",
    "\n",
    "Lemma 4. M is stable\n",
    "- Proof by contridiction\n",
    "- suppose that (h,s) not in M, where they both prefer eachother over their current match\n",
    "  - h never proposed to s\n",
    "  - h proposed to s, but got rejected\n",
    "  - h was matched with s, but later got unmatched\n",
    "\n",
    "- By observation 1 h proposed to s before s'\n",
    "  - first case is false\n",
    "- s rejects s only if s' if matched with somebody higher\n",
    "  - by observatioin 2 it mached with somebody higher beforehand, and there is not other higher, therefore true\n",
    "- same as second\n",
    "\n",
    "- therefore lemma fore is true\n",
    "\n",
    "thefore G-S outputs a perfect stable matches in at most n^2\n",
    "\n",
    "\n",
    "- runs in O(n^2)"
   ]
  },
  {
   "cell_type": "markdown",
   "metadata": {},
   "source": [
    "# lecture 3 - 27/08/24"
   ]
  },
  {
   "cell_type": "markdown",
   "metadata": {},
   "source": [
    "Lemma 1:\n",
    "- The algorithm outputs the same stable matching regardless of the ordering in the match we choose hospitals\n",
    "\n",
    "Defenitions ( valid partner)\n",
    "- A student s $\\in$ S is a valid partner for h $\\in$ if there exists a stable matching M $\\ni$ (h, s)\n",
    "- The best valid partner for h is the valid partner of that h has ranked highest. Since it is unique, we write best(h) = s\n",
    "\n",
    "Lamma 2:\n",
    "- Every executable of Gale-Shapley outputs M* ${(h,best(h))}$\n",
    "- every student gets their worst matching W* $(worst(s), s)$\n",
    "- M* = W*\n",
    "\n",
    "Lemma 2 - proof by contradiction:\n",
    "- Some execution $\\epsilon$ that outputs ($\\hat{h}, \\hat{s})$, where best($\\hat{h}$)) not = $\\hat{s}$.\n",
    "- Some hospital was rejected by a valid partner. Let h be the first hospital to be rejected by valid partner in E.\n",
    "- Let s be the valid partner that rejected h.\n",
    "- S was matched with some h'. That means s prefers h' over h\n",
    "- S is a valid partner of h. There exists a stable matching M' with (h,s) in it.\n",
    "- s - h, and s' - h'\n",
    "- h' was not rejected by s' before h was rejected by s.\n",
    "  - Meaning h' prefers s over s'"
   ]
  },
  {
   "cell_type": "markdown",
   "metadata": {},
   "source": [
    "Chap 1.2 - some representative problems\n",
    "\n",
    "Interval Scheduling - greedy\n",
    "- two intervals overlap if $s_1 \\leq s_2 \\leq f_1$\n",
    "- A set of intervals are pairwise non-overlapping if no two intervals in the set overlap\n",
    "- Input: set of intervals\n",
    "- output: A maximum size size of pairwise non overlapping intervals"
   ]
  },
  {
   "cell_type": "markdown",
   "metadata": {},
   "source": [
    "Weighted interval scheduling - dynamic programming\n",
    "- input: a set of weighted intervals ${(s_1, f_1, w_1),...}$ \n",
    "- output: a set of pairwise non-overlapping intervals with max sum of weights"
   ]
  },
  {
   "cell_type": "markdown",
   "metadata": {},
   "source": [
    "Bipatite matching - Maximum Flow\n",
    "- Given a graph with two sets of nodes with random edges between. We want to find a maximum size matching.\n",
    "- Find a maximum size matching\n",
    "  - M in E in AxB\n",
    "- input: A bipatite graph\n",
    "- out: a maximum size matching of G"
   ]
  },
  {
   "cell_type": "markdown",
   "metadata": {},
   "source": [
    "Indipendent Set - NP hard\n",
    "- Given a graph G.\n",
    "- A set of vertecies S in V is independent  i f S is pairwise non-adjent\n",
    "- Two vertecies in the solution can't have an edge between eachother\n",
    "- input: Graph G\n",
    "- output: maximum independent set S in V, i,e S is pairwise non-adjecent"
   ]
  },
  {
   "cell_type": "markdown",
   "metadata": {},
   "source": [
    "# lecture 4 - 27/08/27\n",
    "\n",
    "- What do we mean by efficient algorithms?\n",
    "  - There is some constant $d \\in N$"
   ]
  },
  {
   "cell_type": "markdown",
   "metadata": {},
   "source": [
    "Running an algorithm uses resources:\n",
    "- time\n",
    "- space\n",
    "- others\n",
    "  - lock\n",
    "  - file handles\n",
    "  - physical devices \n",
    "\n",
    "time $\\geq$ space"
   ]
  },
  {
   "cell_type": "markdown",
   "metadata": {},
   "source": [
    "What do the constants come from?\n",
    "- Some programming languages use fewer insctuctions then others\n",
    "- Ignore constants\n",
    "\n",
    "$16n^2 + 35n + 8 \\leq 16n^2 + 35n^2 + 8n^2 = 59n^2$"
   ]
  },
  {
   "cell_type": "markdown",
   "metadata": {},
   "source": [
    "Defintion Big oh\n",
    "- f(n) is O(g(n)) if $Ec>0,n_0 \\geq 0$\n",
    "- $f(n) \\leq c*g(h)$\n",
    "- f is O(g), then $f\\leq g$\n",
    "\n",
    "- $f \\leq g$\n",
    "- $g \\leq f$\n",
    "- then f = g"
   ]
  },
  {
   "cell_type": "markdown",
   "metadata": {},
   "source": [
    "Note: O(f) is a set of functions\n",
    "- $f(n) = O(n^2)$ (also most prefferably written as: $f(n) \\in O(n^2)$)"
   ]
  },
  {
   "cell_type": "markdown",
   "metadata": {},
   "source": [
    "Definition( Big-$\\Omega$)\n",
    "- f(n) is $\\Omega$(g(n)) if E c>0, N_0 >= 0\n",
    "- f(n) $\\geq$ cg(n)\n",
    "- $f(n) = 3n^2 + 17n + 8 \\geq 3n^2 \\geq n^2$\n",
    "- Let f: N -> N and g: N -> N\n",
    "- $f \\in O(g) <-> g \\in \\Omega (f)$"
   ]
  },
  {
   "cell_type": "markdown",
   "metadata": {},
   "source": [
    "- Let f in O(g)\n",
    "- then E c> 0, n_0 > 0\n",
    "- An > n_0, f(n)$\\leq$ c g(n)\n",
    "- 1/c f(n) $\\leq$ g(n)\n",
    "- Then g(n) $geq$ c' f(n) -> g is $\\Omega$ (f)"
   ]
  },
  {
   "cell_type": "markdown",
   "metadata": {},
   "source": [
    "Definition (Big $\\Theta$) - Tight bound\n",
    "- f is $\\Theta (g)$ if \n",
    "- E $c_1 > 0, c_2 > 0, n_0 > 0$\n",
    "- then for An $c_1 g(n) \\leq f(n) \\leq c_2 g(n)$"
   ]
  },
  {
   "cell_type": "markdown",
   "metadata": {},
   "source": [
    "- Theorem f is $\\Theta (g) \\Leftrightarrow f \\in O(g), f \\in \\Omega (g)$ \n",
    "- then $\\Leftrightarrow f \\in O(g), g \\in \\Omega (f)$ \n",
    "- $\\Leftrightarrow f \\in \\Omega (g), g \\in \\Omega (f)$"
   ]
  },
  {
   "cell_type": "markdown",
   "metadata": {},
   "source": [
    "- big oh: $f \\in O(g)$\n",
    "- big omega: $f \\in \\Omega (g)$\n",
    "- big theta: $f \\in \\Theta (g)$"
   ]
  },
  {
   "cell_type": "markdown",
   "metadata": {},
   "source": [
    "# lecture 5 - Graphs"
   ]
  },
  {
   "cell_type": "markdown",
   "metadata": {},
   "source": [
    "- Communication\n",
    "- Social Networkds\n",
    "- Transportation\n",
    "- Contact tracing\n",
    "- Dependacies\n",
    "- Knowledge graph\n",
    "- neural networkds\n",
    "- protein-interaction\n",
    "\n",
    "### Graphs\n",
    "- G is structure:\n",
    "  - V is a set of vertecies \n",
    "  - E is a set of edges\n",
    "  - $E \\subseteq (V, 2), eg E = {{1,3}, {4,3}, {5,2}}$\n",
    "  - G is undirected and simple\n",
    "    - there are no reactive, and no multi edges\n",
    "\n",
    "- v is adjesent to u in G = (V,E)\n",
    "  - if uv is an edge in G\n",
    "  - we call u and v neighbors\n",
    "    - $N_G(v) =\\{u\\in v, uv\\in E\\}$\n",
    "\n",
    "\n",
    "- degree of the $v\\in V$ is the size of the neighborhood\n"
   ]
  },
  {
   "cell_type": "markdown",
   "metadata": {},
   "source": [
    "### Subgraphs\n",
    "G is a G=(V,E)\n",
    "G' = (V',E') is a subgraph of G\n",
    "If $V'\\subseteq V, E'\\subseteq E$\n",
    "- If a subgraph can be obtained by deleting vertices and edges\n",
    "\n",
    "G' is an induces subraph of G if it can be obtained from G by only deleting vertices\n",
    "G' is an spanning subraph of G if it can be obtained from G by only deleting edges"
   ]
  },
  {
   "cell_type": "markdown",
   "metadata": {},
   "source": [
    "### Paths and connectivity\n",
    "\n",
    "Def (path)\n",
    "- Let G = (V,E) be a graph and P a sequence of vertices\n",
    "- P = $v_1, v_2, and v_k$\n",
    "- P is a path if $\\forall i < k, v_iv_{i+1} \\in E$\n",
    "- P=4,2,3,1,6\n",
    "- somebody calls this a simple path, when no repeated vertecies\n",
    "  - otherwise it is called a walk\n",
    "- length: vertecies - 1\n",
    "- a path is a subgraph\n",
    "\n",
    "- $dist_G(u,v)$\n",
    "  - the length of the shortest uv path, otherwise inf\n",
    "\n",
    "- Connected graph\n",
    "  - $dist_G(u,v)\\not = \\infty$\n",
    "\n",
    "- Connected Component\n",
    "  - G' is a connected component of G if it is a maximally connected subraph of G\n",
    "\n",
    "\n",
    "- Cycle\n",
    "  - path but start and end vertex is the same\n",
    "  - cycle if first and second last is an path"
   ]
  },
  {
   "cell_type": "markdown",
   "metadata": {},
   "source": [
    "## Graph representation"
   ]
  },
  {
   "cell_type": "markdown",
   "metadata": {},
   "source": [
    "#### Adjecency matrix\n",
    "- $\\Theta (n^2)$\n",
    "- search (1) \n",
    "- enum $\\Theta (n)$\n",
    "- adding $O(1)$\n",
    "- remove vertex $\\Theta (n^2)$\n",
    "- remvoe edge $O(1)$\n",
    "#### Adjecency list\n",
    "- $\\Theta (n + m)$\n",
    "- search O(min {deg v, deg u})\n",
    "- enum $\\Theta (deg(v))$\n",
    "- adding $O(deg(v))$\n",
    "- remove vertec $O (n+m)$\n",
    "- remove edge $O(deg(v)+deg(e))$\n",
    "\n",
    "###### other\n",
    "- If the graph is dense, the space taken would be ish same\n",
    "- $\\binom{n}{k}$\n",
    "\n",
    "#### def tree\n",
    "- G = (V, E) is a tree if G is a connected and acyclic\n",
    "- If T = (V, E) is a tree we often concider it rotterd in som $r \\in V$ and denote it by $(T,r)$\n",
    "\n",
    "- If a vertex has deg(v)=1, we call it a leaf\n",
    "  - observation every s-t graph is unique in a tree\n",
    "  \n",
    "### Lemma\n",
    "- Any two imply the third\n",
    "  - G is connected\n",
    "  - G is acyclic\n",
    "  - C has n-1 edges\n",
    "  \n",
    "\n",
    "## Biparte\n",
    "- A graph if B = (V, E) is a bipartite graph if V can be partioned into two sets, A, B such that all edges have one endpoint in A, and the other in B.\n",
    "\n",
    "## Colonring\n",
    "- A proper k-coloring of a graph G = (V,E) is an assignment X. V -> {1,2,3,4,..., k}. Such that if $uv\\in E, X(u)\\not = x(u)$\n",
    "- 2-colorable\n",
    "  - G has no odd cycle\n",
    "  - G is bipartite\n",
    "- 3-1-colorable\n",
    "  - Let G be 2-colorable and let A be the set of vertecies with one color and B the other. No edge ahs the same color as"
   ]
  }
 ],
 "metadata": {
  "language_info": {
   "name": "python"
  }
 },
 "nbformat": 4,
 "nbformat_minor": 2
}
