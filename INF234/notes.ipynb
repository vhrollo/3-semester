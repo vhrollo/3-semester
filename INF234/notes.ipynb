{
 "cells": [
  {
   "cell_type": "markdown",
   "metadata": {},
   "source": [
    "# notes - INF234"
   ]
  },
  {
   "cell_type": "markdown",
   "metadata": {},
   "source": [
    "### what does thie cource include\n",
    "- prove stuff\n",
    "- formalise problem\n",
    "- algo\n",
    "-   efficiency and power consuption"
   ]
  },
  {
   "cell_type": "markdown",
   "metadata": {
    "vscode": {
     "languageId": "plaintext"
    }
   },
   "source": [
    "- Dyn prog\n",
    "- Select advanced algorthims and datastructures\n",
    "    - maximum flow and matching\n",
    "    - minimum spanning tree\n",
    "    - subsetsum\n",
    "    - closest pairs\n",
    "    - schedule\n",
    "- tractability\n",
    "- complexity\n",
    "- lower bounds\n"
   ]
  },
  {
   "cell_type": "markdown",
   "metadata": {},
   "source": [
    "### lecture 1 - 20/08/24\n",
    "\n",
    "Algorithm\n",
    "- A finite sequence of well-defined instructions\n",
    "\n",
    "\n",
    "Notation for class\n",
    "- input set of input(s)\n",
    "- output: algorithm\n",
    "\n",
    "o upper bound\n",
    "omega lower bound\n",
    "theta tight bound\n",
    "\n",
    "Pesky Mosquitos\n",
    "- sets of points in a plane, diameter d\n",
    "- maximum nymber of points that can be covered by a disc of diameter d\n",
    "- for p1 in P for p2 in P calculate num p in circle"
   ]
  },
  {
   "cell_type": "markdown",
   "metadata": {},
   "source": [
    "### lecture 2 - 21/08/24\n",
    "\n",
    "#### Stable matching problems\n",
    "\n",
    "$H = \\{h_1, h_2, ... h_{len}\\}$\n",
    "\n",
    "$S = \\{s_1, s_2, ... s_{len}\\}$\n",
    "\n",
    "Matching\n",
    "- M set of pairs as an subset of HxS where each S and H appear most one time\n",
    "- perfect matching when |M|=|H|=|S|\n",
    "- Preference is a ranking of elements, an ordered list\n",
    "  - each h in H had to rank all S\n",
    "  - each s in S had to rank all H\n",
    "- $s_3 >_h s_2 >_h s_1$\n",
    "\n",
    "Stable matching\n",
    "  - input\n",
    "    - sets H, S, |H| = |S|\n",
    "    - output a stable perfect matching\n",
    "\n",
    "Unstable pair, a pair where at least one of them has another partner which they prefer, and that partner would agree\n",
    "\n",
    "brute force:\n",
    "- O(n!*n^2)\n",
    "\n",
    "#### Algorithm Gayle-Shapley\n",
    "\n",
    "\n",
    "    initially all are free\n",
    "    while some h in H is unmatched and has not yet proposed to all student\n",
    "        h proposes to the highest ranked student s that has not yet been proposed to\n",
    "\n",
    "        if s is unmatched\n",
    "            add (h,s) to M\n",
    "        else if  s prefers h over its current matched h'\n",
    "            replace (h', s) with (h, s) in M\n",
    "        else\n",
    "            s rejects h #no op\n",
    "\n",
    "\n",
    "We have to show\n",
    "- G-S terminates\n",
    "- Perfect matching\n",
    "- M is stable\n",
    "\n",
    "Observation 1.\n",
    "- Hospitals propose in decreasing order of preference\n",
    "\n",
    "Observation 2.\n",
    "- Students never gets unmatched\n",
    "\n",
    "Observation 3.\n",
    "- If a hospital h is unmatched when G-S terminates, then h has proposed to all students\n",
    "\n",
    "Lemma 1. G-S terminates after at most $n^2$ iteration of the while loop\n",
    "- Let P(t) be the number of pairs (h, s) thtat has proposed to s after interation t\n",
    "- Note that P(t+1)> P(t)\n",
    "\n",
    "Lemma 2.  G-S outputs a matching\n",
    "- no hospital can be in two pairs, as only free hospital give proposals\n",
    "- Each student is matched to at most one \n",
    "- M is a matching\n",
    "\n",
    "Lemma 3. M is a perfect matching\n",
    "- Suppose M is not Perfect\n",
    "  - There is is some h from H and s from S not beeing in M\n",
    "  - Since |H|=|S| then there are two elements, h and s not in M\n",
    "    - By observation 2 s was never to proposed to. In particular h never proposed to s.\n",
    "    - By observation 3 h proposed to everyone. In particular, h proposed to s\n",
    "  - Therefore an contridiction arrises, which means that M is perfect\n",
    "\n",
    "Lemma 4. M is stable\n",
    "- Proof by contridiction\n",
    "- suppose that (h,s) not in M, where they both prefer eachother over their current match\n",
    "  - h never proposed to s\n",
    "  - h proposed to s, but got rejected\n",
    "  - h was matched with s, but later got unmatched\n",
    "\n",
    "- By observation 1 h proposed to s before s'\n",
    "  - first case is false\n",
    "- s rejects s only if s' if matched with somebody higher\n",
    "  - by observatioin 2 it mached with somebody higher beforehand, and there is not other higher, therefore true\n",
    "- same as second\n",
    "\n",
    "- therefore lemma fore is true\n",
    "\n",
    "thefore G-S outputs a perfect stable matches in at most n^2\n",
    "\n",
    "\n",
    "- runs in O(n^2)"
   ]
  },
  {
   "cell_type": "markdown",
   "metadata": {},
   "source": [
    "# lecture 3 - 27/08/24"
   ]
  },
  {
   "cell_type": "markdown",
   "metadata": {},
   "source": [
    "Lemma 1:\n",
    "- The algorithm outputs the same stable matching regardless of the ordering in the match we choose hospitals\n",
    "\n",
    "Defenitions ( valid partner)\n",
    "- A student s $\\in$ S is a valid partner for h $\\in$ if there exists a stable matching M $\\ni$ (h, s)\n",
    "- The best valid partner for h is the valid partner of that h has ranked highest. Since it is unique, we write best(h) = s\n",
    "\n",
    "Lamma 2:\n",
    "- Every executable of Gale-Shapley outputs M* ${(h,best(h))}$\n",
    "- every student gets their worst matching W* $(worst(s), s)$\n",
    "- M* = W*\n",
    "\n",
    "Lemma 2 - proof by contradiction:\n",
    "- Some execution $\\epsilon$ that outputs ($\\hat{h}, \\hat{s})$, where best($\\hat{h}$)) not = $\\hat{s}$.\n",
    "- Some hospital was rejected by a valid partner. Let h be the first hospital to be rejected by valid partner in E.\n",
    "- Let s be the valid partner that rejected h.\n",
    "- S was matched with some h'. That means s prefers h' over h\n",
    "- S is a valid partner of h. There exists a stable matching M' with (h,s) in it.\n",
    "- s - h, and s' - h'\n",
    "- h' was not rejected by s' before h was rejected by s.\n",
    "  - Meaning h' prefers s over s'"
   ]
  },
  {
   "cell_type": "markdown",
   "metadata": {},
   "source": [
    "Chap 1.2 - some representative problems\n",
    "\n",
    "Interval Scheduling - greedy\n",
    "- two intervals overlap if $s_1 \\leq s_2 \\leq f_1$\n",
    "- A set of intervals are pairwise non-overlapping if no two intervals in the set overlap\n",
    "- Input: set of intervals\n",
    "- output: A maximum size size of pairwise non overlapping intervals"
   ]
  },
  {
   "cell_type": "markdown",
   "metadata": {},
   "source": [
    "Weighted interval scheduling - dynamic programming\n",
    "- input: a set of weighted intervals ${(s_1, f_1, w_1),...}$ \n",
    "- output: a set of pairwise non-overlapping intervals with max sum of weights"
   ]
  },
  {
   "cell_type": "markdown",
   "metadata": {},
   "source": [
    "Bipatite matching - Maximum Flow\n",
    "- Given a graph with two sets of nodes with random edges between. We want to find a maximum size matching.\n",
    "- Find a maximum size matching\n",
    "  - M in E in AxB\n",
    "- input: A bipatite graph\n",
    "- out: a maximum size matching of G"
   ]
  },
  {
   "cell_type": "markdown",
   "metadata": {},
   "source": [
    "Indipendent Set - NP hard\n",
    "- Given a graph G.\n",
    "- A set of vertecies S in V is independent  i f S is pairwise non-adjent\n",
    "- Two vertecies in the solution can't have an edge between eachother\n",
    "- input: Graph G\n",
    "- output: maximum independent set S in V, i,e S is pairwise non-adjecent"
   ]
  },
  {
   "cell_type": "markdown",
   "metadata": {},
   "source": [
    "# lecture 4 - 27/08/27\n",
    "\n",
    "- What do we mean by efficient algorithms?\n",
    "  - There is some constant $d \\in N$"
   ]
  }
 ],
 "metadata": {
  "language_info": {
   "name": "python"
  }
 },
 "nbformat": 4,
 "nbformat_minor": 2
}
