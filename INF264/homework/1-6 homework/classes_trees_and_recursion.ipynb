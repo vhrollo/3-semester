{
 "cells": [
  {
   "cell_type": "markdown",
   "metadata": {},
   "source": [
    "# Classes, Trees and Recursion – A Primer for the First Project\n",
    "\n",
    "In this notebook, we will introduce the concept of classes in Python, and how they can be used to create tree data structures. We will also introduce the concept of recursion, and how it can be used to traverse trees. These concepts are fundamental to the upcoming first project where you will implement a decision tree from scratch.\n",
    "\n",
    "---"
   ]
  },
  {
   "cell_type": "markdown",
   "metadata": {},
   "source": [
    "## Object-Oriented Programming in Python\n",
    "\n",
    "Python is an object-oriented programming language. This means that it allows you to define classes, which are templates for creating objects. An object is an instance of a class. We will cover the most basic aspects of object-oriented programming in Python, which will be sufficient for the first project.\n",
    "\n",
    "A class can have attributes (variables) and methods (functions), combined together in a single unit.\n",
    "\n",
    "For example, you can define a class `Person` that has attributes like `name` and `age`, and methods like `say_hello`. You can then create objects of this class, like `person1` and `person2`, and call methods on them.\n",
    "\n",
    "Let's see an example of how to define such a class in Python."
   ]
  },
  {
   "cell_type": "code",
   "execution_count": 152,
   "metadata": {},
   "outputs": [],
   "source": [
    "class Person():\n",
    "    def __init__(self, name, age):\n",
    "        # The __init__ method is a special method that is called when an object is created\n",
    "        self.name = name\n",
    "        self.age = age\n",
    "\n",
    "    def say_hello(self):\n",
    "        # The self parameter is a reference to the current instance of the class and needs to be included in the method definition\n",
    "        print(f\"Hello, my name is {self.name} and I am {self.age} years old\")"
   ]
  },
  {
   "cell_type": "code",
   "execution_count": 153,
   "metadata": {},
   "outputs": [
    {
     "name": "stdout",
     "output_type": "stream",
     "text": [
      "Hello, my name is John and I am 36 years old\n",
      "Hello, my name is Katy and I am 25 years old\n"
     ]
    }
   ],
   "source": [
    "# Create two instances of the Person class\n",
    "person_1 = Person(\"John\", 36)\n",
    "person_2 = Person(\"Katy\", 25)\n",
    "\n",
    "person_1.say_hello()\n",
    "person_2.say_hello()"
   ]
  },
  {
   "cell_type": "markdown",
   "metadata": {},
   "source": [
    "Let us expand the `Person` class to include the possibility of adding friends to a person. We will also add a method to print the friends of a person, and a method to check if two people are friends."
   ]
  },
  {
   "cell_type": "code",
   "execution_count": 154,
   "metadata": {},
   "outputs": [],
   "source": [
    "class Person():\n",
    "    def __init__(self, name, age):\n",
    "        self.name = name\n",
    "        self.age = age\n",
    "        self.friends = []\n",
    "\n",
    "    def say_hello(self):\n",
    "        print(f\"Hello, my name is {self.name} and I am {self.age} years old\")\n",
    "\n",
    "    def add_friend(self, friend):\n",
    "        self.friends.append(friend)\n",
    "    \n",
    "    def list_friends(self):\n",
    "        print(\"My friends are:\")\n",
    "        for friend in self.friends:\n",
    "            print(friend.name)\n",
    "    \n",
    "    def is_friend(self, friend):\n",
    "        return friend in self.friends"
   ]
  },
  {
   "cell_type": "markdown",
   "metadata": {},
   "source": [
    "We now test the functionality of the class."
   ]
  },
  {
   "cell_type": "code",
   "execution_count": 155,
   "metadata": {},
   "outputs": [
    {
     "name": "stdout",
     "output_type": "stream",
     "text": [
      "Hello, my name is John and I am 36 years old\n",
      "My friends are:\n",
      "Katy\n",
      "Eric\n",
      "True\n",
      "False\n"
     ]
    }
   ],
   "source": [
    "person_1 = Person(\"John\", 36)\n",
    "person_2 = Person(\"Katy\", 25)\n",
    "person_3 = Person(\"Eric\", 45)\n",
    "person_4 = Person(\"Jessica\", 23)\n",
    "\n",
    "# Add friends\n",
    "person_1.add_friend(person_2)\n",
    "person_1.add_friend(person_3)\n",
    "\n",
    "# Greet and print friends of person_1\n",
    "person_1.say_hello()\n",
    "person_1.list_friends()\n",
    "\n",
    "# Check if person_2 and person_4 are friends of person_1\n",
    "print(person_1.is_friend(person_2)) # True since person_2 is a friend of person_1\n",
    "print(person_1.is_friend(person_4)) # False since person_4 is not a friend of person_1"
   ]
  },
  {
   "cell_type": "markdown",
   "metadata": {},
   "source": [
    "Usually, friendship is a symmetric relationship. If `person1` is a friend of `person2`, then `person2` is also a friend of `person1`. Can you modify the `add_friend` method to make the friendship relationship symmetric? Be careful to avoid infinite loops when adding friends.\n",
    "\n",
    "---"
   ]
  },
  {
   "cell_type": "markdown",
   "metadata": {},
   "source": [
    "## Recursion\n",
    "\n",
    "Recursion is a technique in programming where a function calls itself. It is a powerful tool that can be used to solve problems that can be broken down into smaller, similar subproblems. Trees are a common data structure where recursion is used. In particular, when learning and prediction using decision trees, we will use recursion to traverse the tree.\n",
    "\n",
    "Let us see an example of recursion by writing a function to calculate the factorial of a number. The factorial $n!$ of a non-negative integer $n$ is defined as $n! = n \\times (n-1) \\times (n-2) \\times \\ldots \\times 1$. The factorial of 0 is defined as 1. The definition of the factorial function is recursive, as the factorial of $n$ depends on the factorial of $n-1$ since $n! = n \\times (n-1)!$."
   ]
  },
  {
   "cell_type": "code",
   "execution_count": 156,
   "metadata": {},
   "outputs": [
    {
     "name": "stdout",
     "output_type": "stream",
     "text": [
      "120\n",
      "3628800\n"
     ]
    }
   ],
   "source": [
    "# Recursive functions\n",
    "def factorial(n):\n",
    "    if n == 0:\n",
    "        return 1\n",
    "    return n * factorial(n - 1)\n",
    "\n",
    "print(factorial(5)) # 5 * 4 * 3 * 2 * 1 = 120\n",
    "print(factorial(10)) # 10 * 9 * 8 * 7 * 6 * 5 * 4 * 3 * 2 * 1 = 3628800"
   ]
  },
  {
   "cell_type": "markdown",
   "metadata": {},
   "source": [
    "Let us also see an example of using recursion to calculate the sum $\\sum_{i=1}^{n} i$ of the first $n$ natural numbers."
   ]
  },
  {
   "cell_type": "code",
   "execution_count": 157,
   "metadata": {},
   "outputs": [
    {
     "name": "stdout",
     "output_type": "stream",
     "text": [
      "55\n",
      "5050\n"
     ]
    }
   ],
   "source": [
    "def sum_up_to(n):\n",
    "    if n == 1:\n",
    "        return 1\n",
    "    return n + sum_up_to(n - 1)\n",
    "    \n",
    "print(sum_up_to(10)) # 10 + 9 + 8 + 7 + 6 + 5 + 4 + 3 + 2 + 1 = 55\n",
    "print(sum_up_to(100)) # 100 + 99 + 98 + ... + 3 + 2 + 1 = 5050"
   ]
  },
  {
   "cell_type": "markdown",
   "metadata": {},
   "source": [
    "The two examples above can also be solved iteratively using loops. However, there are problems that are more naturally solved using recursion. For example, as we will see later in this notebook, traversing a tree data structure is often easier using recursion.\n",
    "\n",
    "Here are the iterative versions of the two functions above:"
   ]
  },
  {
   "cell_type": "code",
   "execution_count": 158,
   "metadata": {},
   "outputs": [
    {
     "name": "stdout",
     "output_type": "stream",
     "text": [
      "120\n",
      "3628800\n",
      "55\n",
      "5050\n"
     ]
    }
   ],
   "source": [
    "def factorial(n):\n",
    "    result = 1\n",
    "    for i in range(1, n + 1):\n",
    "        result *= i\n",
    "    return result\n",
    "\n",
    "def sum_up_to(n):\n",
    "    result = 0\n",
    "    for i in range(1, n + 1):\n",
    "        result += i\n",
    "    return result\n",
    "    # Or return n * (n + 1) // 2 if you want to be fancy\n",
    "\n",
    "print(factorial(5)) # 5 * 4 * 3 * 2 * 1 = 120\n",
    "print(factorial(10)) # 10 * 9 * 8 * 7 * 6 * 5 * 4 * 3 * 2 * 1 = 3628800\n",
    "\n",
    "print(sum_up_to(10)) # 10 + 9 + 8 + 7 + 6 + 5 + 4 + 3 + 2 + 1 = 55\n",
    "print(sum_up_to(100)) # 100 + 99 + 98 + ... + 3 + 2 + 1 = 5050"
   ]
  },
  {
   "cell_type": "markdown",
   "metadata": {},
   "source": [
    "## Exercise 1 - Recursive Functions\n",
    "\n",
    "Implement the following recursive functions (even though some of them can be implemented more efficiently in other ways):\n",
    "\n",
    "1. Write a recursive function `fibonacci(n)` that calculates the $n$-th Fibonacci number. The Fibonacci sequence is defined as $F_0 = 0$, $F_1 = 1$, and $F_n = F_{n-1} + F_{n-2}$ for $n \\geq 2$. The first few Fibonacci numbers are 0, 1, 1, 2, 3, 5, 8, 13, 21, and so on.\n",
    "\n",
    "2. Write a recursive function `power(x, n)` that calculates $x^n$ for a given real number $x$ and a non-negative integer $n$. Hint: You can use the property $x^n = x \\times x^{n-1}$.\n",
    "\n",
    "3. Write a recursive function `gcd(a, b)` that calculates the greatest common divisor of two non-negative integers $a$ and $b$. The greatest common divisor of $a$ and $b$ is the largest number that divides both $a$ and $b$. Use the Euclidean algorithm to calculate the greatest common divisor. The Euclidean algorithm states that $\\gcd(a, b) = \\gcd(b, a \\mod b)$, and $\\gcd(a, 0) = a$.\n",
    "   \n",
    "4. Write a recursive function `is_palindrome(s)` that checks if a given string `s` is a palindrome. A palindrome is a string that reads the same forwards and backwards. For example, \"racecar\" is a palindrome. Hint: You can compare the first and last characters of the string, and then check if the substring between the first and last characters is a palindrome."
   ]
  },
  {
   "cell_type": "code",
   "execution_count": 159,
   "metadata": {},
   "outputs": [
    {
     "name": "stdout",
     "output_type": "stream",
     "text": [
      "1\n",
      "5\n",
      "55\n",
      "6765\n",
      "4\n",
      "256\n",
      "161051\n",
      "10510100501\n",
      "1\n",
      "3\n",
      "32\n",
      "6\n",
      "True\n",
      "False\n",
      "True\n",
      "False\n"
     ]
    }
   ],
   "source": [
    "def fibonacci(n):\n",
    "    if n == 0:\n",
    "        return 0\n",
    "    if n == 1:\n",
    "        return 1\n",
    "    return fibonacci(n-1) + fibonacci(n-2)\n",
    "\n",
    "def power(x, n):\n",
    "    if n > 1:\n",
    "        return x * power(x, n-1)\n",
    "    else: \n",
    "        return x\n",
    "        \n",
    "def gcd(a, b):\n",
    "    if b == 0:\n",
    "        return a\n",
    "    return gcd(b, a%b)\n",
    "    \n",
    "def is_palindrome(s: str) -> bool:\n",
    "    if len(s) < 2:\n",
    "        return True\n",
    "    \n",
    "    if s[0] == s[-1]:\n",
    "        return is_palindrome(s[1:-1])\n",
    "    else:\n",
    "        return False\n",
    "\n",
    "# Test fibonacci()\n",
    "print(fibonacci(1))  # 1\n",
    "print(fibonacci(5))  # 5\n",
    "print(fibonacci(10)) # 55\n",
    "print(fibonacci(20)) # 6765\n",
    "\n",
    "# Test power()\n",
    "print(power(2, 2))   # 4\n",
    "print(power(4, 4))   # 256\n",
    "print(power(11, 5))  # 161051\n",
    "print(power(101, 5)) # 10510100501\n",
    "\n",
    "# Test gcd()\n",
    "print(gcd(19, 17)) # 1\n",
    "print(gcd(9, 12))  # 3\n",
    "print(gcd(64, 32)) # 32\n",
    "print(gcd(48, 18)) # 6\n",
    "\n",
    "# Test is_palindrome()\n",
    "print(is_palindrome(\"racecar\")) # True\n",
    "print(is_palindrome(\"hello\"))   # False\n",
    "print(is_palindrome(\"level\"))   # True\n",
    "print(is_palindrome(\"world\"))   # False"
   ]
  },
  {
   "cell_type": "markdown",
   "metadata": {},
   "source": [
    "**Extra challenge:** Implement the above functions *iteratively* instead of recursively. That is, write a non-recursive version of each function using loops instead of recursion."
   ]
  },
  {
   "cell_type": "code",
   "execution_count": 160,
   "metadata": {},
   "outputs": [
    {
     "name": "stdout",
     "output_type": "stream",
     "text": [
      "1\n",
      "5\n",
      "55\n",
      "6765\n",
      "4\n",
      "256\n",
      "161051\n",
      "10510100501\n",
      "1\n",
      "3\n",
      "32\n",
      "6\n",
      "True\n",
      "False\n",
      "True\n",
      "False\n"
     ]
    }
   ],
   "source": [
    "def fibonacci(n):\n",
    "    if n < 1:\n",
    "        return 0\n",
    "    a = 0\n",
    "    b = 1\n",
    "    for i in range(n-1):\n",
    "        a, b = b , a + b\n",
    "    return b\n",
    "\n",
    "\n",
    "def power(x, n):\n",
    "    sum = x \n",
    "    while n > 1:\n",
    "        sum *= x\n",
    "        n -= 1\n",
    "    return sum\n",
    "\n",
    "            \n",
    "\n",
    "def gcd(a, b):\n",
    "    while b != 0:\n",
    "        a, b = b, a%b\n",
    "    return abs(a)\n",
    "    \n",
    "\n",
    "def is_palindrome(s):\n",
    "    half = len(s)//2\n",
    "    while s[half] == s[-half-1]:\n",
    "        half -= 1\n",
    "        if half == 0:\n",
    "            return True\n",
    "    return False\n",
    "\n",
    "\n",
    "# Test fibonacci()\n",
    "print(fibonacci(1))  # 1\n",
    "print(fibonacci(5))  # 5\n",
    "print(fibonacci(10)) # 55\n",
    "print(fibonacci(20)) # 6765\n",
    "\n",
    "# Test power()\n",
    "print(power(2, 2))   # 4\n",
    "print(power(4, 4))   # 256\n",
    "print(power(11, 5))  # 161051\n",
    "print(power(101, 5)) # 10510100501\n",
    "\n",
    "# Test gcd()\n",
    "print(gcd(19, 17)) # 1\n",
    "print(gcd(9, 12))  # 3\n",
    "print(gcd(64, 32)) # 32\n",
    "print(gcd(48, 18)) # 6\n",
    "\n",
    "# Test is_palindrome()\n",
    "print(is_palindrome(\"racecar\")) # True\n",
    "print(is_palindrome(\"hello\"))   # False\n",
    "print(is_palindrome(\"level\"))   # True\n",
    "print(is_palindrome(\"world\"))   # False"
   ]
  },
  {
   "cell_type": "markdown",
   "metadata": {},
   "source": [
    "---\n",
    "\n",
    "## Trees and Traversing Trees using Recursion\n",
    "\n",
    "A tree is a data structure that consists of nodes connected by edges. Each node has a value, and can have zero or more children. The topmost node is called the root of the tree.\n",
    "\n",
    "Decision trees, which you will implement in the first project, are a type of tree data structure. In a decision tree, each node represents a decision, and the edges represent the possible outcomes of the decision.\n",
    "\n",
    "Let us create the class `Node` to represent a node in a tree. Each node will have a value, and a list of children nodes."
   ]
  },
  {
   "cell_type": "code",
   "execution_count": 161,
   "metadata": {},
   "outputs": [],
   "source": [
    "class Node():\n",
    "    def __init__(self, data):\n",
    "        self.data = data\n",
    "        self.children = []"
   ]
  },
  {
   "cell_type": "markdown",
   "metadata": {},
   "source": [
    "Let us use the `Node` class to create a simple tree manually. We will create the tree shown below with 6 nodes (including the root node).\n",
    "\n",
    "```plaintext\n",
    "              root\n",
    "            /      \\\n",
    "        left       right\n",
    "       /    \\         \\  \n",
    "left-left  left-right  right-left\n",
    " ```"
   ]
  },
  {
   "cell_type": "code",
   "execution_count": 162,
   "metadata": {},
   "outputs": [],
   "source": [
    "# Create a tree using our Node class\n",
    "node_1 = Node(\"root\")\n",
    "node_2 = Node(\"left\")\n",
    "node_3 = Node(\"right\")\n",
    "node_4 = Node(\"left-left\")\n",
    "node_5 = Node(\"left-right\")\n",
    "node_6 = Node(\"right-left\")\n",
    "\n",
    "node_1.children.append(node_2)\n",
    "node_1.children.append(node_3)\n",
    "node_2.children.append(node_4)\n",
    "node_2.children.append(node_5)\n",
    "node_3.children.append(node_6)"
   ]
  },
  {
   "cell_type": "markdown",
   "metadata": {},
   "source": [
    "All good! Now let's write a function to print the tree in a human-readable format.\n",
    "\n",
    "Let us get back to **recursion**. In the context of trees, recursion is often used to traverse the tree and perform operations on each node.\n",
    "\n",
    "We can use recursion to traverse the tree we created and print the value of each node. We will write a function `print_tree` that takes a node as input and prints the value of the node, and then calls itself on each child of the node. To make the output more readable, we will also add an argument `level` to keep track of the level of the node in the tree and indent the output accordingly."
   ]
  },
  {
   "cell_type": "code",
   "execution_count": 163,
   "metadata": {},
   "outputs": [],
   "source": [
    "# Print the tree using a recursive function\n",
    "def print_tree(node, level=0):\n",
    "    print(\"  \" * level + str(node.data))\n",
    "    for child in node.children:\n",
    "        print_tree(child, level + 1)"
   ]
  },
  {
   "cell_type": "markdown",
   "metadata": {},
   "source": [
    "Let us test the `print_tree` function on the tree we created by starting from the root node."
   ]
  },
  {
   "cell_type": "code",
   "execution_count": 164,
   "metadata": {},
   "outputs": [
    {
     "name": "stdout",
     "output_type": "stream",
     "text": [
      "root\n",
      "  left\n",
      "    left-left\n",
      "    left-right\n",
      "  right\n",
      "    right-left\n"
     ]
    }
   ],
   "source": [
    "print_tree(node_1)"
   ]
  },
  {
   "cell_type": "markdown",
   "metadata": {},
   "source": [
    "## Exercise 2 - Functions on Trees\n",
    "\n",
    "For this exercise, you will implement some functions on trees using recursion. First, let us define a tree using the `Node` class with integer values to test the functions on.\n",
    "    \n",
    "```plaintext\n",
    "              2 (root node)\n",
    "           /  |  \\\n",
    "          /   |   \\\n",
    "         /    |    \\\n",
    "        21    54   14\n",
    "       /  \\   |   /  \\\n",
    "      69  42  70 117 31\n",
    "```"
   ]
  },
  {
   "cell_type": "code",
   "execution_count": 165,
   "metadata": {},
   "outputs": [],
   "source": [
    "root = Node(2)\n",
    "root.children = [Node(21), Node(54), Node(14)]\n",
    "root.children[0].children = [Node(69), Node(42)]\n",
    "root.children[1].children = [Node(70)]\n",
    "root.children[2].children = [Node(117), Node(31)]"
   ]
  },
  {
   "cell_type": "markdown",
   "metadata": {},
   "source": [
    "Write the following functions using recursion to operate on the tree:\n",
    "\n",
    "1. `sum_tree`: This function should take a node as input and return the sum of all the values in the tree rooted at that node.\n",
    "2. `max_tree`: This function should take a node as input and return the maximum value in the tree rooted at that node.\n",
    "3. `search_tree`: This function should take a node and a value as input and return `True` if the value is present in the tree rooted at that node, and `False` otherwise.\n",
    "4. `count_nodes`: This function should take a node as input and return the number of nodes in the tree rooted at that node.\n",
    "5. `print_leaf_nodes`: This function should take a node as input and print the value of all the leaf nodes in the tree rooted at that node."
   ]
  },
  {
   "cell_type": "code",
   "execution_count": 166,
   "metadata": {},
   "outputs": [
    {
     "name": "stdout",
     "output_type": "stream",
     "text": [
      "The sum of the node values is: 420\n",
      "The maximum value in the tree is: 117\n",
      "Is 41 in the tree? False\n",
      "Is 42 in the tree? True\n",
      "The number of nodes in the tree is: 9\n",
      "The leaf nodes in the tree are:  69 42 70 117 31 "
     ]
    }
   ],
   "source": [
    "def sum_tree(node):\n",
    "    return node.data + sum([sum_tree(child) for child in node.children])\n",
    "\n",
    "def max_tree(node):\n",
    "    return max([node.data] + [max_tree(child) for child in node.children])\n",
    "\n",
    "def search_tree(node, value):\n",
    "    return node.data == value or any([search_tree(child, value) for child in node.children])\n",
    "    \n",
    "def count_nodes(node):\n",
    "    return 1 + sum([count_nodes(child) for child in node.children])\n",
    "\n",
    "def print_leaf_nodes(node):\n",
    "    if not node.children:\n",
    "        print(node.data, end=\" \")\n",
    "    else:\n",
    "        for child in node.children:\n",
    "            print_leaf_nodes(child)\n",
    "\n",
    "\n",
    "print(f\"The sum of the node values is: {sum_tree(root)}\") # 420\n",
    "print(f\"The maximum value in the tree is: {max_tree(root)}\") # 117\n",
    "print(f\"Is 41 in the tree? {search_tree(root, 41)}\") # False\n",
    "print(f\"Is 42 in the tree? {search_tree(root, 42)}\") # True\n",
    "print(f\"The number of nodes in the tree is: {count_nodes(root)}\") # 9\n",
    "print(f\"The leaf nodes in the tree are: \", end=\" \") # 69, 42, 70, 117, 31\n",
    "print_leaf_nodes(root)"
   ]
  },
  {
   "cell_type": "markdown",
   "metadata": {},
   "source": [
    "---\n",
    "\n",
    "## Binary Trees\n",
    "\n",
    "A (full) binary tree is a tree in which each node has two or no children. It is simpler than the general tree we have been working with so far, but it is a very important data structure in computer science.\n",
    "\n",
    "For implementing a decision tree with only binary splits (as you will do in the first project), it is sufficient to use a binary tree. We will rewrite the `Node` class for use with binary trees, where each node has a value, a left child, and a right child. More attributes can be added as needed.\n",
    "\n",
    "We will also add a method `is_leaf` to check if a node is a leaf node (i.e., it has no children). This is useful for traversing the tree until we reach a leaf node such as in the case of making predictions using a decision tree."
   ]
  },
  {
   "cell_type": "code",
   "execution_count": 167,
   "metadata": {},
   "outputs": [],
   "source": [
    "class Node:\n",
    "    def __init__(self, value):\n",
    "        self.value = value\n",
    "        self.left = None\n",
    "        self.right = None\n",
    "    \n",
    "    def is_leaf(self):\n",
    "        return self.left is None and self.right is None"
   ]
  },
  {
   "cell_type": "markdown",
   "metadata": {},
   "source": [
    "We can create a class `Tree` to represent a (binary) tree. The tree will have a root node, and we can add methods to the class to perform operations on the tree. The advantage of using a class to represent a tree is that we can encapsulate the tree operations within the class.\n",
    "\n",
    "In the first project you will create a class called `DecisionTree` that will represent a decision tree. The `DecisionTree` will have methods to train the tree on a dataset and make predictions using the learned tree.\n",
    "\n",
    "Let us create a simple binary tree using the `Tree` class.\n",
    "\n",
    "```plaintext\n",
    "              2 (root node)\n",
    "           /      \\\n",
    "          /        \\\n",
    "         /          \\\n",
    "        21          54\n",
    "       /  \\        /  \\\n",
    "      69  42      70  14\n",
    "```\n",
    "\n",
    "We will add a method `__len__` to the `Tree` class that returns the number of nodes in the tree. A method called `__len__` is a special method in Python that allows you to customize the behavior of the `len` function on objects of the class."
   ]
  },
  {
   "cell_type": "code",
   "execution_count": 168,
   "metadata": {},
   "outputs": [],
   "source": [
    "class Tree:\n",
    "    def __init__(self):\n",
    "        self.root = None\n",
    "\n",
    "    def count_nodes(self, node):\n",
    "        if node is None:\n",
    "            return 0\n",
    "        return 1 + self.count_nodes(node.left) + self.count_nodes(node.right)\n",
    "    \n",
    "    def __len__(self):\n",
    "        return self.count_nodes(self.root)"
   ]
  },
  {
   "cell_type": "code",
   "execution_count": 169,
   "metadata": {},
   "outputs": [
    {
     "name": "stdout",
     "output_type": "stream",
     "text": [
      "The number of nodes in the tree is: 7\n"
     ]
    }
   ],
   "source": [
    "tree = Tree()\n",
    "\n",
    "tree.root = Node(2)\n",
    "tree.root.left = Node(21)\n",
    "tree.root.right = Node(54)\n",
    "tree.root.left.left = Node(69)\n",
    "tree.root.left.right = Node(42)\n",
    "tree.root.right.left = Node(70)\n",
    "tree.root.right.right = Node(14)\n",
    "\n",
    "print(f\"The number of nodes in the tree is: {len(tree)}\")"
   ]
  },
  {
   "cell_type": "markdown",
   "metadata": {},
   "source": [
    "## Exercise 3 - A Simple Prediction Method using a Binary Tree\n",
    "\n",
    "You will now implement a method to make predictions using a binary tree. This is a toy version of what you will do in the first project.\n",
    "\n",
    "In the `Tree` class below, implement a method `predict(self, value)` that takes a integer value as input and returns the value of the leaf node that the input value reaches by traversing the tree. The input value should be compared to the value of the root node, and if it is less than the root node value, it should be passed to the left child, otherwise to the right child. This process should be repeated until a leaf node is reached. When the leaf node is reached, the `value` attribute of the leaf node should be returned.\n",
    "\n",
    "It can be useful to implement a recursive helper function `_predict(self, node, value)` that takes a node and value as input and performs the traversal. Then, the `predict` method can call this helper function with the root node and the input value."
   ]
  },
  {
   "cell_type": "code",
   "execution_count": 170,
   "metadata": {},
   "outputs": [],
   "source": [
    "class Tree:\n",
    "    def __init__(self):\n",
    "        self.root = None\n",
    "\n",
    "    def predict(self, value):\n",
    "        return self._predict(self.root, value)\n",
    "    \n",
    "    def _predict(self, node, value):\n",
    "        while not node.is_leaf():\n",
    "            if value < node.value:\n",
    "                node = node.left\n",
    "            else:\n",
    "                node = node.right\n",
    "        return node.value"
   ]
  },
  {
   "cell_type": "markdown",
   "metadata": {},
   "source": [
    "Test your implementation on the tree we created above by running the code below. The expected output is commented in the code."
   ]
  },
  {
   "cell_type": "code",
   "execution_count": 171,
   "metadata": {},
   "outputs": [
    {
     "name": "stdout",
     "output_type": "stream",
     "text": [
      "70\n",
      "14\n",
      "69\n"
     ]
    }
   ],
   "source": [
    "tree = Tree()\n",
    "\n",
    "tree.root = Node(2)\n",
    "tree.root.left = Node(21)\n",
    "tree.root.right = Node(54)\n",
    "tree.root.left.left = Node(69)\n",
    "tree.root.left.right = Node(42)\n",
    "tree.root.right.left = Node(70)\n",
    "tree.root.right.right = Node(14)\n",
    "\n",
    "print(tree.predict(42)) # 70\n",
    "print(tree.predict(55)) # 14\n",
    "print(tree.predict(1)) # 69"
   ]
  },
  {
   "cell_type": "markdown",
   "metadata": {},
   "source": [
    "Above, you implemented a type of conditional traversal of a binary tree. Let us take it a step further and make the prediction method more similar to what you will do in the first project.\n",
    "\n",
    "Let us start by extending the `Node` class to include the following attributes:\n",
    "\n",
    "1. `value`: The value of the node (the decision made at the node). This attribute is only used for leaf nodes.\n",
    "2. `threshold`: The threshold used to make a decision at the node. This attribute is only used for non-leaf nodes.\n",
    "3. `feature_index`: The index of the feature used to make a decision at the node. This attribute is only used for non-leaf nodes.\n",
    "4. `left`: The left child of the node.\n",
    "5. `right`: The right child of the node.\n",
    "\n",
    "We will also keep the `is_leaf` method to check if a node is a leaf node.\n",
    "\n",
    "The prediction method will now be a bit more complex. It will take a feature vector as input and traverse the tree to make a prediction. At each non-leaf node, the feature value at the index given by `feature_index` is compared to the `threshold`. If the feature value is less than the threshold, the left child is visited, otherwise the right child is visited. This process is repeated until a leaf node is reached, and the value of the leaf node is returned."
   ]
  },
  {
   "cell_type": "code",
   "execution_count": 172,
   "metadata": {},
   "outputs": [],
   "source": [
    "class Node:\n",
    "    def __init__(self, feature_index=None, threshold=None, value=None):\n",
    "        self.feature_index = feature_index\n",
    "        self.threshold = threshold\n",
    "        self.value = value\n",
    "        self.left = None\n",
    "        self.right = None\n",
    "    \n",
    "    def is_leaf(self):\n",
    "        return self.left is None and self.right is None"
   ]
  },
  {
   "cell_type": "markdown",
   "metadata": {},
   "source": [
    "Implement the `predict` method in the `Tree` class below. The method should take a feature vector as input and return the value of the leaf node that the feature vector reaches by traversing the tree."
   ]
  },
  {
   "cell_type": "code",
   "execution_count": 173,
   "metadata": {},
   "outputs": [],
   "source": [
    "class Tree:\n",
    "    def __init__(self):\n",
    "        self.root = None\n",
    "\n",
    "    def predict(self, features):\n",
    "        return self._predict(self.root, features)\n",
    "\n",
    "    def _predict(self, node, features):\n",
    "        while not node.is_leaf():\n",
    "            if features[node.feature_index] < node.threshold:\n",
    "                node = node.left\n",
    "            else:\n",
    "                node = node.right\n",
    "        return node.value\n"
   ]
  },
  {
   "cell_type": "markdown",
   "metadata": {},
   "source": [
    "We create a decision tree with the following structure:\n",
    "\n",
    "```\n",
    "                (feature_index=1, threshold=50)\n",
    "                        /                   \\\n",
    "                       /                     \\\n",
    "                      /                       \\\n",
    "    (feature_index=0, threshold=30)          (value=1)\n",
    "            /               \\\n",
    "           /                 \\\n",
    "          /                   \\\n",
    "    (value=0)                (value=2)\n",
    "```\n",
    "\n",
    "The tree above makes decisions based on two features. If the value of the feature at index 1 is less than 50, the tree goes to the left child, otherwise it goes to the right child. If the value of the feature at index 0 is less than 30, the tree goes to the left child, otherwise it goes to the right child. The value of the leaf node reached is the prediction output.\n",
    "\n",
    "Run the code below to test your implementation. The expected output is commented in the code."
   ]
  },
  {
   "cell_type": "code",
   "execution_count": 174,
   "metadata": {},
   "outputs": [
    {
     "name": "stdout",
     "output_type": "stream",
     "text": [
      "1\n",
      "0\n",
      "2\n"
     ]
    }
   ],
   "source": [
    "# Create a decision tree\n",
    "tree = Tree()\n",
    "tree.root = Node(feature_index=1, threshold=50)\n",
    "tree.root.right = Node(value=1)\n",
    "tree.root.left = Node(feature_index=0, threshold=30)\n",
    "tree.root.left.left = Node(value=0)\n",
    "tree.root.left.right = Node(value=2)\n",
    "\n",
    "# Predict using the decision tree\n",
    "x = [35, 55] # Feature 0 is 35 and feature 1 is 55\n",
    "print(tree.predict(x)) # 1 since 55 > 50\n",
    "\n",
    "x = [25, 45] # Feature 0 is 25 and feature 1 is 45\n",
    "print(tree.predict(x)) # 0 since 45 < 50 and 25 < 30\n",
    "\n",
    "x = [45, 25] # Feature 0 is 45 and feature 1 is 25\n",
    "print(tree.predict(x)) # 2 since 25 < 50 and 45 > 30"
   ]
  },
  {
   "cell_type": "markdown",
   "metadata": {},
   "source": [
    "Congratulations on completing this primer on classes, trees, and recursion! \n",
    "\n",
    "**Good luck with the first project!**"
   ]
  }
 ],
 "metadata": {
  "kernelspec": {
   "display_name": "INF264",
   "language": "python",
   "name": "python3"
  },
  "language_info": {
   "codemirror_mode": {
    "name": "ipython",
    "version": 3
   },
   "file_extension": ".py",
   "mimetype": "text/x-python",
   "name": "python",
   "nbconvert_exporter": "python",
   "pygments_lexer": "ipython3",
   "version": "3.11.4"
  }
 },
 "nbformat": 4,
 "nbformat_minor": 2
}
