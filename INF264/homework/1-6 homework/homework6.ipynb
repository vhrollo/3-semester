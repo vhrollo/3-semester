{
 "cells": [
  {
   "cell_type": "markdown",
   "metadata": {},
   "source": [
    "# Boosting algorithm"
   ]
  },
  {
   "cell_type": "code",
   "execution_count": 12,
   "metadata": {},
   "outputs": [],
   "source": [
    "from sklearn.tree import DecisionTreeClassifier\n",
    "from sklearn.linear_model import LogisticRegression\n",
    "from sklearn.model_selection import train_test_split, KFold, cross_val_score\n",
    "from sklearn.metrics import accuracy_score\n",
    "from sklearn.pipeline import Pipeline\n",
    "import numpy as np\n",
    "import matplotlib.pyplot as plt\n",
    "from math import log, exp"
   ]
  },
  {
   "cell_type": "code",
   "execution_count": 13,
   "metadata": {},
   "outputs": [],
   "source": [
    "seed = 42"
   ]
  },
  {
   "cell_type": "markdown",
   "metadata": {},
   "source": [
    "### Load data"
   ]
  },
  {
   "cell_type": "code",
   "execution_count": 14,
   "metadata": {
    "tags": []
   },
   "outputs": [
    {
     "name": "stdout",
     "output_type": "stream",
     "text": [
      "Number of samples:  208\n",
      "Number of features: 60\n"
     ]
    }
   ],
   "source": [
    "# load and prepare data\n",
    "data = np.loadtxt('sonar.all-data', delimiter=',', dtype=np.str_)\n",
    "X = data[:, :-1].astype(np.float_)\n",
    "y = (data[:, -1] == \"M\").astype(np.int_)\n",
    "y = np.where(y == 0, -1, 1)\n",
    "\n",
    "print(f\"Number of samples:  {X.shape[0]}\")\n",
    "print(f\"Number of features: {X.shape[-1]}\")"
   ]
  },
  {
   "cell_type": "code",
   "execution_count": 15,
   "metadata": {},
   "outputs": [],
   "source": [
    "# split for cross-vall and test\n",
    "X_train, X_test, y_train, y_test = train_test_split(X, y, test_size=0.2, random_state=seed)\n",
    "\n",
    "kf = KFold(n_splits=5, shuffle=True, random_state=seed)"
   ]
  },
  {
   "cell_type": "markdown",
   "metadata": {},
   "source": [
    "### Boosting train and predict functions\n",
    "\n",
    "\n",
    "**Note 1**: \n",
    "\n",
    "in scikit-learn, all supervised estimators implement a ``fit(X, y)`` method and a ``predict(X)`` method with ``X`` being unlabeled observations and  ``y`` being labels. \n",
    "\n",
    "Therefore ``Classifier`` parameter can be any sklearn class implementing a supervised classifier.\n",
    "\n",
    "(See *The problem solved in supervised learning* section in the supervised learning tutorial from [sklearn documentation](https://scikit-learn.org/stable/tutorial/statistical_inference/supervised_learning.html)\n",
    "\n",
    "**Note 2**: \n",
    "\n",
    "Some sklearn classifiers (such as [DecisionTreeClassifier](https://scikit-learn.org/stable/modules/generated/sklearn.tree.DecisionTreeClassifier.html), [SVM](https://scikit-learn.org/stable/modules/generated/sklearn.svm.SVC.html), [LogisticRegression](https://scikit-learn.org/stable/modules/generated/sklearn.linear_model.LogisticRegression.html), etc.)  have a ``sample_weight`` parameters in their ``fit`` and ``score`` methods, making it easy to implement a user-defined boosting algorithm. "
   ]
  },
  {
   "cell_type": "code",
   "execution_count": 16,
   "metadata": {},
   "outputs": [],
   "source": [
    "def boosting_train(\n",
    "    X_train, \n",
    "    y_train, \n",
    "    n_clfs,           # number of classifier\n",
    "    Classifier,       # Python class of classifier\n",
    "    clfs_args = {},   # Specific python class of classifier's arguments\n",
    "):\n",
    "    \"\"\"\n",
    "    Adaboost training lgorithm\n",
    "    \"\"\"\n",
    "    clfs = []\n",
    "    alphas = []\n",
    "    # Initialize weights to 1/n\n",
    "    n = len(y_train)\n",
    "    w = np.ones(n) / n\n",
    "\n",
    "    for t in range(n_clfs):\n",
    "        # -------------------------\n",
    "        # Train a new classifier\n",
    "        # -------------------------\n",
    "\n",
    "        # Train a weak learner using the training data and the sample weights\n",
    "        clf = Classifier(**clfs_args)\n",
    "        clf.fit(X_train, y_train, sample_weight=w)\n",
    "        clfs.append(clf)\n",
    "        \n",
    "\n",
    "        # Compute weighted training accuracy\n",
    "        y_pred = clf.predict(X_train)\n",
    "        error = np.sum(w * (y_train != y_pred))\n",
    "\n",
    "        # Compute alpha_t (and avoid math errors)\n",
    "        alpha = 0.5 * log((1 - error) / max(error, 1e-10))\n",
    "        alphas.append(alpha)\n",
    "\n",
    "\n",
    "        # -------------------------\n",
    "        # Update weights\n",
    "        # -------------------------\n",
    "        # Weights increase only if y_train != y_pred \n",
    "        # so that we concentrate on “hardest” examples\n",
    "\n",
    "        w = w * np.exp(-alpha * y_train * y_pred)\n",
    "        # Normalize weights\n",
    "        w /= np.sum(w)\n",
    "\n",
    "    # Return the list of trained classifiers composing the boosting classifier\n",
    "    # with their corresponding weights 'alphas'\n",
    "    return(clfs, alphas)\n",
    "\n",
    "def boosting_predict(\n",
    "    clfs,       # list of classifiers composing the boosting classifier\n",
    "    alphas,     # Weights associated with each classifier in 'clfs'\n",
    "    X,\n",
    "):\n",
    "    \"\"\"\n",
    "    Adaboost predict algorithm\n",
    "    \"\"\"\n",
    "    n = len(X)\n",
    "    y_pred = np.zeros(n)\n",
    "    for clf, alpha in zip(clfs, alphas):\n",
    "        y_pred += alpha * clf.predict(X)\n",
    "    return np.sign(y_pred)"
   ]
  },
  {
   "cell_type": "code",
   "execution_count": 17,
   "metadata": {},
   "outputs": [],
   "source": [
    "class CustomAdaBoost:\n",
    "    def __init__(self, n_clfs, Classifier, clfs_args={}):\n",
    "        self.n_clfs = n_clfs\n",
    "        self.Classifier = Classifier\n",
    "        self.clfs_args = clfs_args\n",
    "\n",
    "    def fit(self, X, y):\n",
    "        self.clfs, self.alphas = boosting_train(X, y, self.n_clfs, self.Classifier, self.clfs_args)\n",
    "\n",
    "    def predict(self, X):\n",
    "        return boosting_predict(self.clfs, self.alphas, X)"
   ]
  },
  {
   "cell_type": "markdown",
   "metadata": {},
   "source": [
    "### Boosting pipeline using cross validation"
   ]
  },
  {
   "cell_type": "code",
   "execution_count": 18,
   "metadata": {},
   "outputs": [
    {
     "name": "stdout",
     "output_type": "stream",
     "text": [
      "Accuracy for 1 classifiers: 0.7231729055258466\n",
      "Accuracy for 10 classifiers: 0.73475935828877\n",
      "Accuracy for 50 classifiers: 0.759536541889483\n",
      "Accuracy for 100 classifiers: 0.7953654188948308\n",
      "Accuracy for 200 classifiers: 0.7832442067736187\n",
      "Test accuracy of the best model: 0.8333333333333334\n"
     ]
    }
   ],
   "source": [
    "n_clfs = [1, 10, 50, 100, 200]\n",
    "args = {\"max_depth\": 1, \"random_state\": seed}\n",
    "best_score = 0\n",
    "best_model_dt = None\n",
    "dt_accuracies = []\n",
    "\n",
    "# Loop over different numbers of classifiers\n",
    "for n in n_clfs:\n",
    "    # Create the pipeline with the custom AdaBoost classifier\n",
    "    pipeline = Pipeline([\n",
    "        ('boost', CustomAdaBoost(n_clfs=n, Classifier=DecisionTreeClassifier, clfs_args=args))\n",
    "    ])\n",
    "    \n",
    "    # Perform cross-validation using KFold\n",
    "    scores = cross_val_score(pipeline, X_train, y_train, cv=kf, scoring='accuracy')\n",
    "    mean_score = np.mean(scores)\n",
    "    print(f\"Accuracy for {n} classifiers: {mean_score}\")\n",
    "    \n",
    "    dt_accuracies.append(mean_score)\n",
    "    # Update the best model if the current one performs better\n",
    "    if mean_score > best_score:\n",
    "        best_score = mean_score\n",
    "        best_model_dt = pipeline\n",
    "\n",
    "# Train the best model on the full training data and evaluate on the test set\n",
    "best_model_dt.fit(X_train, y_train)\n",
    "y_test_pred = best_model_dt.predict(X_test)\n",
    "test_accuracy_dt = accuracy_score(y_test, y_test_pred)\n",
    "print(f\"Test accuracy of the best model: {test_accuracy_dt}\")\n"
   ]
  },
  {
   "cell_type": "markdown",
   "metadata": {},
   "source": [
    "### Training different boosting models on the sonar dataset"
   ]
  },
  {
   "cell_type": "code",
   "execution_count": 19,
   "metadata": {
    "scrolled": true,
    "tags": []
   },
   "outputs": [
    {
     "name": "stdout",
     "output_type": "stream",
     "text": [
      "Accuracy for 1 classifiers: 0.4878787878787879\n",
      "Accuracy for 10 classifiers: 0.7169340463458109\n",
      "Accuracy for 50 classifiers: 0.7472370766488414\n",
      "Accuracy for 100 classifiers: 0.7233511586452763\n",
      "Accuracy for 200 classifiers: 0.7233511586452763\n",
      "Test accuracy of the best model: 0.7380952380952381\n"
     ]
    }
   ],
   "source": [
    "n_clfs = [1, 10, 50, 100, 200]\n",
    "args = {\"random_state\": seed}\n",
    "best_score = 0\n",
    "best_model_lr = None\n",
    "lt_accuracies = []\n",
    "\n",
    "\n",
    "# Loop over different numbers of classifiers\n",
    "for n in n_clfs:\n",
    "    # Create the pipeline with the custom AdaBoost classifier\n",
    "    pipeline = Pipeline([\n",
    "        ('boost', CustomAdaBoost(n_clfs=n, Classifier=LogisticRegression, clfs_args=args))\n",
    "    ])\n",
    "    \n",
    "    # Perform cross-validation using KFold\n",
    "    scores = cross_val_score(pipeline, X_train, y_train, cv=kf, scoring='accuracy')\n",
    "    mean_score = np.mean(scores)\n",
    "    print(f\"Accuracy for {n} classifiers: {mean_score}\")\n",
    "    \n",
    "    lt_accuracies.append(mean_score)\n",
    "\n",
    "    # Update the best model if the current one performs better\n",
    "    if mean_score > best_score:\n",
    "        best_score = mean_score\n",
    "        best_model_lr = pipeline\n",
    "\n",
    "# Train the best model on the full training data and evaluate on the test set\n",
    "best_model_lr.fit(X_train, y_train)\n",
    "y_test_pred = best_model_lr.predict(X_test)\n",
    "test_accuracy_lr = accuracy_score(y_test, y_test_pred)\n",
    "print(f\"Test accuracy of the best model: {test_accuracy_lr}\")"
   ]
  },
  {
   "cell_type": "markdown",
   "metadata": {},
   "source": [
    "### Selecting and evaluating the best boosting model"
   ]
  },
  {
   "cell_type": "code",
   "execution_count": 20,
   "metadata": {},
   "outputs": [
    {
     "data": {
      "image/png": "[encoded data removed]",
      "text/plain": [
       "<Figure size 640x480 with 1 Axes>"
      ]
     },
     "metadata": {},
     "output_type": "display_data"
    }
   ],
   "source": [
    "# plot accuracy\n",
    "plt.plot(n_clfs, dt_accuracies, label=\"Decision Tree\")\n",
    "plt.plot(n_clfs, lt_accuracies, label=\"Logistic Regression\")\n",
    "plt.xlabel(\"Number of classifiers\")\n",
    "plt.ylabel(\"Accuracy\")\n",
    "\n",
    "plt.legend()\n",
    "plt.show()"
   ]
  }
 ],
 "metadata": {
  "kernelspec": {
   "display_name": "usr",
   "language": "python",
   "name": "python3"
  },
  "language_info": {
   "codemirror_mode": {
    "name": "ipython",
    "version": 3
   },
   "file_extension": ".py",
   "mimetype": "text/x-python",
   "name": "python",
   "nbconvert_exporter": "python",
   "pygments_lexer": "ipython3",
   "version": "3.11.2"
  }
 },
 "nbformat": 4,
 "nbformat_minor": 4
}
