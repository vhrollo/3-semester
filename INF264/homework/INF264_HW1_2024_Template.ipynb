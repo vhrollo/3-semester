{
 "cells": [
  {
   "cell_type": "markdown",
   "metadata": {},
   "source": [
    "# Homework 1 – $k$-NN Classifier\n",
    "\n",
    "Welcome to the first homework in INF264 where we will explore the $k$ nearest neighbors ($k$-NN) classifier.\n",
    "\n",
    "Since this is the first homework, we are going to be real nice and provide partial solutions. The parts where you need to do some work are indicated with a comment `#TODO!` in the code.\n",
    "\n",
    "#### Overview\n",
    "\n",
    "1. In the first part, we will use a implementation of a $k$-NN classifier from `sklearn`. We will use validation data to pick the optimal value for $k$ and in the end evaluate our final classifier on some unseen test data.\n",
    "\n",
    "2. In the second part, we will visualize how our classifier makes decisions. We will do this for different values of $k$ and try to understand how $k$ affects the decision making.\n",
    "\n",
    "3. That third and last part is a bonus exercise where you implement your own $k$-NN classifier from scratch.\n",
    "\n",
    "Let us start by importing NumPy and Matplotlib. We will need these for sure."
   ]
  },
  {
   "cell_type": "code",
   "execution_count": 1,
   "metadata": {},
   "outputs": [],
   "source": [
    "import numpy as np\n",
    "import matplotlib.pyplot as plt"
   ]
  },
  {
   "cell_type": "markdown",
   "metadata": {},
   "source": [
    "## Part 1 – Training and evaluating a $k$-NN classifier using `sklearn`\n",
    "\n",
    "In this first part, we are going to use the `sklearn` implementation of a $k$-NN classifier to classify different species of the flower Iris based on two measurements."
   ]
  },
  {
   "cell_type": "markdown",
   "metadata": {},
   "source": [
    "We can load the Iris dataset using `load_iris()` from `sklearn`. This returns a Python dictionary containing the dataset. The most important keys in this dictionary are:\n",
    "\n",
    "- `data` : A 2-dimensional floating point NumPy array of shape (150, 4) containing the features of individual Iris flowers (each row corresponds to a single flower and the different columns correspond to the four measurements).\n",
    "- `target` :  A 1-dimensional integer NumPy array of shape (150,) containing the labels (the type of Iris flower).\n",
    "- `target_names` : A list of strings of the class names `[\"setosa\" \"versicolor\" \"virginica\"]`.\n",
    "- `feature_names` : A list of strings of the feature names `[\"sepal length (cm)\", \"sepal width (cm)\", \"petal length (cm)\", \"petal width (cm)\"]`.\n",
    "\n",
    "**Your tasks:**\n",
    "\n",
    "1. Import the function `load_iris` from the module `sklearn.datasets`.\n",
    "2. Call `load_iris()` and store the dataset in a new variable called `dataset`.\n",
    "3. Store the two first columns of `dataset.data` in a variable `X` (our features).\n",
    "4. Store the labels `dataset.target` in a variable `y`."
   ]
  },
  {
   "cell_type": "code",
   "execution_count": 2,
   "metadata": {},
   "outputs": [
    {
     "name": "stdout",
     "output_type": "stream",
     "text": [
      "Loaded Iris dataset with features:\n",
      "\t['sepal length (cm)', 'sepal width (cm)', 'petal length (cm)', 'petal width (cm)']\n",
      "and targets:\n",
      "\t['setosa' 'versicolor' 'virginica']\n",
      "X has shape (150, 4), and y has shape (150,)\n"
     ]
    }
   ],
   "source": [
    "from sklearn.datasets import load_iris;\n",
    "\n",
    "dataset = load_iris() \n",
    "\n",
    "print(f\"Loaded Iris dataset with features:\\n\\t{dataset.feature_names}\\nand targets:\\n\\t{dataset.target_names}\")\n",
    "\n",
    "X = dataset.data #TODO! Extract the first two columns/features from the dataset\n",
    "y = dataset.target #TODO! Extract the target values from the dataset\n",
    "\n",
    "print(f\"X has shape {X.shape}, and y has shape {y.shape}\")"
   ]
  },
  {
   "cell_type": "markdown",
   "metadata": {},
   "source": [
    "We now want to split the dataset into three smaller ones. Namely, training data, validation data and testing data. These serves the following purposes:\n",
    "\n",
    "- **Training data** is used to train our $k$NN classifier (learning).\n",
    "- **Validation data** is used to tune the classifier (finding the best value for $k$ in this case).\n",
    "- **Test data** is not used during the training and is used to evaluate the final classifier on unseen data (giving us an estimate of how well our classifier will perform on new data).\n",
    "\n",
    "**Your tasks:**\n",
    "Split the dataset into 70% training data, and 15% for both validation and test data. To achieve this, we will use `train_test_split()` ([docs](https://scikit-learn.org/stable/modules/generated/sklearn.model_selection.train_test_split.html)) from `sklearn` twice.\n",
    "\n",
    "Features for training, validation and test data should be stored in variables named `X_train`, `X_val` and `X_test`, respectively. The labels/targets should be stored in variables named `y_train`, `y_val` and `y_test`."
   ]
  },
  {
   "cell_type": "code",
   "execution_count": 3,
   "metadata": {},
   "outputs": [
    {
     "name": "stdout",
     "output_type": "stream",
     "text": [
      "Training data: 105 rows.\n",
      "Validation data: 23 rows.\n",
      "Testing (unseen) data: 22 rows.\n",
      "[[6.  2.9 4.5 1.5]\n",
      " [7.  3.2 4.7 1.4]\n",
      " [6.1 3.  4.9 1.8]\n",
      " [7.7 2.8 6.7 2. ]\n",
      " [4.4 3.  1.3 0.2]\n",
      " [5.6 2.5 3.9 1.1]\n",
      " [6.6 3.  4.4 1.4]\n",
      " [5.5 2.4 3.8 1.1]\n",
      " [6.3 2.5 4.9 1.5]\n",
      " [7.7 3.8 6.7 2.2]\n",
      " [6.  3.4 4.5 1.6]\n",
      " [5.9 3.  5.1 1.8]\n",
      " [5.2 2.7 3.9 1.4]\n",
      " [5.7 2.8 4.1 1.3]\n",
      " [6.2 2.9 4.3 1.3]\n",
      " [5.8 2.7 5.1 1.9]\n",
      " [5.6 3.  4.1 1.3]\n",
      " [5.4 3.7 1.5 0.2]\n",
      " [6.7 3.1 5.6 2.4]\n",
      " [5.5 2.5 4.  1.3]\n",
      " [6.5 2.8 4.6 1.5]\n",
      " [6.3 3.3 6.  2.5]\n",
      " [6.5 3.2 5.1 2. ]\n",
      " [4.8 3.4 1.6 0.2]\n",
      " [7.2 3.6 6.1 2.5]\n",
      " [4.7 3.2 1.3 0.2]\n",
      " [5.8 2.6 4.  1.2]\n",
      " [4.6 3.6 1.  0.2]\n",
      " [6.  2.2 4.  1. ]\n",
      " [6.9 3.2 5.7 2.3]\n",
      " [4.5 2.3 1.3 0.3]\n",
      " [6.1 2.8 4.  1.3]\n",
      " [7.1 3.  5.9 2.1]\n",
      " [5.3 3.7 1.5 0.2]\n",
      " [5.  3.6 1.4 0.2]\n",
      " [4.9 2.4 3.3 1. ]\n",
      " [6.3 2.5 5.  1.9]\n",
      " [5.5 2.4 3.7 1. ]\n",
      " [6.3 3.4 5.6 2.4]\n",
      " [6.5 3.  5.5 1.8]\n",
      " [6.7 3.3 5.7 2.5]\n",
      " [5.  3.2 1.2 0.2]\n",
      " [6.  3.  4.8 1.8]\n",
      " [6.1 2.8 4.7 1.2]\n",
      " [5.8 2.7 4.1 1. ]\n",
      " [5.1 3.8 1.6 0.2]\n",
      " [5.  3.4 1.5 0.2]\n",
      " [6.7 3.  5.2 2.3]\n",
      " [6.3 2.3 4.4 1.3]\n",
      " [5.1 3.8 1.9 0.4]\n",
      " [6.1 2.9 4.7 1.4]\n",
      " [4.4 3.2 1.3 0.2]\n",
      " [5.  2.3 3.3 1. ]\n",
      " [7.2 3.2 6.  1.8]\n",
      " [7.6 3.  6.6 2.1]\n",
      " [5.8 2.7 5.1 1.9]\n",
      " [7.3 2.9 6.3 1.8]\n",
      " [4.9 3.6 1.4 0.1]\n",
      " [5.5 3.5 1.3 0.2]\n",
      " [5.7 3.8 1.7 0.3]\n",
      " [5.9 3.  4.2 1.5]\n",
      " [6.8 2.8 4.8 1.4]\n",
      " [7.7 3.  6.1 2.3]\n",
      " [6.4 3.2 5.3 2.3]\n",
      " [5.7 2.5 5.  2. ]\n",
      " [5.7 2.8 4.5 1.3]\n",
      " [5.  3.5 1.6 0.6]\n",
      " [5.  2.  3.5 1. ]\n",
      " [6.6 2.9 4.6 1.3]\n",
      " [6.4 3.1 5.5 1.8]\n",
      " [4.9 3.  1.4 0.2]\n",
      " [4.8 3.  1.4 0.1]\n",
      " [6.7 3.1 4.4 1.4]\n",
      " [6.7 2.5 5.8 1.8]\n",
      " [5.2 4.1 1.5 0.1]\n",
      " [5.7 4.4 1.5 0.4]\n",
      " [5.7 2.9 4.2 1.3]\n",
      " [6.2 2.8 4.8 1.8]\n",
      " [6.7 3.1 4.7 1.5]\n",
      " [6.2 2.2 4.5 1.5]\n",
      " [4.9 2.5 4.5 1.7]\n",
      " [5.6 2.9 3.6 1.3]\n",
      " [5.8 2.7 3.9 1.2]\n",
      " [6.5 3.  5.2 2. ]\n",
      " [5.4 3.4 1.5 0.4]\n",
      " [5.5 4.2 1.4 0.2]\n",
      " [6.8 3.  5.5 2.1]\n",
      " [6.3 2.8 5.1 1.5]\n",
      " [5.1 3.5 1.4 0.2]\n",
      " [5.2 3.5 1.5 0.2]\n",
      " [6.4 2.9 4.3 1.3]\n",
      " [6.3 3.3 4.7 1.6]\n",
      " [5.1 3.5 1.4 0.3]\n",
      " [4.8 3.  1.4 0.3]\n",
      " [5.8 4.  1.2 0.2]\n",
      " [5.5 2.6 4.4 1.2]\n",
      " [6.  2.2 5.  1.5]\n",
      " [4.9 3.1 1.5 0.1]\n",
      " [5.1 3.8 1.5 0.3]\n",
      " [6.7 3.  5.  1.7]\n",
      " [4.7 3.2 1.6 0.2]\n",
      " [5.7 3.  4.2 1.2]\n",
      " [4.6 3.4 1.4 0.3]\n",
      " [6.9 3.1 5.4 2.1]\n",
      " [6.1 3.  4.6 1.4]]\n"
     ]
    }
   ],
   "source": [
    "from sklearn.model_selection import train_test_split\n",
    "\n",
    "X_train, X_val_test, y_train, y_val_test = train_test_split(\n",
    "    X, y, test_size=0.3\n",
    ") # Split the data into training and testing+validation sets\n",
    "X_test, X_val, y_test, y_val = train_test_split(\n",
    "    X_val_test, y_val_test, test_size=0.5\n",
    ") # Split the testing+validation set into testing and validation sets\n",
    "\n",
    "print(f\"Training data: {len(X_train)} rows.\")\n",
    "print(f\"Validation data: {len(X_val)} rows.\")\n",
    "print(f\"Testing (unseen) data: {len(X_test)} rows.\")\n",
    "\n",
    "print(X_train)"
   ]
  },
  {
   "cell_type": "markdown",
   "metadata": {},
   "source": [
    "Let us plot the training data points using a scatter plot with different colors for each class. \n",
    "\n",
    "**Your task:** Try to understand the code below by writing a comment at the end of each line explaining what it does."
   ]
  },
  {
   "cell_type": "code",
   "execution_count": 29,
   "metadata": {},
   "outputs": [
    {
     "data": {
      "image/png": "[encoded data removed]",
      "text/plain": [
       "<Figure size 640x480 with 1 Axes>"
      ]
     },
     "metadata": {},
     "output_type": "display_data"
    }
   ],
   "source": [
    "fig, ax = plt.subplots() # creates a figrue and an axis object\n",
    "\n",
    "for target in range(3): # we know that there is 3 classes in the dataset\n",
    "    class_name = dataset.target_names[target] # gets the name of the class\n",
    "    ax.scatter(*X_train[y_train == target].T, label=class_name) \n",
    "    # plot the points as a scatter plot where x is the first column, y is the second column, \n",
    "    # size is the third column, and color is the fourth column\n",
    "\n",
    "ax.set_xlabel(dataset.feature_names[0]) # set the x-axis label as the first feature name\n",
    "ax.set_ylabel(dataset.feature_names[1]) # set the y-axis label as the second feature name\n",
    "ax.legend()\n",
    "fig.tight_layout() \n",
    "plt.show()"
   ]
  },
  {
   "cell_type": "markdown",
   "metadata": {},
   "source": [
    "**Your tasks:**\n",
    "\n",
    "First, import the `KNeighborsClassifier` class from `sklearn.neighbors`.\n",
    "\n",
    "Then, for each distinct value of $k$, \n",
    "\n",
    "1. Create a classifier and fit it to the training data.\n",
    "2. Make predictions on the training data, compute the accuracy and append it to the list `training_accuracies`.\n",
    "3. Make predictions on the validation data (not used for training the classifier), compute the accuracy and append it to the list `validation_accuracies`.\n",
    "\n",
    "**Hints:**\n",
    "\n",
    "- You can create a classifier instance `clf` as follows: `clf = KNeighborsClassifier(n_neighbors=k)`.\n",
    "- Call `clf.fit(X_train, y_train)` to fit the classifier (training).\n",
    "- Calling `clf.score(X, y)` will use the fitted classifier to predict the labels based on `X`, compare the predictions with `y` and return the accuracy (percentage of correct predictions).\n",
    "\n",
    "**Warning:** When calling `clf.score()` make sure the features `X` and the labels `y` correspond to eachother. That is, calling `clf.score(X_val, y_train)` is wrong (and might not even throw an error if they are of the same length)."
   ]
  },
  {
   "cell_type": "code",
   "execution_count": 41,
   "metadata": {},
   "outputs": [],
   "source": [
    "from sklearn.neighbors import KNeighborsClassifier\n",
    "from sklearn.metrics import accuracy_score\n",
    "\n",
    "ks = [1, 2, 3, 4, 5, 6, 7, 8, 9, 10, 15, 20, 25, 30]\n",
    "ks = range(1, 31)\n",
    "validation_accuracies = []\n",
    "training_accuracies = []\n",
    "metric = 'minkowski' # 'chebyshev' 'manhattan' 'minkowski'\n",
    "weights = 'uniform' # 'distance' 'uniform'\n",
    "\n",
    "for k in  ks:\n",
    "    clf = KNeighborsClassifier(n_neighbors=k, weights=weights, metric=metric)\n",
    "    clf.fit(X_train, y_train)\n",
    "    acc = clf.score(X_train, y_train)\n",
    "    training_accuracies.append(acc) \n",
    "\n",
    "    acc = clf.score(X_val, y_val)\n",
    "    validation_accuracies.append(acc) "
   ]
  },
  {
   "cell_type": "markdown",
   "metadata": {},
   "source": [
    "**Your task:** Plot both the training and validation accuracies obtained in the previous step as functions of $k$. We label the axes and use labels and a legend to make the visualization easy to understand."
   ]
  },
  {
   "cell_type": "code",
   "execution_count": 42,
   "metadata": {},
   "outputs": [
    {
     "data": {
      "image/png": "[encoded data removed]",
      "text/plain": [
       "<Figure size 640x480 with 1 Axes>"
      ]
     },
     "metadata": {},
     "output_type": "display_data"
    }
   ],
   "source": [
    "fig, ax = plt.subplots()\n",
    "\n",
    "ax.plot(ks, training_accuracies, label=\"train_accuracies\")\n",
    "ax.plot(ks, validation_accuracies, label=\"validation_accuracies\")\n",
    "\n",
    "ax.legend()\n",
    "ax.set_xlabel(\"k\")\n",
    "ax.set_ylabel(\"Accuracy\")\n",
    "plt.show()"
   ]
  },
  {
   "cell_type": "markdown",
   "metadata": {},
   "source": [
    "We see that the training accuracy when $k=1$ is not $100\\%$. The reason for this is that there exist duplicate data points with different labels so the classifier has to chose one. Which one is chosen depends on the ordering of the training data when using the `sklearn` implementation."
   ]
  },
  {
   "cell_type": "markdown",
   "metadata": {},
   "source": [
    "**Your task:** Use `np.argmax()` to find the value for $k$ that gave us the highest *validation* accuracy. *Not the training accuracy, because that is always $k=1$ (why?).*"
   ]
  },
  {
   "cell_type": "code",
   "execution_count": 38,
   "metadata": {},
   "outputs": [
    {
     "ename": "TypeError",
     "evalue": "unsupported operand type(s) for *: 'ellipsis' and 'int'",
     "output_type": "error",
     "traceback": [
      "\u001b[0;31m---------------------------------------------------------------------------\u001b[0m",
      "\u001b[0;31mTypeError\u001b[0m                                 Traceback (most recent call last)",
      "Cell \u001b[0;32mIn[38], line 5\u001b[0m\n\u001b[1;32m      2\u001b[0m best_k \u001b[38;5;241m=\u001b[39m \u001b[38;5;241m.\u001b[39m\u001b[38;5;241m.\u001b[39m\u001b[38;5;241m.\u001b[39m \u001b[38;5;66;03m#TODO! Find the k value that gave the highest validation accuracy by using the index found above\u001b[39;00m\n\u001b[1;32m      3\u001b[0m best_accuracy \u001b[38;5;241m=\u001b[39m \u001b[38;5;241m.\u001b[39m\u001b[38;5;241m.\u001b[39m\u001b[38;5;241m.\u001b[39m \u001b[38;5;66;03m#TODO! Find the highest validation accuracy, again using the index found above\u001b[39;00m\n\u001b[0;32m----> 5\u001b[0m \u001b[38;5;28mprint\u001b[39m(\u001b[38;5;124mf\u001b[39m\u001b[38;5;124m\"\u001b[39m\u001b[38;5;124mThe best validation accuracy achieved was \u001b[39m\u001b[38;5;132;01m{\u001b[39;00m\u001b[43mbest_accuracy\u001b[49m\u001b[38;5;250;43m \u001b[39;49m\u001b[38;5;241;43m*\u001b[39;49m\u001b[38;5;250;43m \u001b[39;49m\u001b[38;5;241;43m100\u001b[39;49m\u001b[38;5;132;01m:\u001b[39;00m\u001b[38;5;124m.3f\u001b[39m\u001b[38;5;132;01m}\u001b[39;00m\u001b[38;5;124m% when k=\u001b[39m\u001b[38;5;132;01m{\u001b[39;00mbest_k\u001b[38;5;132;01m}\u001b[39;00m\u001b[38;5;124m.\u001b[39m\u001b[38;5;124m\"\u001b[39m)\n",
      "\u001b[0;31mTypeError\u001b[0m: unsupported operand type(s) for *: 'ellipsis' and 'int'"
     ]
    }
   ],
   "source": [
    "best_idx = np.argmax(...) #TODO! Find the index of the highest validation accuracy\n",
    "best_k = ... #TODO! Find the k value that gave the highest validation accuracy by using the index found above\n",
    "best_accuracy = ... #TODO! Find the highest validation accuracy, again using the index found above\n",
    "\n",
    "print(f\"The best validation accuracy achieved was {best_accuracy * 100:.3f}% when k={best_k}.\")"
   ]
  },
  {
   "cell_type": "markdown",
   "metadata": {},
   "source": [
    "We have now chosen the optimal value for $k$ based on the performance on validation data and stored it in the variable `best_k`.\n",
    "\n",
    "Let us train a $k$-NN classifier with this optimal $k$ value and see how it perform on the unseen test data. \n",
    "\n",
    "**Your tasks:**\n",
    "\n",
    "1. Merge the training and validation data since we are done with using our validation data.\n",
    "2. Fit the classifier on the merged dataset using `clf.fit()`.\n",
    "3. Use `clf.score()` to compute the test accuracy.\n",
    "   \n",
    "Note that evaluating on validation data (validation accuracy) gives a very optimistic estimate of the real accuracy since we used it to decide what $k$ should be. The test data however, have not been used for making any decisions about our final model and should give us a more realistic estimate of the model's performance on new data."
   ]
  },
  {
   "cell_type": "code",
   "execution_count": null,
   "metadata": {},
   "outputs": [],
   "source": [
    "X_train_and_val = np.concatenate(...) #TODO! Concatenate the training and validation data features\n",
    "y_train_and_val = np.concatenate(...) #TODO! Concatenate the training and validation data targets\n",
    "\n",
    "clf = ... #TODO! Create a KNeighborsClassifier with the best k value\n",
    "clf.fit(...) #TODO! Fit the classifier to the training and validation data (merged)\n",
    "test_accuracy = ... #TODO! Calculate the accuracy of the classifier on the unseen test data\n",
    "\n",
    "print(f\"Final accuracy on unseen test data: {test_accuracy * 100:.3f}%.\")"
   ]
  },
  {
   "cell_type": "markdown",
   "metadata": {},
   "source": [
    "## Part 2 – Plotting decision boundaries as $k$ varies\n",
    "\n",
    "In this part, we are going to visualize how the fitted $k$-NN classifier decides which class a sample belongs to.\n",
    "\n",
    "The idea is to create a uniform grid of points in the plane, classify each of these points using our classifier, and then color them based on the prediction we get.\n",
    "\n",
    "We want to make a pretty visualization, so we start by an example of how one can create custom color maps with `matplotlib`."
   ]
  },
  {
   "cell_type": "code",
   "execution_count": null,
   "metadata": {},
   "outputs": [],
   "source": [
    "import matplotlib.colors as mcolors\n",
    "\n",
    "dark_cmap = mcolors.ListedColormap([\"#9E7702\", \"#0C235D\", \"#980026\"])\n",
    "light_cmap = mcolors.ListedColormap([\"#FFC500\", \"#4286DE\", \"#D46591\"])\n",
    "\n",
    "# Preview the colormaps\n",
    "fig, axs = plt.subplots(1, 2, figsize=(8, 3))\n",
    "axs[0].imshow([[0, 1, 2]], cmap=dark_cmap)\n",
    "axs[0].set_title(\"Dark Colormap\")\n",
    "axs[0].axis(\"off\")\n",
    "axs[1].imshow([[0, 1, 2]], cmap=light_cmap)\n",
    "axs[1].set_title(\"Light Colormap\")\n",
    "axs[1].axis(\"off\")\n",
    "plt.show()"
   ]
  },
  {
   "cell_type": "markdown",
   "metadata": {},
   "source": [
    "So pretty!\n",
    "\n",
    "Next, we are going to write a function `plot_knn_decision_boundaries(X_train, y_train, X_val, y_val, clf, ax, resolution=0.05)` that takes in \n",
    "- Training and validation data (features) `X_train` and `X_val`,\n",
    "- corresponding labels `y_train` and `y_val`, \n",
    "- a fitted classifier instance `clf`, \n",
    "- and an axis object `ax`.\n",
    "\n",
    "**Your task:** The function is partially complete, but there is one thing you need to do. Namely, classify the points on the grid using the given classifier `clf`. See the line with the `#TODO!` comment."
   ]
  },
  {
   "cell_type": "code",
   "execution_count": null,
   "metadata": {},
   "outputs": [],
   "source": [
    "# Function for plotting data points together with kNN classifier's decision boundaries\n",
    "def plot_knn_decision_boundaries(X_train, y_train, X_val, y_val, clf, ax, resolution=0.05):\n",
    "    dark_cmap = mcolors.ListedColormap([\"#9E7702\", \"#0C235D\", \"#980026\"])\n",
    "    light_cmap = mcolors.ListedColormap([\"#FFC500\", \"#4286DE\", \"#D46591\"])\n",
    "\n",
    "    x_min, x_max = X[:, 0].min() - .1, X[:, 0].max() + .1\n",
    "    y_min, y_max = X[:, 1].min() - .1, X[:, 1].max() + .1\n",
    "    xx, yy = np.meshgrid(np.arange(x_min, x_max, resolution),\n",
    "                         np.arange(y_min, y_max, resolution))\n",
    "    grid = np.c_[xx.ravel(), yy.ravel()]\n",
    "\n",
    "    Z = ... #TODO! Use the classifier to predict the class of each point in the grid\n",
    "\n",
    "    Z = Z.reshape(xx.shape)\n",
    "    ax.pcolormesh(xx, yy, Z, cmap=light_cmap, zorder=1, norm=mcolors.NoNorm())\n",
    "\n",
    "    for target in range(3):\n",
    "        class_name = dataset.target_names[target]\n",
    "        ax.scatter(*X_train[y_train == target].T, label=f\"{class_name} (train)\", color=dark_cmap(target), edgecolor=\"black\", zorder=2, marker=\"o\")\n",
    "        ax.scatter(*X_val[y_val == target].T, label=f\"{class_name} (val)\", color=dark_cmap(target), edgecolor=\"black\", zorder=2, marker=\"s\")\n",
    "\n",
    "    ax.set_xlabel(dataset.feature_names[0])\n",
    "    ax.set_ylabel(dataset.feature_names[1])\n",
    "    ax.legend()"
   ]
  },
  {
   "cell_type": "markdown",
   "metadata": {},
   "source": [
    "Let us test our function. \n",
    "\n",
    "**Your tasks:**\n",
    "\n",
    "Let `k` loop over `[1, 5, 10, 25, 50, 75, 100]`. For each iteration, \n",
    "\n",
    "1. Fit a $k$-NN classifier on the training data using `KNeighborsClassifier` with `n_neighbors=k`,\n",
    "2. Use `plot_knn_decision_boundaries` to plot the data points and the decision boundaries.\n",
    "\n",
    "Note that this code can take some seconds to finish because of the plotting function."
   ]
  },
  {
   "cell_type": "code",
   "execution_count": null,
   "metadata": {},
   "outputs": [],
   "source": [
    "ks = [1, 5, 10, 25, 50, 75, 100]\n",
    "fig, axs = plt.subplots(nrows=len(ks), ncols=1, figsize=(8, 6 * len(ks)))\n",
    "\n",
    "for k, ax in zip(ks, axs):\n",
    "    clf = ... #TODO! Create a KNeighborsClassifier with k neighbors\n",
    "    ... #TODO! Fit the classifier to the training data\n",
    "    plot_knn_decision_boundaries(...) #TODO! Plot the decision boundaries on the current axis using the function we defined above\n",
    "    ax.set_title(f\"kNN Decision Boundaries with k={k}\")\n",
    "\n",
    "fig.tight_layout()\n",
    "plt.show()"
   ]
  },
  {
   "cell_type": "markdown",
   "metadata": {},
   "source": [
    "Two things we should think about are:\n",
    "\n",
    "**Q1:** How does the decision boundaries change as `k` increases?\n",
    "\n",
    "**Q2:** Why does the classifier never predict one of the classes when `k=100`?\n",
    "\n",
    "---\n",
    "\n",
    "As a last experiment in this part, let us fit a classifier with `k` being equal to the number of samples in the training data.\n",
    "\n",
    "**Your task:** Fit a $k$-NN classifier with `k` being equal to the number of samples in the training data. That is, use `len(y_train)` as $k$. Then, as above, plot the decision boundaries and data points."
   ]
  },
  {
   "cell_type": "code",
   "execution_count": null,
   "metadata": {},
   "outputs": [],
   "source": [
    "fig, ax = plt.subplots()\n",
    "\n",
    "k = ... #TODO! Let k be equal to the number of training samples\n",
    "clf = ... #TODO! Create a KNeighborsClassifier with k neighbors and fit it to the training data\n",
    "\n",
    "plot_knn_decision_boundaries(X_train, y_train, X_val, y_val, clf, ax)\n",
    "ax.set_title(f\"kNN Decision Boundaries with k={k}\")\n",
    "fig.tight_layout()\n",
    "plt.show()"
   ]
  },
  {
   "cell_type": "markdown",
   "metadata": {},
   "source": [
    "**Q:** What do you observe and why does this happen?"
   ]
  },
  {
   "cell_type": "markdown",
   "metadata": {},
   "source": [
    "## Part 3 (bonus) – Implementing your own $k$-NN classifier from scratch\n",
    "\n",
    "If you really like to test your understanding of the $k$-NN classifier, here is an extra challenge for you:\n",
    "\n",
    "1. Using only functions from NumPy and `KDTree` ([docs](https://docs.scipy.org/doc/scipy/reference/generated/scipy.spatial.KDTree.html)) from `scipy.spatial`, create your own $k$-NN classifier.\n",
    "2. Fit the classifier on training data (you can use the best value for $k$ that you previously found).\n",
    "3. Evaluate your classifier on the test data by computing the accuracy.\n",
    "4. Compare your test accuracy to the `sklearn` implementation.\n",
    "\n",
    "**Hints:**\n",
    "\n",
    "- It can be useful to define a class for your $k$-NN classifier.\n",
    "- Fitting a $k$-NN classifier is simply storing the training features and labels (all the magic happens at prediction time).\n",
    "- For prediction, use `KDTree` to find the $k$ nearest neighbors of each point in `X_test`.\n",
    "- To predict, you can use `np.bincount()` together with `np.argmax()` to find the majority class among the $k$ nearest neighbors.\n",
    "- To predict without using a for-loop, you can consider using `np.apply_along_axis()`.\n",
    "- To make your classifier class compatible with `sklearn` syntax, include the following four methods in your class implementation:\n",
    "  - `__init__(self, k)` (return nothing)\n",
    "  - `fit(self, X_train, y_train)` (return nothing)\n",
    "  - `predict(self, X_test)` (return predicted labels)\n",
    "  - `score(self, X_test, y_test)` (return accuracy as float)"
   ]
  },
  {
   "cell_type": "code",
   "execution_count": null,
   "metadata": {},
   "outputs": [],
   "source": [
    "from scipy.spatial import KDTree\n",
    "\n",
    "class KNNClassifier:\n",
    "    def __init__(self, k):\n",
    "        ... #TODO! Store the number of neighbors to consider and initialize any other variables you might need\n",
    "\n",
    "    def fit(self, X_train, y_train):\n",
    "        ... #TODO! Store the training data features and targets in the class\n",
    "\n",
    "    def predict(self, X_test):\n",
    "        ... #TODO! Implement the prediction logic using a KDTree and return the predictions\n",
    "    \n",
    "    def score(self, X_test, y_test):\n",
    "        ... #TODO! Implement the scoring logic using the predict function and return the accuracy\n"
   ]
  },
  {
   "cell_type": "code",
   "execution_count": null,
   "metadata": {},
   "outputs": [],
   "source": [
    "#TODO! Test the KNNClassifier on test data using the best k value found earlier and print the accuracy"
   ]
  },
  {
   "cell_type": "markdown",
   "metadata": {},
   "source": []
  }
 ],
 "metadata": {
  "kernelspec": {
   "display_name": "INF264",
   "language": "python",
   "name": "python3"
  },
  "language_info": {
   "codemirror_mode": {
    "name": "ipython",
    "version": 3
   },
   "file_extension": ".py",
   "mimetype": "text/x-python",
   "name": "python",
   "nbconvert_exporter": "python",
   "pygments_lexer": "ipython3",
   "version": "3.11.2"
  }
 },
 "nbformat": 4,
 "nbformat_minor": 2
}
