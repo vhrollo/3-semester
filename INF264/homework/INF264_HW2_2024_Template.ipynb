{
 "cells": [
  {
   "cell_type": "markdown",
   "metadata": {},
   "source": [
    "# Gradient descent and Logistic regression"
   ]
  },
  {
   "cell_type": "code",
   "execution_count": 1,
   "metadata": {},
   "outputs": [],
   "source": [
    "import numpy as np\n",
    "import matplotlib.pyplot as plt\n",
    "import matplotlib.colors as mcolors\n",
    "from sklearn import datasets, metrics\n",
    "from sklearn.linear_model import LinearRegression, LogisticRegression\n",
    "from sklearn.model_selection import train_test_split"
   ]
  },
  {
   "cell_type": "markdown",
   "metadata": {},
   "source": [
    "## 1. Univariate linear regression with gradient descent\n",
    "\n",
    "#### Question 1\n",
    "\n",
    "You can write math in markdown cells using LaTeX. For inline math, use `$...$`. For display math, use `$$...$$`.\n",
    "\n",
    "For example, you can write the MSE loss function as\n",
    "\n",
    "$$ L(w_0, w_1) = \\frac{1}{N} \\sum_{i=0}^{N-1} \\epsilon_i(w_0, w_1)^2$$\n",
    "    \n",
    "where $\\epsilon_i(w_0, w_1) = y_i - (w_0 + w_1 x_i)$ are the residuals.\n",
    "\n",
    "`<Your Solution Here>` $\\nabla_w L =\n",
    "\\begin{bmatrix}\n",
    " -\\frac{2}{N} \\sum_{i=0}^{N-1} \\epsilon_i(w_0, w_1) \\\\\n",
    " \\\\\n",
    " -\\frac{2}{N} \\sum_{i=0}^{N-1} x_i \\epsilon_i(w_0, w_1) \\\\\n",
    "\\end{bmatrix}=-\\frac{2}{N}\\begin{bmatrix}\n",
    " \\sum_{i=0}^{N-1} \\epsilon_i(w_0, w_1) \\\\\n",
    " \\\\\n",
    " \\sum_{i=0}^{N-1} x_i \\epsilon_i(w_0, w_1) \\\\\n",
    "\\end{bmatrix}$\n",
    "\n",
    "---"
   ]
  },
  {
   "cell_type": "markdown",
   "metadata": {},
   "source": [
    "solution is a vector^"
   ]
  },
  {
   "cell_type": "markdown",
   "metadata": {},
   "source": [
    "lin alg måten med regression er en loss functioin hvor man måler normalen fra expected linjen"
   ]
  },
  {
   "cell_type": "markdown",
   "metadata": {},
   "source": [
    "Start by loading and visualizing the data from `unilinear.npy`. Use `np.load` to load the data and `plt.scatter` to visualize it."
   ]
  },
  {
   "cell_type": "code",
   "execution_count": 23,
   "metadata": {},
   "outputs": [
    {
     "data": {
      "image/png": "[encoded data removed]",
      "text/plain": [
       "<Figure size 640x480 with 1 Axes>"
      ]
     },
     "metadata": {},
     "output_type": "display_data"
    }
   ],
   "source": [
    "# Read the x and y values from unilinear.csv\n",
    "datapoints = np.load('unilinear.npy')\n",
    "X, Y = datapoints[:,0], datapoints[:,1]\n",
    "\n",
    "plt.scatter(X,Y, 3)\n",
    "\n",
    "plt.show()"
   ]
  },
  {
   "cell_type": "markdown",
   "metadata": {},
   "source": [
    "#### Question 2"
   ]
  },
  {
   "cell_type": "code",
   "execution_count": null,
   "metadata": {},
   "outputs": [],
   "source": [
    "def gradient_loss_function(X: np.ndarray, Y: np.ndarray, w: np.ndarray) -> np.ndarray:\n",
    "    \"\"\"\n",
    "    Returns the gradient of the MSE loss function for the given data points and weights\n",
    "    \"\"\"\n",
    "    N = len(X)\n",
    "    w_0 = -2/N * sum([        Y[i] - w[0] - w[1]*X[i]  for i in N])\n",
    "    w_1 = -2/N * sum([X[i] * (Y[i] - w[0] - w[1]*X[i]) for i in N])\n",
    "\n",
    "    return np.array([w_0, w_1])\n",
    "\n",
    "    \n",
    "def gradient_descent(\n",
    "    X: np.ndarray, \n",
    "    Y: np.ndarray,\n",
    "    weights: np.ndarray=np.array([0, 0]),\n",
    "    learning_rate: float=0.1,\n",
    "    iterations: int=1000,\n",
    ") -> np.ndarray:\n",
    "    \"\"\"\n",
    "    Iteratively updates the weights using the steepest descent method\n",
    "    \"\"\"\n",
    "\n",
    "    ... #TODO!\n",
    "\n",
    "    return weights\n",
    "    "
   ]
  },
  {
   "cell_type": "markdown",
   "metadata": {},
   "source": [
    "#### Question 3\n",
    "We test our gradient descent implementation iterating $40$ times with a learning rate of $\\eta=0.1$. In addition, we plot the fitted line together with the original datapoints to visually comfirm that our implementation works."
   ]
  },
  {
   "cell_type": "code",
   "execution_count": null,
   "metadata": {},
   "outputs": [],
   "source": [
    "# Run gradient descent and print the found weights\n",
    "... #TODO!\n",
    "\n",
    "# Plot data points and the fitted linear function\n",
    "... #TODO!"
   ]
  },
  {
   "cell_type": "markdown",
   "metadata": {},
   "source": [
    "#### Question 4\n",
    "Compute the closed form solution $X^+Y=(X^TX)^{-1}X^TY$ using NumPy."
   ]
  },
  {
   "cell_type": "code",
   "execution_count": null,
   "metadata": {},
   "outputs": [],
   "source": [
    "def closed_form_solution(X: np.ndarray, Y: np.ndarray) -> np.ndarray:\n",
    "    \"\"\"\n",
    "    Computes the closed form solution of the loss minimization pb\n",
    "    \"\"\"\n",
    "\n",
    "    ... #TODO!\n",
    "\n",
    "    return solution\n",
    "\n",
    "weights_exp = closed_form_solution(X, Y)\n",
    "\n",
    "print(f\"The weights found using the closed form solution are: {weights_exp}\")\n",
    "\n",
    "weights = gradient_descent(X, Y, learning_rate=0.1, iterations=40)\n",
    "print(f\"The absolute differences between the weights using the two methods are {np.abs(weights - weights_exp)}\")\n",
    "\n",
    "# Try gradient descent again but with 1000 iterations instead of 40\n",
    "... #TODO!"
   ]
  },
  {
   "cell_type": "markdown",
   "metadata": {},
   "source": [
    "#### Question 5\n",
    "Let us now perform gradient descent using different values for the learning rate."
   ]
  },
  {
   "cell_type": "code",
   "execution_count": null,
   "metadata": {},
   "outputs": [],
   "source": [
    "learning_rates = [10**(-i) for i in range(0, 6)]\n",
    "\n",
    "for learning_rate in learning_rates:\n",
    "    ... #TODO!"
   ]
  },
  {
   "cell_type": "markdown",
   "metadata": {},
   "source": [
    "#### Question 6\n",
    "\n",
    "Let us first define the MSE loss function."
   ]
  },
  {
   "cell_type": "code",
   "execution_count": null,
   "metadata": {},
   "outputs": [],
   "source": [
    "def mse_loss(X: np.ndarray, Y: np.ndarray, weights: np.ndarray) -> float:\n",
    "    \"\"\"\n",
    "    Returns the mean squared error loss for the given data points and weights\n",
    "    \"\"\"\n",
    "    \n",
    "    ... #TODO!\n",
    "\n",
    "    return loss\n"
   ]
  },
  {
   "cell_type": "markdown",
   "metadata": {},
   "source": [
    "We now plot the loss function $L$ as a function of the weights $w_0$ and $w_1$ using a contour plot. We also plot the trajectory of the weights during the gradient descent optimization."
   ]
  },
  {
   "cell_type": "code",
   "execution_count": null,
   "metadata": {},
   "outputs": [],
   "source": [
    "# Plot a contour plot of the loss function\n",
    "# Create a grid of weights\n",
    "w0_values = np.linspace(-20, 20, 100)\n",
    "w1_values = np.linspace(-20, 20, 100)\n",
    "W0, W1 = np.meshgrid(w0_values, w1_values)\n",
    "\n",
    "# Compute the loss for each pair of weights\n",
    "loss = np.zeros_like(W0)\n",
    "for i in range(W0.shape[0]):\n",
    "    for j in range(W0.shape[1]):\n",
    "        loss[i, j] = mse_loss(X, Y, np.array([W0[i, j], W1[i, j]]))\n",
    "\n",
    "# Plot the loss function\n",
    "fig, ax = plt.subplots()\n",
    "ax.set_title(\"MSE loss\")\n",
    "ax.set_xlabel(\"w0\")\n",
    "ax.set_ylabel(\"w1\")\n",
    "contour = ax.contourf(W0, W1, loss, levels=500, cmap=\"coolwarm\")\n",
    "fig.colorbar(contour)\n",
    "\n",
    "# Plot the path of the gradient descent algorithm onto ax using ax.plot\n",
    "# Experiment with different learning rates and initial weights\n",
    "learning_rate = ... #TODO!\n",
    "weights = ... #TODO!\n",
    "n_iter = ... #TODO!\n",
    "\n",
    "for i in range(n_iter):\n",
    "    ... #TODO!\n"
   ]
  },
  {
   "cell_type": "markdown",
   "metadata": {},
   "source": [
    "## 2. Logistic Regression\n",
    "\n",
    "### 2.1 Logistic regression on two classes\n",
    "\n",
    "#### Question 1\n",
    "\n",
    "We load the Iris dataset using the built-in function from `sklearn`."
   ]
  },
  {
   "cell_type": "code",
   "execution_count": null,
   "metadata": {},
   "outputs": [],
   "source": [
    "iris = datasets.load_iris()\n",
    "print(f\"Features: {iris.feature_names}\")\n",
    "print(f\"Labels: {iris.target_names}\")\n",
    "\n",
    "# Extract the feature petal width (index 3)\n",
    "X = ... #TODO!\n",
    "\n",
    "# Convert labels to binary labels with 1 for Virginica and 0 for others (Setosa and Versicolor)\n",
    "y = ... #TODO!\n",
    "\n",
    "print(f\"X shape: {X.shape}\")\n",
    "print(f\"y shape: {y.shape}\")"
   ]
  },
  {
   "cell_type": "markdown",
   "metadata": {},
   "source": [
    "We now split the dataset into training and test data."
   ]
  },
  {
   "cell_type": "code",
   "execution_count": null,
   "metadata": {},
   "outputs": [],
   "source": [
    "# Fix random seed for reproducibility\n",
    "seed = 0                  \n",
    "# Shuffle and split the data into training and test sets\n",
    "X_train, X_test, y_train, y_test = ... #TODO!\n",
    "\n",
    "print(f\"Train set size: {X_train.shape[0]}\")\n",
    "print(f\"Test set size: {X_test.shape[0]}\")"
   ]
  },
  {
   "cell_type": "markdown",
   "metadata": {},
   "source": [
    "#### Question 2\n",
    "\n",
    "Fitting a linear regression model using `sklearn`'s `LinearRegression` class. Use the `fit` method to fit the model to the training data."
   ]
  },
  {
   "cell_type": "code",
   "execution_count": null,
   "metadata": {},
   "outputs": [],
   "source": [
    "linear_regression = ... #TODO!\n",
    "\n",
    "# Fit the model\n",
    "... #TODO!"
   ]
  },
  {
   "cell_type": "markdown",
   "metadata": {},
   "source": [
    "#### Question 3\n",
    "\n",
    "Fitting a logistic regression model using the `LogisticRegression` class. Again, use the `fit` method to fit the model to the training data."
   ]
  },
  {
   "cell_type": "code",
   "execution_count": null,
   "metadata": {},
   "outputs": [],
   "source": [
    "logit = ... #TODO!\n",
    "\n",
    "# Fit the model\n",
    "... #TODO!"
   ]
  },
  {
   "cell_type": "markdown",
   "metadata": {},
   "source": [
    "#### Question 4\n",
    "\n",
    "We can now plot the datapoints and the probabilities predicted by the two models for different values of `petal width`."
   ]
  },
  {
   "cell_type": "code",
   "execution_count": null,
   "metadata": {},
   "outputs": [],
   "source": [
    "# Plot the data points\n",
    "fig, ax = plt.subplots(figsize=(10,8))\n",
    "cmap = mcolors.ListedColormap([\"#9E7702\", \"#0C235D\"])\n",
    "ax.scatter(X, y, c=y, cmap=cmap, label='Class color', alpha=0.2)\n",
    "\n",
    "# Plot linear regression predictions (use linear_regression.predict to get the predicted values)\n",
    "X_grid = np.linspace(0, 3, 500).reshape(-1, 1)\n",
    "... #TODO!\n",
    "\n",
    "# Plot Logistic regression predictions (use logit.predict_proba instead of logit.predict to get probabilities)\n",
    "... #TODO!\n",
    "\n",
    "ax.set_title(\"Logistic regression\")\n",
    "ax.set_xlabel(\"Petal width\")\n",
    "ax.set_ylabel(\"Predicted probability of being of class Iris-Virginica\")\n",
    "\n",
    "# Horizontal line at y=0.5\n",
    "ax.axhline(0.5, color=\"red\", linestyle=\"--\", label=\"Threshold\")\n",
    "\n",
    "ax.legend(loc='best')\n",
    "plt.show()"
   ]
  },
  {
   "cell_type": "markdown",
   "metadata": {},
   "source": [
    "Note that the linear regression model predicts values outside of the interval $[0,1]$ which does not makes sense when talking about probabilities."
   ]
  },
  {
   "cell_type": "markdown",
   "metadata": {},
   "source": [
    "#### Question 5\n",
    "\n",
    "Evaluate the two models on the test data. We set the cutoff value to $0.5$."
   ]
  },
  {
   "cell_type": "code",
   "execution_count": null,
   "metadata": {},
   "outputs": [],
   "source": [
    "# Compute the test accuracy for the linear and logistic regression models\n",
    "y_pred_linear = (linear_regression.predict(X_test.reshape(-1, 1)) > 0.5)\n",
    "test_accuracy_linear = metrics.accuracy_score(y_test, y_pred_linear)\n",
    "\n",
    "y_pred_logit =  ... #TODO!\n",
    "test_accuracy_logit = ... #TODO!\n",
    "\n",
    "# Print the test accuracies\n",
    " ... #TODO!"
   ]
  },
  {
   "cell_type": "markdown",
   "metadata": {},
   "source": [
    "### 2.2 Multi class logistic regression\n",
    "\n",
    "#### Question 1\n",
    "\n",
    "We will now use two features, namely `petal width (cm)` and  `petal length (cm)`, and keep all three labels as they appear in the original dataset."
   ]
  },
  {
   "cell_type": "code",
   "execution_count": null,
   "metadata": {},
   "outputs": [],
   "source": [
    "# Load the iris dataset\n",
    "iris = ... #TODO!\n",
    "\n",
    "# Extract the features petal length and petal width\n",
    "X = ... #TODO!\n",
    "\n",
    "# Use targets 0, 1 and 2 as is\n",
    "y = ... #TODO!\n",
    "\n",
    "# Print the shapes of X and y\n",
    "... #TODO!"
   ]
  },
  {
   "cell_type": "markdown",
   "metadata": {},
   "source": [
    "Split the dataset into training, validation and test data."
   ]
  },
  {
   "cell_type": "code",
   "execution_count": null,
   "metadata": {},
   "outputs": [],
   "source": [
    "# Fix random seed for reproducibility\n",
    "seed = 0\n",
    "# Shuffle and split the data\n",
    "X_train, X_val_test, y_train, y_val_test = ... #TODO!\n",
    "X_val, X_test, y_val, y_test = ... #TODO!"
   ]
  },
  {
   "cell_type": "markdown",
   "metadata": {},
   "source": [
    "#### Question 2\n",
    "\n",
    "Fitting a multi-class logistic regression model is just as easy as fitting a binary one.\n",
    "\n",
    "Note that the `LogisticRegression` class automatically detects that we have more than two classes and selects the appropriate loss function. The use of the keyword argument `multi_class` is deprecated in newer versions of `sklearn` but you will still see it in many examples online."
   ]
  },
  {
   "cell_type": "code",
   "execution_count": null,
   "metadata": {},
   "outputs": [],
   "source": [
    "logit = ... #TODO!\n",
    "\n",
    "# Fit the model\n",
    "... #TODO!"
   ]
  },
  {
   "cell_type": "markdown",
   "metadata": {},
   "source": [
    "#### Question 3\n",
    "\n",
    "We plot the datapoints together with the decision boundaries of our multi-class logistic classifier."
   ]
  },
  {
   "cell_type": "code",
   "execution_count": null,
   "metadata": {},
   "outputs": [],
   "source": [
    "fig, ax = plt.subplots(figsize=(12, 8))\n",
    "dark_cmap = mcolors.ListedColormap([\"#9E7702\", \"#0C235D\", \"#980026\"])\n",
    "light_cmap = mcolors.ListedColormap([\"#FFC500\", \"#4286DE\", \"#D46591\"])\n",
    "\n",
    "x_min, x_max = X[:, 0].min() - .1, X[:, 0].max() + .1\n",
    "y_min, y_max = X[:, 1].min() - .1, X[:, 1].max() + .1\n",
    "xx, yy = np.meshgrid(np.arange(x_min, x_max, 0.02), np.arange(y_min, y_max, 0.02))\n",
    "grid = np.c_[xx.ravel(), yy.ravel()]\n",
    "\n",
    "# Predict the class for each grid point using logit.predict() on the grid\n",
    "Z = ... #TODO!\n",
    "\n",
    "Z = Z.reshape(xx.shape)\n",
    "ax.pcolormesh(xx, yy, Z, cmap=light_cmap, zorder=1, vmin=0, vmax=3)\n",
    "\n",
    "for target in range(3):\n",
    "    class_name = iris.target_names[target]\n",
    "    ax.scatter(*X_train[y_train == target].T, label=f\"{class_name} (train)\", color=dark_cmap(target), edgecolor=\"black\", zorder=2, marker=\"o\")\n",
    "    ax.scatter(*X_val[y_val == target].T, label=f\"{class_name} (val)\", color=dark_cmap(target), edgecolor=\"black\", zorder=2, marker=\"s\")\n",
    "\n",
    "ax.set_xlabel(iris.feature_names[2])\n",
    "ax.set_ylabel(iris.feature_names[3])\n",
    "ax.legend()\n",
    "plt.show()"
   ]
  },
  {
   "cell_type": "markdown",
   "metadata": {},
   "source": [
    "#### Question 4\n",
    "\n",
    "Evaluating on the test dataset by calling the `predict` method of the `LogisticRegression` class and computing the accuracy. Or we can use the `score` method which does this for us."
   ]
  },
  {
   "cell_type": "code",
   "execution_count": null,
   "metadata": {},
   "outputs": [],
   "source": [
    "# Evaluate the model on the test set\n",
    "y_pred = ... #TODO!\n",
    "test_accuracy = ... #TODO!\n",
    "\n",
    "# Print the test accuracy\n",
    "... #TODO!"
   ]
  }
 ],
 "metadata": {
  "kernelspec": {
   "display_name": "Python 3 (ipykernel)",
   "language": "python",
   "name": "python3"
  },
  "language_info": {
   "codemirror_mode": {
    "name": "ipython",
    "version": 3
   },
   "file_extension": ".py",
   "mimetype": "text/x-python",
   "name": "python",
   "nbconvert_exporter": "python",
   "pygments_lexer": "ipython3",
   "version": "3.11.4"
  },
  "vscode": {
   "interpreter": {
    "hash": "71c2cb666ff353b4e7b5c350d66179fa0af5c84ce239ad9fa105d94543f3ad59"
   }
  }
 },
 "nbformat": 4,
 "nbformat_minor": 4
}
