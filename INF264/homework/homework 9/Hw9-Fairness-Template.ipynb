{
 "cells": [
  {
   "cell_type": "code",
   "execution_count": 1,
   "id": "d1c67022-ba5b-42df-a700-2d3badfe6e58",
   "metadata": {},
   "outputs": [],
   "source": [
    "import pandas as pd\n",
    "import numpy as np\n",
    "import matplotlib.pyplot as plt\n",
    "from sklearn.model_selection import train_test_split\n",
    "from sklearn.ensemble import GradientBoostingClassifier\n",
    "from sklearn.metrics import balanced_accuracy_score\n",
    "\n",
    "np.random.seed(0)"
   ]
  },
  {
   "cell_type": "markdown",
   "id": "40dba336-bf4a-4faa-af2a-5c8fb5c5919c",
   "metadata": {},
   "source": [
    "# Fairness\n",
    "Load and shuffle the provided dataset."
   ]
  },
  {
   "cell_type": "code",
   "execution_count": 2,
   "id": "ac2824bf-73f4-4912-a6a0-2bc21c634500",
   "metadata": {},
   "outputs": [
    {
     "data": {
      "text/html": [
       "<div>\n",
       "<style scoped>\n",
       "    .dataframe tbody tr th:only-of-type {\n",
       "        vertical-align: middle;\n",
       "    }\n",
       "\n",
       "    .dataframe tbody tr th {\n",
       "        vertical-align: top;\n",
       "    }\n",
       "\n",
       "    .dataframe thead th {\n",
       "        text-align: right;\n",
       "    }\n",
       "</style>\n",
       "<table border=\"1\" class=\"dataframe\">\n",
       "  <thead>\n",
       "    <tr style=\"text-align: right;\">\n",
       "      <th></th>\n",
       "      <th>Age</th>\n",
       "      <th>SystolicBP</th>\n",
       "      <th>DiastolicBP</th>\n",
       "      <th>BS</th>\n",
       "      <th>BodyTemp</th>\n",
       "      <th>HeartRate</th>\n",
       "    </tr>\n",
       "  </thead>\n",
       "  <tbody>\n",
       "    <tr>\n",
       "      <th>921</th>\n",
       "      <td>23</td>\n",
       "      <td>120</td>\n",
       "      <td>90</td>\n",
       "      <td>7.5</td>\n",
       "      <td>98.0</td>\n",
       "      <td>70</td>\n",
       "    </tr>\n",
       "    <tr>\n",
       "      <th>75</th>\n",
       "      <td>23</td>\n",
       "      <td>130</td>\n",
       "      <td>70</td>\n",
       "      <td>6.9</td>\n",
       "      <td>98.0</td>\n",
       "      <td>70</td>\n",
       "    </tr>\n",
       "    <tr>\n",
       "      <th>608</th>\n",
       "      <td>35</td>\n",
       "      <td>100</td>\n",
       "      <td>70</td>\n",
       "      <td>7.5</td>\n",
       "      <td>98.0</td>\n",
       "      <td>66</td>\n",
       "    </tr>\n",
       "    <tr>\n",
       "      <th>630</th>\n",
       "      <td>22</td>\n",
       "      <td>100</td>\n",
       "      <td>65</td>\n",
       "      <td>12.0</td>\n",
       "      <td>98.0</td>\n",
       "      <td>80</td>\n",
       "    </tr>\n",
       "    <tr>\n",
       "      <th>380</th>\n",
       "      <td>13</td>\n",
       "      <td>90</td>\n",
       "      <td>65</td>\n",
       "      <td>7.8</td>\n",
       "      <td>101.0</td>\n",
       "      <td>80</td>\n",
       "    </tr>\n",
       "  </tbody>\n",
       "</table>\n",
       "</div>"
      ],
      "text/plain": [
       "     Age  SystolicBP  DiastolicBP    BS  BodyTemp  HeartRate\n",
       "921   23         120           90   7.5      98.0         70\n",
       "75    23         130           70   6.9      98.0         70\n",
       "608   35         100           70   7.5      98.0         66\n",
       "630   22         100           65  12.0      98.0         80\n",
       "380   13          90           65   7.8     101.0         80"
      ]
     },
     "execution_count": 2,
     "metadata": {},
     "output_type": "execute_result"
    }
   ],
   "source": [
    "df = pd.read_csv(\"MaternalHealthRiskDataSet.csv\")\n",
    "features = df.drop(\"RiskLevel\", axis=1)\n",
    "targets = df[\"RiskLevel\"]\n",
    "indices = np.random.permutation(features.index)\n",
    "features = features.reindex(indices)\n",
    "targets = targets.reindex(indices)\n",
    "features.head()"
   ]
  },
  {
   "cell_type": "markdown",
   "id": "48fad7a6-d68f-4fe0-8823-6dd4d535590f",
   "metadata": {},
   "source": [
    "Let us split the dataset into two age groups and visualize the distribution of the feature `Age` in each group:"
   ]
  },
  {
   "cell_type": "code",
   "execution_count": 3,
   "id": "93b23ee9-3985-4248-afa8-a6aaa62ada39",
   "metadata": {},
   "outputs": [
    {
     "name": "stdout",
     "output_type": "stream",
     "text": [
      "Counts: 252 \"old\", 762 \"young\".\n",
      "Class distribution: {'low risk': 406, 'mid risk': 336, 'high risk': 272}\n"
     ]
    },
    {
     "data": {
      "image/png": "[encoded data removed]",
      "text/plain": [
       "<Figure size 640x480 with 1 Axes>"
      ]
     },
     "metadata": {},
     "output_type": "display_data"
    }
   ],
   "source": [
    "age_limit = 40\n",
    "older_indices = (features[\"Age\"] >= age_limit)\n",
    "n_old = len(features[older_indices])\n",
    "n_young = len(features[~older_indices])\n",
    "print(f\"Counts: {n_old} \\\"old\\\", {n_young} \\\"young\\\".\")\n",
    "print(f\"Class distribution: {dict(targets.value_counts())}\")\n",
    "\n",
    "X_old = features[older_indices]\n",
    "y_old = targets[older_indices]\n",
    "X_young = features[~older_indices]\n",
    "y_young = targets[~older_indices]\n",
    "\n",
    "plt.hist(X_young[\"Age\"], label=\"younger group\")\n",
    "plt.hist(X_old[\"Age\"], label=\"elder group\")\n",
    "plt.show()"
   ]
  },
  {
   "cell_type": "markdown",
   "id": "196337a1-d367-4f64-96eb-610d08a75a9f",
   "metadata": {},
   "source": [
    "Split into training and test data."
   ]
  },
  {
   "cell_type": "code",
   "execution_count": 4,
   "id": "747cb91a-429d-458a-8af7-fd3d34c2e379",
   "metadata": {},
   "outputs": [],
   "source": [
    "X_old_train, X_old_test, y_old_train, y_old_test = train_test_split(X_old, y_old, test_size=0.2, random_state=0)\n",
    "X_young_train, X_young_test, y_young_train, y_young_test = train_test_split(X_young, y_young, test_size=0.2, random_state=0)"
   ]
  },
  {
   "cell_type": "markdown",
   "id": "3d7cea82-eec6-4a4c-89a2-d101958d3a22",
   "metadata": {},
   "source": [
    "Train and evaluate model using all the training data from the young group but only a fraction of the training data from the old group. We train a gradient boosting classifier. For simplicity, we do not perform any cross validation."
   ]
  },
  {
   "cell_type": "code",
   "execution_count": 5,
   "id": "30d92282-fe8e-472d-9de6-1a8681007eb3",
   "metadata": {},
   "outputs": [],
   "source": [
    "def train_and_evaluate_classifier(\n",
    "    r, \n",
    "    X_old_train, \n",
    "    X_young_train, \n",
    "    y_old_train, \n",
    "    y_young_train, \n",
    "    X_old_test, \n",
    "    y_old_test, \n",
    "    X_young_test,\n",
    "    y_young_test\n",
    "):\n",
    "    # Assemble training data\n",
    "    k_old = int(len(X_old_train) * r) # Use fraction r of samples from the old group\n",
    "    X_train = pd.concat([X_old_train[:k_old], X_young_train])\n",
    "    y_train = pd.concat([y_old_train[:k_old], y_young_train])\n",
    "    \n",
    "    # TODO: Fit classifier on training data\n",
    "    clf = GradientBoostingClassifier()\n",
    "    clf.fit(X_train, y_train)\n",
    "    \n",
    "    # TODO: Evaluate model on the test data for each group separately\n",
    "    y_old_pred = clf.predict(X_old_test)\n",
    "    y_young_pred = clf.predict(X_young_test)\n",
    "\n",
    "    acc_old = balanced_accuracy_score(y_old_test, y_old_pred)\n",
    "    acc_young = balanced_accuracy_score(y_young_test, y_young_pred)\n",
    "    return acc_old, acc_young\n"
   ]
  },
  {
   "cell_type": "code",
   "execution_count": 6,
   "id": "03959254-9235-416c-958d-e09c94f98b8a",
   "metadata": {},
   "outputs": [
    {
     "name": "stdout",
     "output_type": "stream",
     "text": [
      "Old group accuracy: 0.7391867391867392\n",
      "Young group accuracy: 0.7797550776583034\n"
     ]
    },
    {
     "data": {
      "image/png": "[encoded data removed]",
      "text/plain": [
       "<Figure size 640x480 with 1 Axes>"
      ]
     },
     "metadata": {},
     "output_type": "display_data"
    }
   ],
   "source": [
    "# TODO: Train and evaluate the model for different values of r\n",
    "acc_old, acc_young = train_and_evaluate_classifier(0.5, X_old_train, X_young_train, y_old_train, y_young_train, X_old_test, y_old_test, X_young_test, y_young_test)\n",
    "print(f\"Old group accuracy: {acc_old}\")\n",
    "print(f\"Young group accuracy: {acc_young}\")\n",
    "# TODO: Plot the accuracy for each group as a function of r\n",
    "\n",
    "r = np.linspace(0, 1, 10)\n",
    "\n",
    "acc_old = []\n",
    "acc_young = []\n",
    "for i in r:\n",
    "    acc_o, acc_y = train_and_evaluate_classifier(i, X_old_train, X_young_train, y_old_train, y_young_train, X_old_test, y_old_test, X_young_test, y_young_test)\n",
    "    acc_old.append(acc_o)\n",
    "    acc_young.append(acc_y)\n",
    "\n",
    "plt.plot(r, acc_old, label=\"Old group\")\n",
    "plt.plot(r, acc_young, label=\"Young group\")\n",
    "plt.xlabel(\"Fraction of old group\")\n",
    "plt.ylabel(\"Balanced accuracy\")\n",
    "plt.legend()\n",
    "plt.show()\n"
   ]
  },
  {
   "cell_type": "markdown",
   "id": "6a88c0ca",
   "metadata": {},
   "source": [
    "# Naive Bayes classifiers"
   ]
  },
  {
   "cell_type": "code",
   "execution_count": 7,
   "id": "33735961",
   "metadata": {},
   "outputs": [],
   "source": [
    "from sklearn.naive_bayes import CategoricalNB\n",
    "from sklearn.preprocessing import OrdinalEncoder"
   ]
  },
  {
   "cell_type": "markdown",
   "id": "2c7a1def",
   "metadata": {},
   "source": [
    "1. $2^{d+1}$\n",
    "2. Under the naive Bayes assumption, the number of probabilities needed is $O(d)$, where $f(d)=d$"
   ]
  },
  {
   "cell_type": "markdown",
   "id": "c9a45a70",
   "metadata": {},
   "source": [
    "### Categorical naive Bayes Classifier"
   ]
  },
  {
   "cell_type": "code",
   "execution_count": 8,
   "id": "f1b44243",
   "metadata": {},
   "outputs": [
    {
     "data": {
      "text/html": [
       "<div>\n",
       "<style scoped>\n",
       "    .dataframe tbody tr th:only-of-type {\n",
       "        vertical-align: middle;\n",
       "    }\n",
       "\n",
       "    .dataframe tbody tr th {\n",
       "        vertical-align: top;\n",
       "    }\n",
       "\n",
       "    .dataframe thead th {\n",
       "        text-align: right;\n",
       "    }\n",
       "</style>\n",
       "<table border=\"1\" class=\"dataframe\">\n",
       "  <thead>\n",
       "    <tr style=\"text-align: right;\">\n",
       "      <th></th>\n",
       "      <th>Weather</th>\n",
       "      <th>Temperature</th>\n",
       "      <th>Humidity</th>\n",
       "      <th>Wind</th>\n",
       "    </tr>\n",
       "  </thead>\n",
       "  <tbody>\n",
       "    <tr>\n",
       "      <th>8</th>\n",
       "      <td>Rainy</td>\n",
       "      <td>Cool</td>\n",
       "      <td>Normal</td>\n",
       "      <td>No</td>\n",
       "    </tr>\n",
       "    <tr>\n",
       "      <th>6</th>\n",
       "      <td>Overcast</td>\n",
       "      <td>Cool</td>\n",
       "      <td>Normal</td>\n",
       "      <td>Yes</td>\n",
       "    </tr>\n",
       "    <tr>\n",
       "      <th>2</th>\n",
       "      <td>Overcast</td>\n",
       "      <td>Hot</td>\n",
       "      <td>High</td>\n",
       "      <td>No</td>\n",
       "    </tr>\n",
       "    <tr>\n",
       "      <th>1</th>\n",
       "      <td>Rainy</td>\n",
       "      <td>Hot</td>\n",
       "      <td>High</td>\n",
       "      <td>Yes</td>\n",
       "    </tr>\n",
       "    <tr>\n",
       "      <th>3</th>\n",
       "      <td>Sunny</td>\n",
       "      <td>Mild</td>\n",
       "      <td>High</td>\n",
       "      <td>No</td>\n",
       "    </tr>\n",
       "  </tbody>\n",
       "</table>\n",
       "</div>"
      ],
      "text/plain": [
       "    Weather Temperature Humidity Wind\n",
       "8     Rainy        Cool   Normal   No\n",
       "6  Overcast        Cool   Normal  Yes\n",
       "2  Overcast         Hot     High   No\n",
       "1     Rainy         Hot     High  Yes\n",
       "3     Sunny        Mild     High   No"
      ]
     },
     "execution_count": 8,
     "metadata": {},
     "output_type": "execute_result"
    }
   ],
   "source": [
    "df = pd.read_csv(\"Tennis.csv\")\n",
    "features = df.drop(\"PlayTennis\", axis=1)\n",
    "targets = df[\"PlayTennis\"]\n",
    "indices = np.random.permutation(features.index)\n",
    "features = features.reindex(indices)\n",
    "targets = targets.reindex(indices)\n",
    "features.head()"
   ]
  },
  {
   "cell_type": "code",
   "execution_count": 9,
   "id": "bd2357cc",
   "metadata": {},
   "outputs": [
    {
     "name": "stdout",
     "output_type": "stream",
     "text": [
      "targets classes: ['Yes' 'No']\n",
      "Weather: ['Rainy' 'Overcast' 'Sunny']\n",
      "Temperature: ['Cool' 'Hot' 'Mild']\n",
      "Humidity: ['Normal' 'High']\n",
      "Wind: ['No' 'Yes']\n"
     ]
    }
   ],
   "source": [
    "# 3\n",
    "print(f\"targets classes: {targets.unique()}\")\n",
    "\n",
    "for col in features.columns:\n",
    "    print(f\"{col}: {features[col].unique()}\")"
   ]
  },
  {
   "cell_type": "markdown",
   "id": "21335e0f",
   "metadata": {},
   "source": [
    "4. In this case, the Naive Bayes assumption may not be entirely realistic because features like Weather, Humidity, and Wind could be correlated in real-world weather patterns (e.g., Rainy weather might be more likely to have high humidity). It could still yield useful results.\n",
    "5. yeah\n",
    "6. given the observed data, it is 50/50"
   ]
  },
  {
   "cell_type": "code",
   "execution_count": 10,
   "id": "ad597b72",
   "metadata": {},
   "outputs": [
    {
     "name": "stdout",
     "output_type": "stream",
     "text": [
      "Probabilities for PlayTennis = Yes: 0.6428571428571429\n",
      "Probabilities for PlayTennis = No: 0.35714285714285715\n"
     ]
    }
   ],
   "source": [
    "# Define conditions and calculate probability for each given PlayTennis = \"No\"\n",
    "conditions = {\n",
    "    \"Weather\": \"Overcast\",\n",
    "    \"Temperature\": \"Cool\",\n",
    "    \"Humidity\": \"High\",\n",
    "    \"Wind\": \"Yes\"\n",
    "}\n",
    "\n",
    "playtennis_yes = features[targets == \"Yes\"]\n",
    "playtennis_no = features[targets == \"No\"]\n",
    "\n",
    "prob_yes = len(playtennis_yes) / len(features)\n",
    "prob_no = len(playtennis_no) / len(features)\n",
    "\n",
    "\n",
    "def calculate_conditional_probs(playtennis_df):\n",
    "    probs = []\n",
    "    for feature, value in playtennis_df.items():\n",
    "        count  = len(playtennis_df[playtennis_df[feature] == value])\n",
    "        if count == 0:\n",
    "            probs.append(0)\n",
    "            continue    \n",
    "        probs.append(count / len(playtennis_df))\n",
    "    return np.prod(probs)\n",
    "\n",
    "probs_yes_num = calculate_conditional_probs(playtennis_yes) * prob_yes\n",
    "probs_no_num = calculate_conditional_probs(playtennis_no) * prob_no\n",
    "\n",
    "probability_no = probs_no_num / (probs_no_num + probs_yes_num)\n",
    "probability_yes = probs_yes_num / (probs_no_num + probs_yes_num)\n",
    "print(f\"Probabilities for PlayTennis = Yes: {probability_yes}\")\n",
    "print(f\"Probabilities for PlayTennis = No: {probability_no}\")"
   ]
  },
  {
   "cell_type": "code",
   "execution_count": 11,
   "id": "256067aa",
   "metadata": {},
   "outputs": [
    {
     "name": "stdout",
     "output_type": "stream",
     "text": [
      "P(Yes|conditions): 0.67\n",
      "P(No|conditions): 0.33\n"
     ]
    }
   ],
   "source": [
    "conditions = {\n",
    "    \"Weather\": \"Overcast\",\n",
    "    \"Temperature\": \"Cool\",\n",
    "    \"Humidity\": \"High\",\n",
    "    \"Wind\": \"Yes\"\n",
    "}\n",
    "\n",
    "# Smoothing parameter (Laplace smoothing)\n",
    "alpha = 1\n",
    "\n",
    "# Calculate prior probabilities\n",
    "playtennis_yes = features[targets == \"Yes\"]\n",
    "playtennis_no = features[targets == \"No\"]\n",
    "\n",
    "prob_yes_prior = len(playtennis_yes) / len(features)\n",
    "prob_no_prior = len(playtennis_no) / len(features)\n",
    "\n",
    "# Function to calculate conditional probabilities\n",
    "def calculate_conditional_probs(playtennis_df):\n",
    "    probs = []\n",
    "    for feature, value in conditions.items():\n",
    "        count = len(playtennis_df[playtennis_df[feature] == value])\n",
    "        num_unique_values = len(features[feature].unique())\n",
    "        prob = (count + alpha) / (len(playtennis_df) + alpha * num_unique_values)\n",
    "        probs.append(prob)\n",
    "    return np.prod(probs)\n",
    "\n",
    "# Calculate the numerators of the posterior probabilities\n",
    "prob_yes_numerator = calculate_conditional_probs(playtennis_yes) * prob_yes_prior\n",
    "prob_no_numerator = calculate_conditional_probs(playtennis_no) * prob_no_prior\n",
    "\n",
    "# Normalize to get the posterior probabilities\n",
    "total_prob = prob_yes_numerator + prob_no_numerator\n",
    "prob_yes_posterior = prob_yes_numerator / total_prob\n",
    "prob_no_posterior = prob_no_numerator / total_prob\n",
    "\n",
    "# Output the probabilities\n",
    "print(f\"P(Yes|conditions): {prob_yes_posterior:.2f}\")\n",
    "print(f\"P(No|conditions): {prob_no_posterior:.2f}\")\n"
   ]
  },
  {
   "cell_type": "code",
   "execution_count": 12,
   "id": "92d8bf43",
   "metadata": {},
   "outputs": [
    {
     "name": "stdout",
     "output_type": "stream",
     "text": [
      "P(Yes|conditions): 0.67\n",
      "P(No|conditions): 0.33\n"
     ]
    }
   ],
   "source": [
    "\n",
    "conditions = {\n",
    "    \"Weather\": \"Overcast\",\n",
    "    \"Temperature\": \"Cool\",\n",
    "    \"Humidity\": \"High\",\n",
    "    \"Wind\": \"Yes\"\n",
    "}\n",
    "conditions_df = pd.DataFrame([conditions])\n",
    "\n",
    "# Encode categorical features using OrdinalEncoder\n",
    "encoder = OrdinalEncoder()\n",
    "encoded_features = encoder.fit_transform(features)\n",
    "encoded_conditions = encoder.transform(conditions_df)\n",
    "\n",
    "# Encode targets as integers\n",
    "encoded_targets = targets.apply(lambda x: 1 if x == \"Yes\" else 0)\n",
    "\n",
    "# Fit the Naive Bayes classifier\n",
    "clf = CategoricalNB(alpha=1)\n",
    "clf.fit(encoded_features, encoded_targets)\n",
    "\n",
    "# Predict probabilities for the given conditions\n",
    "probabilities = clf.predict_proba(encoded_conditions)\n",
    "\n",
    "# Output the probabilities\n",
    "prob_no = probabilities[0][0]\n",
    "prob_yes = probabilities[0][1]\n",
    "print(f\"P(Yes|conditions): {prob_yes:.2f}\")\n",
    "print(f\"P(No|conditions): {prob_no:.2f}\")\n"
   ]
  }
 ],
 "metadata": {
  "kernelspec": {
   "display_name": "usr",
   "language": "python",
   "name": "python3"
  },
  "language_info": {
   "codemirror_mode": {
    "name": "ipython",
    "version": 3
   },
   "file_extension": ".py",
   "mimetype": "text/x-python",
   "name": "python",
   "nbconvert_exporter": "python",
   "pygments_lexer": "ipython3",
   "version": "3.11.2"
  }
 },
 "nbformat": 4,
 "nbformat_minor": 5
}
