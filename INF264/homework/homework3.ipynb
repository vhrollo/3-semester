{
 "cells": [
  {
   "cell_type": "markdown",
   "metadata": {},
   "source": [
    "# homework 3\n",
    "something "
   ]
  },
  {
   "cell_type": "code",
   "execution_count": 228,
   "metadata": {},
   "outputs": [],
   "source": [
    "# imports for the script\n",
    "from sklearn.datasets import load_diabetes, make_classification\n",
    "from sklearn.model_selection import train_test_split, KFold, GridSearchCV\n",
    "from sklearn.metrics import mean_squared_error, accuracy_score, confusion_matrix, f1_score, balanced_accuracy_score\n",
    "from sklearn.tree import DecisionTreeRegressor\n",
    "from sklearn.neighbors import KNeighborsClassifier\n",
    "\n",
    "import numpy as np\n",
    "\n",
    "import matplotlib.pyplot as plt\n",
    "import seaborn as sns"
   ]
  },
  {
   "cell_type": "code",
   "execution_count": 229,
   "metadata": {},
   "outputs": [],
   "source": [
    "# varirables for the script\n",
    "seed = 42"
   ]
  },
  {
   "cell_type": "markdown",
   "metadata": {},
   "source": [
    "### 1. Model Selection for Decision Tree Regression"
   ]
  },
  {
   "cell_type": "code",
   "execution_count": 230,
   "metadata": {},
   "outputs": [],
   "source": [
    "# load dataset from sklearn\n",
    "diabetes = load_diabetes()\n",
    "X = diabetes.data\n",
    "\n",
    "y = diabetes.target\n",
    "\n",
    "# print(f\"X shape: {X.shape}\")\n",
    "# print(f\"y shape: {y.shape}\")\n",
    "# print(diabetes.feature_names)\n",
    "# print(diabetes.target)"
   ]
  },
  {
   "cell_type": "code",
   "execution_count": 231,
   "metadata": {},
   "outputs": [],
   "source": [
    "# split data into training, validation and test sets\n",
    "\n",
    "X_train, X_test, y_train, y_test = train_test_split(\n",
    "    X, y, train_size=0.8, random_state=seed, shuffle=True\n",
    ")"
   ]
  },
  {
   "cell_type": "code",
   "execution_count": 232,
   "metadata": {},
   "outputs": [],
   "source": [
    "max_depth = [1, 2, 3, 4, 5, 6, 7, 8, 9, 10]\n",
    "min_samples_split = [2, 3, 4, 5, 6, 7, 8, 9, 10]\n",
    "grid = []\n",
    "\n",
    "for i in max_depth:\n",
    "    for j in min_samples_split:\n",
    "        grid.append((i, j))\n"
   ]
  },
  {
   "cell_type": "code",
   "execution_count": 233,
   "metadata": {},
   "outputs": [
    {
     "name": "stdout",
     "output_type": "stream",
     "text": [
      "4028.034388364361\n",
      "Best hyperparameters: (2, 2)\n"
     ]
    }
   ],
   "source": [
    "# finding the best hyperparameters\n",
    "kfold = KFold(n_splits=5, shuffle=True, random_state=seed)\n",
    "heighest_score = np.inf\n",
    "best_params = None\n",
    "\n",
    "for max_d, min_s in grid:\n",
    "    val_scores = []\n",
    "    for train_index, val_index in kfold.split(X_train, y_train):\n",
    "        X_train_fold, X_val_fold = X_train[train_index], X_train[val_index]\n",
    "        y_train_fold, y_val_fold = y_train[train_index], y_train[val_index]\n",
    "\n",
    "        model = DecisionTreeRegressor(max_depth=max_d, min_samples_split=min_s, random_state=seed)\n",
    "        model.fit(X_train_fold, y_train_fold)\n",
    "        val_score = mean_squared_error(y_val_fold, model.predict(X_val_fold))\n",
    "        val_scores.append(val_score)\n",
    "    mean = np.mean(val_scores)\n",
    "    # print(f\"Mean: {mean}\")\n",
    "    if mean < heighest_score:\n",
    "        heighest_score = mean\n",
    "        best_params = (max_d, min_s)\n",
    "\n",
    "print(heighest_score)\n",
    "print(f\"Best hyperparameters: {best_params}\")"
   ]
  },
  {
   "cell_type": "code",
   "execution_count": 234,
   "metadata": {},
   "outputs": [
    {
     "name": "stdout",
     "output_type": "stream",
     "text": [
      "{'max_depth': 2, 'min_samples_split': 2}\n"
     ]
    }
   ],
   "source": [
    "# finding the best hyperparameters using GridSearchCV\n",
    "gscv = GridSearchCV(\n",
    "    DecisionTreeRegressor(), \n",
    "    param_grid={'max_depth': max_depth, 'min_samples_split': min_samples_split}, \n",
    "    cv=kfold, \n",
    "    scoring='neg_mean_squared_error', \n",
    "    n_jobs=-1\n",
    "    )\n",
    "\n",
    "gscv.fit(X_train, y_train)\n",
    "print(gscv.best_params_)"
   ]
  },
  {
   "cell_type": "code",
   "execution_count": 235,
   "metadata": {},
   "outputs": [
    {
     "name": "stdout",
     "output_type": "stream",
     "text": [
      "Test score: 3735.4996177389003\n"
     ]
    }
   ],
   "source": [
    "# testing the model with the hyperparameters found\n",
    "model = DecisionTreeRegressor(max_depth=best_params[0], min_samples_split=best_params[1])\n",
    "model.fit(X_train, y_train)\n",
    "test_score = mean_squared_error(y_test, model.predict(X_test))\n",
    "print(f\"Test score: {test_score}\")"
   ]
  },
  {
   "cell_type": "markdown",
   "metadata": {},
   "source": [
    "### 2. Unbalanced Datasets and Model Selection\n",
    "*Using a synthetic dataset*"
   ]
  },
  {
   "cell_type": "code",
   "execution_count": 236,
   "metadata": {},
   "outputs": [],
   "source": [
    "# Creating dataset\n",
    "\n",
    "ratio = [0.6, 0.75, 0.9, 0.95, 0.99]\n",
    "datasets = []\n",
    "\n",
    "for r in ratio:\n",
    "    dataset = make_classification(\n",
    "        n_samples=1000, \n",
    "        n_features=20,\n",
    "        weights=[r], # nclasses - 1\n",
    "        n_classes=2,\n",
    "        random_state=seed\n",
    "        )\n",
    "    \n",
    "    datasets.append(dataset)\n",
    "\n",
    "    # print (f\"Dataset with ratio {r}\")\n",
    "    # print (f\"X shape: {X.shape}\")\n",
    "    # print (f\"y shape: {y.shape}\")\n",
    "    # print ()"
   ]
  },
  {
   "cell_type": "code",
   "execution_count": 237,
   "metadata": {},
   "outputs": [
    {
     "name": "stdout",
     "output_type": "stream",
     "text": [
      "[25, 26, 2, 2, 2]\n"
     ]
    }
   ],
   "source": [
    "# finding the best k_near neighbor value\n",
    "ks = range(1, 31)\n",
    "metric = 'minkowski' # 'chebyshev' 'manhattan' 'minkowski'\n",
    "weights = 'uniform' # 'distance' 'uniform'\n",
    "\n",
    "best_ks = []\n",
    "\n",
    "for i in range(len(datasets)): # iterating through the datasets\n",
    "    X, y = datasets[i]\n",
    "    X_train, X_val_test, y_train, y_val_test = train_test_split(\n",
    "        X, y, train_size=0.7, random_state=seed, shuffle=True\n",
    "        )\n",
    "    X_val, X_test, y_val, y_test = train_test_split(\n",
    "        X_val_test, y_val_test, train_size=0.5, random_state=seed, shuffle=True\n",
    "        )\n",
    "\n",
    "    val_scores = []\n",
    "    for k in ks: # iterating through the different k_near neighbor values\n",
    "        clf = KNeighborsClassifier(\n",
    "            n_neighbors=k, \n",
    "            metric=metric, \n",
    "            weights=weights\n",
    "            )\n",
    "        clf.fit(X_train, y_train)\n",
    "        val_scores.append(clf.score(X_val, y_val))\n",
    "\n",
    "    best_ks.append(ks[np.argmax(val_scores)])\n",
    "\n",
    "print(best_ks)"
   ]
  },
  {
   "cell_type": "markdown",
   "metadata": {},
   "source": [
    "$F1 = 2 \\cdot \\frac{\\text{ Precision } \\cdot \\text{ Recall }}{\\text{ Precision } + \\text{ Recall }}$"
   ]
  },
  {
   "cell_type": "code",
   "execution_count": 238,
   "metadata": {},
   "outputs": [],
   "source": [
    "# testing the model with k value\n",
    "accuracies = []\n",
    "balanced_accuracies = []\n",
    "f1_scores = []\n",
    "confusion_matrices = []\n",
    "\n",
    "\n",
    "for i in range(len(datasets)):\n",
    "    X, y = datasets[i]\n",
    "\n",
    "    X_train, X_test, y_train, y_test = train_test_split(\n",
    "        X, y, train_size=0.7, random_state=seed, shuffle=True\n",
    "        )\n",
    "    \n",
    "    clf = KNeighborsClassifier(\n",
    "        n_neighbors=best_ks[i], \n",
    "        metric=metric, \n",
    "        weights=weights\n",
    "        )\n",
    "    clf.fit(X_train, y_train)\n",
    "\n",
    "    y_pred = clf.predict(X_test)\n",
    "\n",
    "    # different metrics\n",
    "    accuracies.append( accuracy_score(y_test, y_pred) )\n",
    "    balanced_accuracies.append( balanced_accuracy_score(y_test, y_pred) )\n",
    "    f1_scores.append( f1_score(y_test, y_pred) )\n",
    "    confusion_matrices.append( confusion_matrix(y_test, y_pred) )"
   ]
  },
  {
   "cell_type": "code",
   "execution_count": 239,
   "metadata": {},
   "outputs": [
    {
     "data": {
      "image/png": "[encoded data removed]",
      "text/plain": [
       "<Figure size 1200x300 with 5 Axes>"
      ]
     },
     "metadata": {},
     "output_type": "display_data"
    }
   ],
   "source": [
    "# confusion matrix plot\n",
    "# TP, FN\n",
    "# FP, TN\n",
    "fig, axes = plt.subplots(1, 5, figsize=(12, 3))\n",
    "for i, ax in enumerate(axes):\n",
    "    sns.heatmap(confusion_matrices[i], fmt='g', cmap='Blues', annot=True,\n",
    "                xticklabels=['True', 'False'], yticklabels=['True', 'False'], cbar=False, ax=ax)\n",
    "    ax.set_xlabel('Predicted Label')\n",
    "    ax.set_ylabel('True Label')\n",
    "    ax.set_title(f\"Ratio: {ratio[i]}\")\n",
    "\n",
    "plt.tight_layout()\n",
    "plt.show()"
   ]
  },
  {
   "cell_type": "code",
   "execution_count": 240,
   "metadata": {},
   "outputs": [
    {
     "data": {
      "image/png": "[encoded data removed]",
      "text/plain": [
       "<Figure size 600x400 with 1 Axes>"
      ]
     },
     "metadata": {},
     "output_type": "display_data"
    }
   ],
   "source": [
    "# different metrics plot\n",
    "fig, ax = plt.subplots( figsize=(6, 4) )\n",
    "ax.plot(ratio, accuracies, label='Accuracy')\n",
    "\n",
    "# if the classes are different sizes, the balanced accuracy weighs the classes equally\n",
    "ax.plot(ratio, balanced_accuracies, label='Balanced Accuracy')\n",
    "ax.plot(ratio, f1_scores, label='F1 Score')\n",
    "ax.set_title('metrics plot')\n",
    "\n",
    "ax.set_xlabel('Ratio')\n",
    "ax.set_ylabel('Accuracy')\n",
    "ax.legend()\n",
    "plt.show()"
   ]
  },
  {
   "cell_type": "markdown",
   "metadata": {},
   "source": [
    "*Using a predefined dataset*"
   ]
  },
  {
   "cell_type": "code",
   "execution_count": 241,
   "metadata": {},
   "outputs": [
    {
     "name": "stdout",
     "output_type": "stream",
     "text": [
      "(10000, 2)\n",
      "(10000,)\n"
     ]
    }
   ],
   "source": [
    "# pickle.\n",
    "\n",
    "X, y = np.load('custom_unbalanced_dataset.pickle', allow_pickle=True)\n",
    "print(X.shape)\n",
    "print(y.shape)"
   ]
  },
  {
   "cell_type": "code",
   "execution_count": 242,
   "metadata": {},
   "outputs": [
    {
     "data": {
      "image/png": "[encoded data removed]",
      "text/plain": [
       "<Figure size 640x480 with 1 Axes>"
      ]
     },
     "metadata": {},
     "output_type": "display_data"
    }
   ],
   "source": [
    "# plot histogram\n",
    "plt.hist(X)\n",
    "plt.show()"
   ]
  },
  {
   "cell_type": "code",
   "execution_count": 243,
   "metadata": {},
   "outputs": [],
   "source": [
    "# split data into training and test sets\n",
    "\n",
    "X_train, X_test, y_train, y_test = train_test_split(\n",
    "    X, y, train_size=0.8, random_state=seed, shuffle=True\n",
    ")"
   ]
  },
  {
   "cell_type": "code",
   "execution_count": 244,
   "metadata": {},
   "outputs": [],
   "source": [
    "def foo (foo2) -> float:\n",
    "    kfold = KFold(n_splits=10, shuffle=True, random_state=seed)\n",
    "\n",
    "    k_scores = []\n",
    "\n",
    "    for k in ks:\n",
    "        val_scores = []\n",
    "        for train_index, test_index in kfold.split(X_train, y_train):\n",
    "            X_train_fold, X_val_fold = X_train[train_index], X_train[test_index]\n",
    "            y_train_fold, y_val_fold = y_train[train_index], y_train[test_index]\n",
    "\n",
    "            clf = KNeighborsClassifier(\n",
    "                n_neighbors=k, \n",
    "                metric=metric, \n",
    "                weights=weights\n",
    "                )\n",
    "            clf.fit(X_train_fold, y_train_fold)\n",
    "            y_pred_fold = clf.predict(X_val_fold)\n",
    "            accuracy = foo2(y_val_fold, y_pred_fold)\n",
    "            val_scores.append(accuracy)\n",
    "        score = np.mean(val_scores)\n",
    "        k_scores.append(score)\n",
    "\n",
    "    return ks[np.argmax(k_scores)]"
   ]
  },
  {
   "cell_type": "code",
   "execution_count": 245,
   "metadata": {},
   "outputs": [
    {
     "name": "stdout",
     "output_type": "stream",
     "text": [
      "best k using accuracy_score: 9\n",
      "best k using balanced_acc_score: 11\n",
      "best k using f1_score: 9\n"
     ]
    }
   ],
   "source": [
    "# goofy ah approach\n",
    "print(f\"best k using accuracy_score: {foo(accuracy_score)}\")\n",
    "print(f\"best k using balanced_acc_score: {foo(balanced_accuracy_score)}\")\n",
    "print(f\"best k using f1_score: {foo(f1_score)}\")"
   ]
  }
 ],
 "metadata": {
  "kernelspec": {
   "display_name": "Python 3",
   "language": "python",
   "name": "python3"
  },
  "language_info": {
   "codemirror_mode": {
    "name": "ipython",
    "version": 3
   },
   "file_extension": ".py",
   "mimetype": "text/x-python",
   "name": "python",
   "nbconvert_exporter": "python",
   "pygments_lexer": "ipython3",
   "version": "3.11.2"
  }
 },
 "nbformat": 4,
 "nbformat_minor": 2
}
