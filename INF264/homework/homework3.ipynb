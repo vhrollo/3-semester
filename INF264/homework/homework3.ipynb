{
 "cells": [
  {
   "cell_type": "markdown",
   "metadata": {},
   "source": [
    "# homework 3\n",
    "me when no template :'( "
   ]
  },
  {
   "cell_type": "code",
   "execution_count": 79,
   "metadata": {},
   "outputs": [],
   "source": [
    "# imports for the script\n",
    "from sklearn.datasets import load_diabetes, make_classification\n",
    "from sklearn.model_selection import train_test_split, KFold, GridSearchCV\n",
    "from sklearn.metrics import mean_squared_error, accuracy_score, confusion_matrix, f1_score, balanced_accuracy_score\n",
    "from sklearn.tree import DecisionTreeRegressor\n",
    "from sklearn.neighbors import KNeighborsClassifier\n",
    "\n",
    "import numpy as np\n",
    "\n",
    "import matplotlib.pyplot as plt\n",
    "import seaborn as sns"
   ]
  },
  {
   "cell_type": "code",
   "execution_count": 80,
   "metadata": {},
   "outputs": [],
   "source": [
    "# the seed cell.\n",
    "seed = 42"
   ]
  },
  {
   "cell_type": "markdown",
   "metadata": {},
   "source": [
    "### 1. Model Selection for Decision Tree Regression"
   ]
  },
  {
   "cell_type": "code",
   "execution_count": 81,
   "metadata": {},
   "outputs": [],
   "source": [
    "# load dataset from sklearn\n",
    "diabetes = load_diabetes()\n",
    "X = diabetes.data\n",
    "\n",
    "y = diabetes.target\n",
    "\n",
    "# print(f\"X shape: {X.shape}\")\n",
    "# print(f\"y shape: {y.shape}\")\n",
    "# print(diabetes.feature_names)\n",
    "# print(diabetes.target)"
   ]
  },
  {
   "cell_type": "code",
   "execution_count": 82,
   "metadata": {},
   "outputs": [],
   "source": [
    "# split data into training, validation and test sets\n",
    "\n",
    "X_train, X_test, y_train, y_test = train_test_split(\n",
    "    X, y, train_size=0.8, random_state=seed, shuffle=True\n",
    ")"
   ]
  },
  {
   "cell_type": "code",
   "execution_count": 83,
   "metadata": {},
   "outputs": [],
   "source": [
    "max_depth = [1, 2, 3, 4, 5, 6, 7, 8, 9, 10]\n",
    "min_samples_split = [2, 3, 4, 5, 6, 7, 8, 9, 10]\n",
    "grid = []\n",
    "\n",
    "for i in max_depth:\n",
    "    for j in min_samples_split:\n",
    "        grid.append((i, j))\n"
   ]
  },
  {
   "cell_type": "code",
   "execution_count": 84,
   "metadata": {},
   "outputs": [
    {
     "name": "stdout",
     "output_type": "stream",
     "text": [
      "4028.034388364361\n",
      "Best hyperparameters: (2, 2)\n"
     ]
    }
   ],
   "source": [
    "# finding the best hyperparameters\n",
    "kfold = KFold(n_splits=5, shuffle=True, random_state=seed)\n",
    "heighest_score = np.inf\n",
    "best_params = None\n",
    "\n",
    "for max_d, min_s in grid:\n",
    "    val_scores = []\n",
    "    for train_index, val_index in kfold.split(X_train, y_train):\n",
    "        X_train_fold, X_val_fold = X_train[train_index], X_train[val_index]\n",
    "        y_train_fold, y_val_fold = y_train[train_index], y_train[val_index]\n",
    "\n",
    "        model = DecisionTreeRegressor(max_depth=max_d, min_samples_split=min_s, random_state=seed)\n",
    "        model.fit(X_train_fold, y_train_fold)\n",
    "        val_score = mean_squared_error(y_val_fold, model.predict(X_val_fold))\n",
    "        val_scores.append(val_score)\n",
    "    mean = np.mean(val_scores)\n",
    "    # print(f\"Mean: {mean}\")\n",
    "    if mean < heighest_score:\n",
    "        heighest_score = mean\n",
    "        best_params = (max_d, min_s)\n",
    "\n",
    "print(heighest_score)\n",
    "print(f\"Best hyperparameters: {best_params}\")"
   ]
  },
  {
   "cell_type": "code",
   "execution_count": 85,
   "metadata": {},
   "outputs": [
    {
     "name": "stdout",
     "output_type": "stream",
     "text": [
      "{'max_depth': 2, 'min_samples_split': 2}\n"
     ]
    }
   ],
   "source": [
    "# finding the best hyperparameters using GridSearchCV\n",
    "gscv = GridSearchCV(\n",
    "    DecisionTreeRegressor(), \n",
    "    param_grid={'max_depth': max_depth, 'min_samples_split': min_samples_split}, \n",
    "    cv=kfold, \n",
    "    scoring='neg_mean_squared_error', \n",
    "    n_jobs=-1\n",
    "    )\n",
    "\n",
    "gscv.fit(X_train, y_train)\n",
    "print(gscv.best_params_)"
   ]
  },
  {
   "cell_type": "code",
   "execution_count": 86,
   "metadata": {},
   "outputs": [
    {
     "name": "stdout",
     "output_type": "stream",
     "text": [
      "Test score: 3735.4996177389003\n"
     ]
    }
   ],
   "source": [
    "# testing the model with the hyperparameters found\n",
    "model = DecisionTreeRegressor(max_depth=best_params[0], min_samples_split=best_params[1])\n",
    "model.fit(X_train, y_train)\n",
    "test_score = mean_squared_error(y_test, model.predict(X_test))\n",
    "print(f\"Test score: {test_score}\")"
   ]
  },
  {
   "cell_type": "markdown",
   "metadata": {},
   "source": [
    "### 2. Unbalanced Datasets and Model Selection\n",
    "*Using a synthetic dataset*"
   ]
  },
  {
   "cell_type": "code",
   "execution_count": 87,
   "metadata": {},
   "outputs": [],
   "source": [
    "# Creating dataset\n",
    "\n",
    "ratio = [0.6, 0.75, 0.9, 0.95, 0.99]\n",
    "datasets = []\n",
    "\n",
    "for r in ratio:\n",
    "    dataset = make_classification(\n",
    "        n_samples=1000, \n",
    "        n_features=20,\n",
    "        weights=[r], # nclasses - 1\n",
    "        n_classes=2,\n",
    "        random_state=seed\n",
    "        )\n",
    "    \n",
    "    datasets.append(dataset)\n",
    "\n",
    "    # print (f\"Dataset with ratio {r}\")\n",
    "    # print (f\"X shape: {X.shape}\")\n",
    "    # print (f\"y shape: {y.shape}\")\n",
    "    # print ()"
   ]
  },
  {
   "cell_type": "code",
   "execution_count": 88,
   "metadata": {},
   "outputs": [
    {
     "name": "stdout",
     "output_type": "stream",
     "text": [
      "[25, 26, 2, 2, 2]\n"
     ]
    }
   ],
   "source": [
    "# finding the best k_near neighbor value\n",
    "ks = range(1, 31)\n",
    "metric = 'minkowski' # 'chebyshev' 'manhattan' 'minkowski'\n",
    "weights = 'uniform' # 'distance' 'uniform'\n",
    "\n",
    "best_ks = []\n",
    "\n",
    "for i in range(len(datasets)): # iterating through the datasets\n",
    "    X, y = datasets[i]\n",
    "    X_train, X_val_test, y_train, y_val_test = train_test_split(\n",
    "        X, y, train_size=0.7, random_state=seed, shuffle=True\n",
    "        )\n",
    "    X_val, X_test, y_val, y_test = train_test_split(\n",
    "        X_val_test, y_val_test, train_size=0.5, random_state=seed, shuffle=True\n",
    "        )\n",
    "\n",
    "    val_scores = []\n",
    "    for k in ks: # iterating through the different k_near neighbor values\n",
    "        clf = KNeighborsClassifier(\n",
    "            n_neighbors=k, \n",
    "            metric=metric, \n",
    "            weights=weights\n",
    "            )\n",
    "        clf.fit(X_train, y_train)\n",
    "        val_scores.append(clf.score(X_val, y_val))\n",
    "\n",
    "    best_ks.append(ks[np.argmax(val_scores)])\n",
    "\n",
    "print(best_ks)"
   ]
  },
  {
   "cell_type": "markdown",
   "metadata": {},
   "source": [
    "$F1 = 2 \\cdot \\frac{\\text{ Precision } \\cdot \\text{ Recall }}{\\text{ Precision } + \\text{ Recall }}$"
   ]
  },
  {
   "cell_type": "code",
   "execution_count": 89,
   "metadata": {},
   "outputs": [],
   "source": [
    "# testing the model with k value\n",
    "accuracies = []\n",
    "balanced_accuracies = []\n",
    "f1_scores = []\n",
    "confusion_matrices = []\n",
    "\n",
    "\n",
    "for i in range(len(datasets)):\n",
    "    X, y = datasets[i]\n",
    "\n",
    "    X_train, X_test, y_train, y_test = train_test_split(\n",
    "        X, y, train_size=0.7, random_state=seed, shuffle=True\n",
    "        )\n",
    "    \n",
    "    clf = KNeighborsClassifier(\n",
    "        n_neighbors=best_ks[i], \n",
    "        metric=metric, \n",
    "        weights=weights\n",
    "        )\n",
    "    clf.fit(X_train, y_train)\n",
    "\n",
    "    y_pred = clf.predict(X_test)\n",
    "\n",
    "    # different metrics\n",
    "    accuracies.append( accuracy_score(y_test, y_pred) )\n",
    "    balanced_accuracies.append( balanced_accuracy_score(y_test, y_pred) )\n",
    "    f1_scores.append( f1_score(y_test, y_pred, pos_label=0) )\n",
    "    confusion_matrices.append( confusion_matrix(y_test, y_pred) )"
   ]
  },
  {
   "cell_type": "code",
   "execution_count": 90,
   "metadata": {},
   "outputs": [
    {
     "data": {
      "image/png": "[encoded data removed]",
      "text/plain": [
       "<Figure size 1200x300 with 5 Axes>"
      ]
     },
     "metadata": {},
     "output_type": "display_data"
    }
   ],
   "source": [
    "# confusion matrix plot\n",
    "# TP, FN\n",
    "# FP, TN\n",
    "fig, axes = plt.subplots(1, 5, figsize=(12, 3))\n",
    "for i, ax in enumerate(axes):\n",
    "    sns.heatmap(confusion_matrices[i], fmt='g', cmap='Blues', annot=True,\n",
    "                xticklabels=['True', 'False'], yticklabels=['True', 'False'], cbar=False, ax=ax)\n",
    "    ax.set_xlabel('Predicted Label')\n",
    "    ax.set_ylabel('True Label')\n",
    "    ax.set_title(f\"Ratio: {ratio[i]}\")\n",
    "\n",
    "plt.tight_layout()\n",
    "plt.show()"
   ]
  },
  {
   "cell_type": "code",
   "execution_count": 91,
   "metadata": {},
   "outputs": [
    {
     "data": {
      "image/png": "[encoded data removed]",
      "text/plain": [
       "<Figure size 600x400 with 1 Axes>"
      ]
     },
     "metadata": {},
     "output_type": "display_data"
    }
   ],
   "source": [
    "# different metrics plot\n",
    "fig, ax = plt.subplots( figsize=(6, 4) )\n",
    "ax.plot(ratio, accuracies, label='Accuracy')\n",
    "\n",
    "# if the classes are different sizes, the balanced accuracy weighs the classes equally\n",
    "ax.plot(ratio, balanced_accuracies, label='Balanced Accuracy')\n",
    "ax.plot(ratio, f1_scores, label='F1 Score')\n",
    "ax.set_title('metrics plot')\n",
    "\n",
    "ax.set_xlabel('Ratio')\n",
    "ax.set_ylabel('Accuracy')\n",
    "ax.legend()\n",
    "plt.show()"
   ]
  },
  {
   "cell_type": "markdown",
   "metadata": {},
   "source": [
    "*Using a predefined dataset*"
   ]
  },
  {
   "cell_type": "code",
   "execution_count": 92,
   "metadata": {},
   "outputs": [
    {
     "name": "stdout",
     "output_type": "stream",
     "text": [
      "(10000, 2)\n",
      "(10000,)\n"
     ]
    }
   ],
   "source": [
    "# pickle.\n",
    "\n",
    "X, y = np.load('custom_unbalanced_dataset.pickle', allow_pickle=True)\n",
    "print(X.shape)\n",
    "print(y.shape)"
   ]
  },
  {
   "cell_type": "code",
   "execution_count": 93,
   "metadata": {},
   "outputs": [
    {
     "data": {
      "image/png": "[encoded data removed]",
      "text/plain": [
       "<Figure size 640x480 with 1 Axes>"
      ]
     },
     "metadata": {},
     "output_type": "display_data"
    }
   ],
   "source": [
    "# plot histogram\n",
    "plt.hist(X)\n",
    "plt.show()"
   ]
  },
  {
   "cell_type": "code",
   "execution_count": 94,
   "metadata": {},
   "outputs": [],
   "source": [
    "# split data into training and test sets\n",
    "\n",
    "X_train, X_test, y_train, y_test = train_test_split(\n",
    "    X, y, train_size=0.8, random_state=seed, shuffle=True\n",
    ")"
   ]
  },
  {
   "cell_type": "code",
   "execution_count": 99,
   "metadata": {},
   "outputs": [],
   "source": [
    "def foo () -> float:\n",
    "    kfold = KFold(n_splits=10, shuffle=True, random_state=seed)\n",
    "\n",
    "    k_scores = []\n",
    "    k2_scores = []\n",
    "    k3_scores = []\n",
    "\n",
    "    for k in ks:\n",
    "        f1_scores = []\n",
    "        acc_scores = []\n",
    "        bal_acc_scores = []\n",
    "        for train_index, test_index in kfold.split(X_train, y_train):\n",
    "            X_train_fold, X_val_fold = X_train[train_index], X_train[test_index]\n",
    "            y_train_fold, y_val_fold = y_train[train_index], y_train[test_index]\n",
    "\n",
    "            clf = KNeighborsClassifier(\n",
    "                n_neighbors=k, \n",
    "                metric=metric, \n",
    "                weights=weights\n",
    "                )\n",
    "            clf.fit(X_train_fold, y_train_fold)\n",
    "            y_pred_fold = clf.predict(X_val_fold)\n",
    "\n",
    "            f1_scores.append(f1_score(y_val_fold, y_pred_fold, pos_label=0))\n",
    "            acc_scores.append(accuracy_score(y_val_fold, y_pred_fold))\n",
    "            bal_acc_scores.append(balanced_accuracy_score(y_val_fold, y_pred_fold))\n",
    "        k_scores.append(np.mean(f1_scores))\n",
    "        k2_scores.append(np.mean(acc_scores))\n",
    "        k3_scores.append(np.mean(bal_acc_scores))\n",
    "\n",
    "    print(f\"Best f1 score: {np.max(k_scores):.3f}, with k={ks[np.argmax(k_scores)]}\")\n",
    "    print(f\"Best acc score: {np.max(k2_scores):3f}, with k={ks[np.argmax(k2_scores)]}\")\n",
    "    print(f\"Best bal acc score: {np.max(k3_scores):.3f}, with k={ks[np.argmax(k3_scores)]}\")\n",
    "\n",
    "    return ks[np.argmax(k_scores)]"
   ]
  },
  {
   "cell_type": "code",
   "execution_count": 100,
   "metadata": {},
   "outputs": [
    {
     "name": "stdout",
     "output_type": "stream",
     "text": [
      "Best f1 score: 0.985, with k=15\n",
      "Best acc score: 0.973125, with k=9\n",
      "Best bal acc score: 0.926, with k=11\n"
     ]
    }
   ],
   "source": [
    "# i think the best metric would be the f1 score, since it\n",
    "# is a binary classification problem,\n",
    "# and the the focus is on precision and recall\n",
    "best_k = foo()"
   ]
  },
  {
   "cell_type": "code",
   "execution_count": 97,
   "metadata": {},
   "outputs": [
    {
     "name": "stdout",
     "output_type": "stream",
     "text": [
      "best k: 15\n",
      "f1 score: 0.9856194690265486\n",
      "confusion matrix:\n",
      " [[1782   25]\n",
      " [  27  166]]\n"
     ]
    }
   ],
   "source": [
    "# testing the model using the best k value and the f1 score metric\n",
    "\n",
    "clf = KNeighborsClassifier( n_neighbors=best_k, metric=metric, weights=weights )\n",
    "clf.fit(X_train, y_train)\n",
    "y_pred = clf.predict(X_test)\n",
    "f1 = f1_score(y_test, y_pred, pos_label=0)\n",
    "con_mat = confusion_matrix(y_test, y_pred)\n",
    "print (f\"best k: {best_k}\")\n",
    "print (f\"f1 score: {f1}\")\n",
    "print (f\"confusion matrix:\\n {con_mat}\")"
   ]
  },
  {
   "cell_type": "code",
   "execution_count": 105,
   "metadata": {},
   "outputs": [
    {
     "name": "stdout",
     "output_type": "stream",
     "text": [
      "F1 score: 0.986\n"
     ]
    }
   ],
   "source": [
    "# f1 score\n",
    "p = 1782/(1782+27)\n",
    "r = 1782/(1782+25)\n",
    "\n",
    "print(f\"F1 score: {2*(p*r)/(p+r):.3f}\")\n"
   ]
  }
 ],
 "metadata": {
  "kernelspec": {
   "display_name": "Python 3",
   "language": "python",
   "name": "python3"
  },
  "language_info": {
   "codemirror_mode": {
    "name": "ipython",
    "version": 3
   },
   "file_extension": ".py",
   "mimetype": "text/x-python",
   "name": "python",
   "nbconvert_exporter": "python",
   "pygments_lexer": "ipython3",
   "version": "3.11.4"
  }
 },
 "nbformat": 4,
 "nbformat_minor": 2
}
