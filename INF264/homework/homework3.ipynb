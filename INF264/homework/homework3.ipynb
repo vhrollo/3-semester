{
 "cells": [
  {
   "cell_type": "markdown",
   "metadata": {},
   "source": [
    "# homework 3\n",
    "something "
   ]
  },
  {
   "cell_type": "code",
   "execution_count": 97,
   "metadata": {},
   "outputs": [],
   "source": [
    "# imports for the script\n",
    "from sklearn.datasets import load_diabetes\n",
    "from sklearn.model_selection import train_test_split, KFold, GridSearchCV\n",
    "from sklearn.metrics import mean_squared_error\n",
    "from sklearn.tree import DecisionTreeRegressor\n",
    "import numpy as np"
   ]
  },
  {
   "cell_type": "markdown",
   "metadata": {},
   "source": [
    "### 1. Model Selection for Decision Tree Regression"
   ]
  },
  {
   "cell_type": "code",
   "execution_count": 98,
   "metadata": {},
   "outputs": [],
   "source": [
    "# load dataset from sklearn\n",
    "diabetes = load_diabetes()\n",
    "X = diabetes.data\n",
    "\n",
    "y = diabetes.target\n",
    "\n",
    "# print(f\"X shape: {X.shape}\")\n",
    "# print(f\"y shape: {y.shape}\")\n",
    "# print(diabetes.feature_names)\n",
    "# print(diabetes.target)"
   ]
  },
  {
   "cell_type": "code",
   "execution_count": 99,
   "metadata": {},
   "outputs": [],
   "source": [
    "# split data into training, validation and test sets\n",
    "\n",
    "seed = 42\n",
    "\n",
    "X_train, X_test, y_train, y_test = train_test_split(\n",
    "    X, y, train_size=0.8, random_state=seed, shuffle=True\n",
    ")"
   ]
  },
  {
   "cell_type": "code",
   "execution_count": 100,
   "metadata": {},
   "outputs": [],
   "source": [
    "max_depth = [1, 2, 3, 4, 5, 6, 7, 8, 9, 10]\n",
    "min_samples_split = [2, 3, 4, 5, 6, 7, 8, 9, 10]\n",
    "grid = []\n",
    "\n",
    "for i in max_depth:\n",
    "    for j in min_samples_split:\n",
    "        grid.append((i, j))\n"
   ]
  },
  {
   "cell_type": "code",
   "execution_count": 101,
   "metadata": {},
   "outputs": [
    {
     "name": "stdout",
     "output_type": "stream",
     "text": [
      "4028.034388364361\n",
      "Best hyperparameters: (2, 2)\n"
     ]
    }
   ],
   "source": [
    "# finding the best hyperparameters\n",
    "kfold = KFold(n_splits=5, shuffle=True, random_state=seed)\n",
    "heighest_score = np.inf\n",
    "best_params = None\n",
    "\n",
    "for max_d, min_s in grid:\n",
    "    val_scores = []\n",
    "    for train_index, val_index in kfold.split(X_train, y_train):\n",
    "        X_train_fold, X_val_fold = X_train[train_index], X_train[val_index]\n",
    "        y_train_fold, y_val_fold = y_train[train_index], y_train[val_index]\n",
    "\n",
    "        model = DecisionTreeRegressor(max_depth=max_d, min_samples_split=min_s, random_state=seed)\n",
    "        model.fit(X_train_fold, y_train_fold)\n",
    "        val_score = mean_squared_error(y_val_fold, model.predict(X_val_fold))\n",
    "        val_scores.append(val_score)\n",
    "    mean = np.mean(val_scores)\n",
    "    # print(f\"Mean: {mean}\")\n",
    "    if mean < heighest_score:\n",
    "        heighest_score = mean\n",
    "        best_params = (max_d, min_s)\n",
    "\n",
    "print(heighest_score)\n",
    "print(f\"Best hyperparameters: {best_params}\")"
   ]
  },
  {
   "cell_type": "code",
   "execution_count": 102,
   "metadata": {},
   "outputs": [
    {
     "name": "stdout",
     "output_type": "stream",
     "text": [
      "{'max_depth': 2, 'min_samples_split': 2}\n"
     ]
    }
   ],
   "source": [
    "# finding the best hyperparameters using GridSearchCV\n",
    "gscv = GridSearchCV(\n",
    "    DecisionTreeRegressor(), \n",
    "    param_grid={'max_depth': max_depth, 'min_samples_split': min_samples_split}, \n",
    "    cv=kfold, \n",
    "    scoring='neg_mean_squared_error', \n",
    "    n_jobs=-1\n",
    "    )\n",
    "\n",
    "gscv.fit(X_train, y_train)\n",
    "print(gscv.best_params_)"
   ]
  },
  {
   "cell_type": "code",
   "execution_count": 103,
   "metadata": {},
   "outputs": [
    {
     "name": "stdout",
     "output_type": "stream",
     "text": [
      "Test score: 3735.4996177389003\n"
     ]
    }
   ],
   "source": [
    "model = DecisionTreeRegressor(max_depth=best_params[0], min_samples_split=best_params[1])\n",
    "model.fit(X_train, y_train)\n",
    "test_score = mean_squared_error(y_test, model.predict(X_test))\n",
    "print(f\"Test score: {test_score}\")"
   ]
  },
  {
   "cell_type": "markdown",
   "metadata": {},
   "source": [
    "### 2. Unbalanced Datasets and Model Selection"
   ]
  }
 ],
 "metadata": {
  "kernelspec": {
   "display_name": "Python 3",
   "language": "python",
   "name": "python3"
  },
  "language_info": {
   "codemirror_mode": {
    "name": "ipython",
    "version": 3
   },
   "file_extension": ".py",
   "mimetype": "text/x-python",
   "name": "python",
   "nbconvert_exporter": "python",
   "pygments_lexer": "ipython3",
   "version": "3.11.4"
  }
 },
 "nbformat": 4,
 "nbformat_minor": 2
}
