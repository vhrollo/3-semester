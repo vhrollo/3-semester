{
 "cells": [
  {
   "cell_type": "code",
   "execution_count": 1,
   "metadata": {},
   "outputs": [],
   "source": [
    "import numpy as np\n",
    "import matplotlib.pyplot as plt\n",
    "from sklearn.linear_model import LogisticRegression"
   ]
  },
  {
   "cell_type": "code",
   "execution_count": 2,
   "metadata": {},
   "outputs": [],
   "source": [
    "x = np.array([[0, 2], [1, 2], [-1, 0], [4, 0], [3,0],[1, -1], [4, -1]])\n",
    "#y = np.array([0, 0, 1, 1, 1, 0, 0])\n",
    "y = np.array([0, 1, 0, 1, 1, 1, 1])"
   ]
  },
  {
   "cell_type": "code",
   "execution_count": 3,
   "metadata": {},
   "outputs": [],
   "source": [
    "def log_loss(W, X, y):\n",
    "    y1 = np.asmatrix(y)\n",
    "    return -1*(y1*np.log(sigmoid(W.T*X.T).T) + (1 - y1)*np.log(1 - sigmoid(W.T*X.T).T))\n",
    "\n",
    "def sigmoid(z):\n",
    "    return 1/(1 + np.exp(-z))"
   ]
  },
  {
   "cell_type": "code",
   "execution_count": 4,
   "metadata": {},
   "outputs": [],
   "source": [
    "def plot_logistic_regression(x1=None, x2=None, y=None, w0=0, w1=0, w2=0, show_loss=False, ax=None):\n",
    "    markers = ['D', 'x']\n",
    "    colors = ['r', 'b']\n",
    "    \n",
    "    epsilon = 0.2\n",
    "    \n",
    "    x1_min = np.min(x1) - epsilon\n",
    "    x1_max = np.max(x1) + epsilon\n",
    "    x2_min = np.min(x2) - epsilon\n",
    "    x2_max = np.max(x2) + epsilon\n",
    "    \n",
    "    n = x1.shape[0]\n",
    "    \n",
    "    l = log_loss(np.matrix([w0, w1, w2]).T, np.matrix([np.ones(n), x1, x2]).T, np.asmatrix(y))[0,0]\n",
    "    if show_loss:\n",
    "        print('Loss: %s' % l)\n",
    "\n",
    "    xx1, xx2 = np.mgrid[x1_min:x1_max:0.01, x2_min:x2_max:0.01]\n",
    "    \n",
    "    z = sigmoid(w0 + w1*xx1 + w2*xx2)\n",
    "\n",
    "    ax = ax or plt.gca()\n",
    "    \n",
    "    epsilon = 0.1\n",
    "    contour = ax.contourf(xx1, xx2, z, 25, cmap=\"RdBu\",\n",
    "                      vmin=0, vmax=1)\n",
    "    \n",
    "    ax_c = plt.colorbar(contour)\n",
    "    ax_c.set_label(\"$P(y = 1)$\")\n",
    "    ax_c.set_ticks([0, .25, .5, .75, 1])\n",
    "\n",
    "    ax.set(aspect=\"equal\",\n",
    "    xlim=(x1_min, x1_max), ylim=(x2_min, x2_max),\n",
    "    xlabel=\"$X_1$\", ylabel=\"$X_2$\")\n",
    "    \n",
    "    for i in range(n):\n",
    "        ax.scatter(x1[i], x2[i], c=colors[y[i]], linewidths=3, alpha=1)\n",
    "    \n",
    "    plt.show()    "
   ]
  },
  {
   "cell_type": "code",
   "execution_count": 5,
   "metadata": {},
   "outputs": [
    {
     "data": {
      "application/vnd.jupyter.widget-view+json": {
       "model_id": "0456ec833b35481f8466b6420e880083",
       "version_major": 2,
       "version_minor": 0
      },
      "text/plain": [
       "interactive(children=(FloatSlider(value=0.0, description='w0', max=5.0, min=-5.0), FloatSlider(value=0.0, desc…"
      ]
     },
     "metadata": {},
     "output_type": "display_data"
    }
   ],
   "source": [
    "%matplotlib inline\n",
    "\n",
    "from ipywidgets import interact, fixed\n",
    "import ipywidgets as widgets\n",
    "\n",
    "ww0 = widgets.FloatSlider(min=-5, max=5)\n",
    "ww1 = widgets.FloatSlider(min=-5, max=5)\n",
    "ww2 = widgets.FloatSlider(min=-5, max=5)\n",
    "show_loss = widgets.Checkbox(description='Show loss')\n",
    "\n",
    "interact(plot_logistic_regression, x1=fixed(x[:,0]), x2=fixed(x[:,1]), y=fixed(y), w0=ww0, w1=ww1, w2=ww2, show_loss=show_loss, ax=fixed(None));"
   ]
  },
  {
   "cell_type": "code",
   "execution_count": 6,
   "metadata": {},
   "outputs": [],
   "source": [
    "# Learn a model\n",
    "clf = LogisticRegression().fit(x, y)"
   ]
  },
  {
   "cell_type": "code",
   "execution_count": 7,
   "metadata": {},
   "outputs": [
    {
     "data": {
      "image/png": "[encoded data removed]",
      "text/plain": [
       "<Figure size 800x600 with 2 Axes>"
      ]
     },
     "metadata": {},
     "output_type": "display_data"
    }
   ],
   "source": [
    "xx, yy = np.mgrid[-3:5:.01, -3:3:.01]\n",
    "grid = np.c_[xx.ravel(), yy.ravel()]\n",
    "probs = clf.predict_proba(grid)[:, 1].reshape(xx.shape) # Predict\n",
    "\n",
    "# Plot the model\n",
    "f, ax = plt.subplots(figsize=(8, 6))\n",
    "contour = ax.contourf(xx, yy, probs, 25, cmap=\"RdBu\",\n",
    "                      vmin=0, vmax=1)\n",
    "ax_c = f.colorbar(contour)\n",
    "ax_c.set_label(\"$P(y = 1)$\")\n",
    "ax_c.set_ticks([0, .25, .5, .75, 1])\n",
    "\n",
    "ax.scatter(x[:,0], x[:, 1], c=y[:], s=50,\n",
    "           cmap=\"RdBu\", vmin=-.2, vmax=1.2,\n",
    "           edgecolor=\"white\", linewidth=1)\n",
    "\n",
    "ax.set(aspect=\"equal\",\n",
    "       xlim=(-3, 5), ylim=(-3, 3),\n",
    "       xlabel=\"$X_1$\", ylabel=\"$X_2$\")\n",
    "\n",
    "plt.show()"
   ]
  },
  {
   "cell_type": "code",
   "execution_count": 8,
   "metadata": {},
   "outputs": [
    {
     "data": {
      "text/plain": [
       "array([0.01177916])"
      ]
     },
     "execution_count": 8,
     "metadata": {},
     "output_type": "execute_result"
    }
   ],
   "source": [
    "clf.intercept_ # Print the intercept"
   ]
  },
  {
   "cell_type": "code",
   "execution_count": 9,
   "metadata": {},
   "outputs": [
    {
     "data": {
      "text/plain": [
       "array([[ 1.05579414, -0.25303245]])"
      ]
     },
     "execution_count": 9,
     "metadata": {},
     "output_type": "execute_result"
    }
   ],
   "source": [
    "clf.coef_ # Print other weights"
   ]
  },
  {
   "cell_type": "code",
   "execution_count": null,
   "metadata": {},
   "outputs": [],
   "source": []
  },
  {
   "cell_type": "code",
   "execution_count": null,
   "metadata": {},
   "outputs": [],
   "source": []
  }
 ],
 "metadata": {
  "kernelspec": {
   "display_name": "Python 3",
   "language": "python",
   "name": "python3"
  },
  "language_info": {
   "codemirror_mode": {
    "name": "ipython",
    "version": 3
   },
   "file_extension": ".py",
   "mimetype": "text/x-python",
   "name": "python",
   "nbconvert_exporter": "python",
   "pygments_lexer": "ipython3",
   "version": "3.11.2"
  }
 },
 "nbformat": 4,
 "nbformat_minor": 2
}
