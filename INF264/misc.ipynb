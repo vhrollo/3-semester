{
 "cells": [
  {
   "cell_type": "code",
   "execution_count": 20,
   "metadata": {},
   "outputs": [
    {
     "data": {
      "text/plain": [
       "array([0, 1, 1, 1, 1, 2, 0, 0, 0, 0, 0, 0, 0, 0, 0, 0, 0, 0, 0, 0, 0, 0,\n",
       "       0, 0, 0, 0, 0, 0, 0, 0, 0, 0, 0, 0, 0, 0, 0, 0, 0, 0, 0, 0, 0, 0,\n",
       "       0, 0, 0, 0, 0, 0, 0, 0, 0, 0, 0, 0, 0, 0, 0, 0, 0, 0, 0, 0, 0, 0,\n",
       "       0, 0, 0, 0, 0, 0, 0, 0, 0, 0, 0, 0, 0, 0, 0, 0, 0, 0, 0, 0, 0, 0,\n",
       "       0, 0, 0, 0, 0, 0, 0, 0, 0, 0, 0, 0, 1])"
      ]
     },
     "execution_count": 20,
     "metadata": {},
     "output_type": "execute_result"
    }
   ],
   "source": [
    "import numpy as np\n",
    "a = [1,2,3,4,5,5,100]\n",
    "np.bincount(a)"
   ]
  },
  {
   "cell_type": "code",
   "execution_count": 36,
   "metadata": {},
   "outputs": [
    {
     "name": "stdout",
     "output_type": "stream",
     "text": [
      "[2 2 2 2 2 2 2 2 2 2 3]\n",
      "3.4594316186372973\n",
      "[0.08695652 0.08695652 0.08695652 0.08695652 0.08695652 0.08695652\n",
      " 0.08695652 0.08695652 0.08695652 0.08695652 0.13043478]\n"
     ]
    },
    {
     "data": {
      "text/plain": [
       "3.4472624994412104"
      ]
     },
     "execution_count": 36,
     "metadata": {},
     "output_type": "execute_result"
    }
   ],
   "source": [
    "def class_prop(y):\n",
    "    count = np.bincount(y)\n",
    "    count = count[count > 0]  # Exclude zero counts\n",
    "    proposition = count / y.size\n",
    "    return proposition\n",
    "\n",
    "def class_prop2(y):\n",
    "    _, count = np.unique(y, return_counts=True)\n",
    "    print(count)\n",
    "    proposition = count / y.size\n",
    "    return proposition\n",
    "\n",
    "y = np.array([10,10,10,0,0,1,1,2,2,3,3,4,4,5,5,6,6,7,7,8,8,9,9])\n",
    "\n",
    "propositions = class_prop2(y)\n",
    "print(np.log2(propositions.size))\n",
    "np.sum(propositions)\n",
    "print(propositions)\n",
    "\n",
    "- np.sum(propositions* np.log2(propositions))"
   ]
  },
  {
   "cell_type": "code",
   "execution_count": 22,
   "metadata": {},
   "outputs": [
    {
     "name": "stdout",
     "output_type": "stream",
     "text": [
      "[ True  True  True False False  True]\n",
      "[ True  True  True False False  True]\n",
      "[ True  True  True False False  True]\n",
      "[ True  True  True False False  True]\n",
      "[ True  True  True False False  True]\n",
      "[ True  True  True False False  True]\n"
     ]
    }
   ],
   "source": [
    "a = np.array([1, 2, 3, 4, 5, 2])\n",
    "# returns a boolean mask of values lower than 3\n",
    "new_array = a <= 3\n",
    "for i in new_array:\n",
    "    print(new_array)"
   ]
  },
  {
   "cell_type": "code",
   "execution_count": 23,
   "metadata": {},
   "outputs": [
    {
     "name": "stdout",
     "output_type": "stream",
     "text": [
      "2\n"
     ]
    }
   ],
   "source": [
    "\n",
    "array = np.array([1, 2, 3, 4, 5, 2])\n",
    "count = np.bincount(array)\n",
    "print(np.argmax(count))\n",
    "\n"
   ]
  }
 ],
 "metadata": {
  "kernelspec": {
   "display_name": "usr",
   "language": "python",
   "name": "python3"
  },
  "language_info": {
   "codemirror_mode": {
    "name": "ipython",
    "version": 3
   },
   "file_extension": ".py",
   "mimetype": "text/x-python",
   "name": "python",
   "nbconvert_exporter": "python",
   "pygments_lexer": "ipython3",
   "version": "3.11.2"
  }
 },
 "nbformat": 4,
 "nbformat_minor": 2
}
