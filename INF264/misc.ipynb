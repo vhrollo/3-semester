{
 "cells": [
  {
   "cell_type": "code",
   "execution_count": 3,
   "metadata": {},
   "outputs": [
    {
     "data": {
      "text/plain": [
       "array([0, 1, 1, 1, 1, 2, 0, 0, 0, 0, 0, 0, 0, 0, 0, 0, 0, 0, 0, 0, 0, 0,\n",
       "       0, 0, 0, 0, 0, 0, 0, 0, 0, 0, 0, 0, 0, 0, 0, 0, 0, 0, 0, 0, 0, 0,\n",
       "       0, 0, 0, 0, 0, 0, 0, 0, 0, 0, 0, 0, 0, 0, 0, 0, 0, 0, 0, 0, 0, 0,\n",
       "       0, 0, 0, 0, 0, 0, 0, 0, 0, 0, 0, 0, 0, 0, 0, 0, 0, 0, 0, 0, 0, 0,\n",
       "       0, 0, 0, 0, 0, 0, 0, 0, 0, 0, 0, 0, 1], dtype=int64)"
      ]
     },
     "execution_count": 3,
     "metadata": {},
     "output_type": "execute_result"
    }
   ],
   "source": [
    "import numpy as np\n",
    "a = [1,2,3,4,5,5,100]\n",
    "np.bincount(a)"
   ]
  },
  {
   "cell_type": "code",
   "execution_count": 4,
   "metadata": {},
   "outputs": [
    {
     "ename": "ValueError",
     "evalue": "'list' argument must have no negative elements",
     "output_type": "error",
     "traceback": [
      "\u001b[1;31m---------------------------------------------------------------------------\u001b[0m",
      "\u001b[1;31mValueError\u001b[0m                                Traceback (most recent call last)",
      "Cell \u001b[1;32mIn[4], line 15\u001b[0m\n\u001b[0;32m     11\u001b[0m     \u001b[38;5;28;01mreturn\u001b[39;00m proposition\n\u001b[0;32m     13\u001b[0m y \u001b[38;5;241m=\u001b[39m np\u001b[38;5;241m.\u001b[39marray([\u001b[38;5;241m-\u001b[39m\u001b[38;5;241m1\u001b[39m,\u001b[38;5;241m-\u001b[39m\u001b[38;5;241m1\u001b[39m,\u001b[38;5;241m0\u001b[39m,\u001b[38;5;241m0\u001b[39m,\u001b[38;5;241m1\u001b[39m,\u001b[38;5;241m1\u001b[39m,\u001b[38;5;241m2\u001b[39m,\u001b[38;5;241m2\u001b[39m,\u001b[38;5;241m3\u001b[39m,\u001b[38;5;241m3\u001b[39m,\u001b[38;5;241m4\u001b[39m,\u001b[38;5;241m4\u001b[39m,\u001b[38;5;241m5\u001b[39m,\u001b[38;5;241m5\u001b[39m,\u001b[38;5;241m6\u001b[39m,\u001b[38;5;241m6\u001b[39m,\u001b[38;5;241m7\u001b[39m,\u001b[38;5;241m7\u001b[39m,\u001b[38;5;241m8\u001b[39m,\u001b[38;5;241m8\u001b[39m])\n\u001b[1;32m---> 15\u001b[0m propositions \u001b[38;5;241m=\u001b[39m \u001b[43mclass_prop\u001b[49m\u001b[43m(\u001b[49m\u001b[43my\u001b[49m\u001b[43m)\u001b[49m\n\u001b[0;32m     16\u001b[0m \u001b[38;5;28mprint\u001b[39m(np\u001b[38;5;241m.\u001b[39mlog2(propositions\u001b[38;5;241m.\u001b[39msize))\n\u001b[0;32m     17\u001b[0m np\u001b[38;5;241m.\u001b[39msum(propositions)\n",
      "Cell \u001b[1;32mIn[4], line 2\u001b[0m, in \u001b[0;36mclass_prop\u001b[1;34m(y)\u001b[0m\n\u001b[0;32m      1\u001b[0m \u001b[38;5;28;01mdef\u001b[39;00m \u001b[38;5;21mclass_prop\u001b[39m(y):\n\u001b[1;32m----> 2\u001b[0m     count \u001b[38;5;241m=\u001b[39m \u001b[43mnp\u001b[49m\u001b[38;5;241;43m.\u001b[39;49m\u001b[43mbincount\u001b[49m\u001b[43m(\u001b[49m\u001b[43my\u001b[49m\u001b[43m)\u001b[49m\n\u001b[0;32m      3\u001b[0m     count \u001b[38;5;241m=\u001b[39m count[count \u001b[38;5;241m>\u001b[39m \u001b[38;5;241m0\u001b[39m]  \u001b[38;5;66;03m# Exclude zero counts\u001b[39;00m\n\u001b[0;32m      4\u001b[0m     proposition \u001b[38;5;241m=\u001b[39m count \u001b[38;5;241m/\u001b[39m y\u001b[38;5;241m.\u001b[39msize\n",
      "\u001b[1;31mValueError\u001b[0m: 'list' argument must have no negative elements"
     ]
    }
   ],
   "source": [
    "def class_prop(y):\n",
    "    count = np.bincount(y)\n",
    "    count = count[count > 0]  # Exclude zero counts\n",
    "    proposition = count / y.size\n",
    "    return proposition\n",
    "\n",
    "def class_prop2(y):\n",
    "    _, count = np.unique(y, return_counts=True)\n",
    "    print(count)\n",
    "    proposition = count / y.size\n",
    "    return proposition\n",
    "\n",
    "y = np.array([-1,-1,0,0,1,1,2,2,3,3,4,4,5,5,6,6,7,7,8,8])\n",
    "\n",
    "propositions = class_prop(y)\n",
    "print(np.log2(propositions.size))\n",
    "np.sum(propositions)\n",
    "print(propositions)\n",
    "\n",
    "- np.sum(propositions* np.log2(propositions))"
   ]
  },
  {
   "cell_type": "code",
   "execution_count": 4,
   "metadata": {},
   "outputs": [
    {
     "name": "stdout",
     "output_type": "stream",
     "text": [
      "[ True  True  True False False  True]\n",
      "[ True  True  True False False  True]\n",
      "[ True  True  True False False  True]\n",
      "[ True  True  True False False  True]\n",
      "[ True  True  True False False  True]\n",
      "[ True  True  True False False  True]\n"
     ]
    }
   ],
   "source": [
    "a = np.array([1, 2, 3, 4, 5, 2])\n",
    "# returns a boolean mask of values lower than 3\n",
    "new_array = a <= 3\n",
    "for i in new_array:\n",
    "    print(new_array)"
   ]
  },
  {
   "cell_type": "code",
   "execution_count": 5,
   "metadata": {},
   "outputs": [
    {
     "ename": "ValueError",
     "evalue": "'list' argument must have no negative elements",
     "output_type": "error",
     "traceback": [
      "\u001b[0;31m---------------------------------------------------------------------------\u001b[0m",
      "\u001b[0;31mValueError\u001b[0m                                Traceback (most recent call last)",
      "Cell \u001b[0;32mIn[5], line 2\u001b[0m\n\u001b[1;32m      1\u001b[0m array \u001b[38;5;241m=\u001b[39m np\u001b[38;5;241m.\u001b[39marray([\u001b[38;5;241m-\u001b[39m\u001b[38;5;241m1\u001b[39m, \u001b[38;5;241m-\u001b[39m\u001b[38;5;241m1\u001b[39m, \u001b[38;5;241m1\u001b[39m, \u001b[38;5;241m2\u001b[39m, \u001b[38;5;241m3\u001b[39m, \u001b[38;5;241m4\u001b[39m, \u001b[38;5;241m5\u001b[39m, \u001b[38;5;241m2\u001b[39m])\n\u001b[0;32m----> 2\u001b[0m count \u001b[38;5;241m=\u001b[39m \u001b[43mnp\u001b[49m\u001b[38;5;241;43m.\u001b[39;49m\u001b[43mbincount\u001b[49m\u001b[43m(\u001b[49m\u001b[43marray\u001b[49m\u001b[43m)\u001b[49m\n\u001b[1;32m      3\u001b[0m \u001b[38;5;28mprint\u001b[39m(np\u001b[38;5;241m.\u001b[39margmax(count))\n",
      "File \u001b[0;32m<__array_function__ internals>:200\u001b[0m, in \u001b[0;36mbincount\u001b[0;34m(*args, **kwargs)\u001b[0m\n",
      "\u001b[0;31mValueError\u001b[0m: 'list' argument must have no negative elements"
     ]
    }
   ],
   "source": [
    "\n",
    "array = np.array([-1, -1, 1, 2, 3, 4, 5, 2])\n",
    "count = np.bincount(array)\n",
    "print(np.argmax(count))\n",
    "\n"
   ]
  },
  {
   "cell_type": "code",
   "execution_count": 12,
   "metadata": {},
   "outputs": [
    {
     "data": {
      "text/plain": [
       "array([1, 2, 3, 4, 5, 2])"
      ]
     },
     "execution_count": 12,
     "metadata": {},
     "output_type": "execute_result"
    }
   ],
   "source": [
    "import numpy as np\n",
    "array = np.array([-1, -1, 1, 2, 3, 4, 5, 2])\n",
    "mask = np.array([True, True, False, False, False, False, False, False])\n",
    "array[~mask]"
   ]
  },
  {
   "cell_type": "code",
   "execution_count": 8,
   "metadata": {},
   "outputs": [
    {
     "data": {
      "text/plain": [
       "array([ 0,  5, 10])"
      ]
     },
     "execution_count": 8,
     "metadata": {},
     "output_type": "execute_result"
    }
   ],
   "source": [
    "np.arange(0,11,5)"
   ]
  },
  {
   "cell_type": "code",
   "execution_count": 1,
   "metadata": {},
   "outputs": [
    {
     "data": {
      "text/plain": [
       "(2, 3)"
      ]
     },
     "execution_count": 1,
     "metadata": {},
     "output_type": "execute_result"
    }
   ],
   "source": [
    "import numpy as np\n",
    "\n",
    "features = np.array([[1, 2], \n",
    "                     [4, 5]\n",
    "                     [1, 2]])\n",
    "\n",
    "\n",
    "features.shape"
   ]
  },
  {
   "cell_type": "code",
   "execution_count": 8,
   "metadata": {},
   "outputs": [
    {
     "name": "stdout",
     "output_type": "stream",
     "text": [
      "2.855647324401999\n"
     ]
    }
   ],
   "source": [
    "import numpy as np\n",
    "w = np.array([1,1,0,1,0])\n",
    "my = 0.01\n",
    "nabla = np.array([3.4, 1.7, 1.7, 5.1, -0.2])\n",
    "w2 = w - my * nabla\n",
    "\n",
    "def foreward(x, w):\n",
    "    z = (x[0]*w[0]) + (x[1]*w[1]) + w[2]\n",
    "    g = max(0, z)\n",
    "    y = (g*w[3]) + w[4]\n",
    "    return y\n",
    "\n",
    "cost = ((foreward([2,1], w2)-1.3)**2 + (foreward([-3,2], w2)-1.9)**2)/2\n",
    "\n",
    "print(cost)"
   ]
  },
  {
   "cell_type": "code",
   "execution_count": 1,
   "metadata": {},
   "outputs": [
    {
     "data": {
      "text/plain": [
       "9941"
      ]
     },
     "execution_count": 1,
     "metadata": {},
     "output_type": "execute_result"
    }
   ],
   "source": [
    "9990 - 49"
   ]
  },
  {
   "cell_type": "code",
   "execution_count": null,
   "metadata": {},
   "outputs": [
    {
     "name": "stdout",
     "output_type": "stream",
     "text": [
      "0.9985002501250625\n",
      "0.9967586854127564\n",
      "0.999\n",
      "0.9990546896135516\n",
      "0.5\n",
      "0.9475475475475476\n"
     ]
    }
   ],
   "source": [
    "from sklearn import metrics\n",
    "\n",
    "# 9990 working 10 not working\n",
    "a = 9990*[1] + 10*[0]\n",
    "\n",
    "# first guess is guesses all workiing\n",
    "b = 10000*[1]\n",
    "\n",
    "# seccond guess is 49 false pos and 9 false neg\n",
    "c = 49 * [0] + 9941 * [1] + 9 * [0] + 1 * [1]\n",
    "\n",
    "#weighted f1 score\n",
    "f1 = metrics.f1_score(a, b, average='weighted')\n",
    "print(f1)\n",
    "\n",
    "f1 = metrics.f1_score(a, c, average='weighted')\n",
    "print(f1)\n",
    "\n",
    "# precision\n",
    "precision = metrics.precision_score(a, b, average='binary')\n",
    "print(precision)\n",
    "\n",
    "precision = metrics.precision_score(a, c, average='weighted')\n",
    "print(precision)\n",
    "\n",
    "\n",
    "# balanced accuracy\n",
    "balanced_accuracy = metrics.balanced_accuracy_score(a, b)\n",
    "print(balanced_accuracy)\n",
    "\n",
    "balanced_accuracy = metrics.balanced_accuracy_score(a, c)\n",
    "print(balanced_accuracy)    \n",
    "\n",
    "metrics.accuracy_score(a, b)    "
   ]
  },
  {
   "cell_type": "code",
   "execution_count": 30,
   "metadata": {},
   "outputs": [
    {
     "name": "stdout",
     "output_type": "stream",
     "text": [
      "0.78560\n",
      "1.15840\n",
      "0.288\n",
      "0.832\n"
     ]
    }
   ],
   "source": [
    "from decimal import Decimal, getcontext\n",
    "\n",
    "# Set the precision high enough to avoid floating-point errors\n",
    "getcontext().prec = 10\n",
    "\n",
    "old_b = Decimal('0.8')\n",
    "old_w = Decimal('1.2')\n",
    "lambda_ = Decimal('0.05')\n",
    "def f(x): return Decimal('1.2') * Decimal(x) + Decimal('0.8')\n",
    "\n",
    "def b(x,y) -> float: return -4 * (Decimal(y) - f(x))**3\n",
    "\n",
    "def w(x,y) -> float: return -4 * x * (Decimal(y) - f(x))**3\n",
    "\n",
    "\n",
    "n_b = old_b - lambda_ *  ( b(2,3) + b(3,4) )\n",
    "n_w = old_w - lambda_ *  ( w(2,3) + w(3,4) )\n",
    "print(n_b)\n",
    "print(n_w)\n",
    "\n",
    "print (b(2,3) + b(3,4))\n",
    "print (w(2,3) + w(3,4))\n"
   ]
  }
 ],
 "metadata": {
  "kernelspec": {
   "display_name": "usr",
   "language": "python",
   "name": "python3"
  },
  "language_info": {
   "codemirror_mode": {
    "name": "ipython",
    "version": 3
   },
   "file_extension": ".py",
   "mimetype": "text/x-python",
   "name": "python",
   "nbconvert_exporter": "python",
   "pygments_lexer": "ipython3",
   "version": "3.11.2"
  }
 },
 "nbformat": 4,
 "nbformat_minor": 2
}
