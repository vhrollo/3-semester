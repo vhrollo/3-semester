{
 "cells": [
  {
   "cell_type": "markdown",
   "metadata": {},
   "source": [
    "### info264 - notater"
   ]
  },
  {
   "cell_type": "markdown",
   "metadata": {},
   "source": [
    "# lecture 1 - 21/08/24\n",
    "\n",
    "\n",
    "#### GOFAI\n",
    "- needs domain\n",
    "- needs rules\n",
    "- what and how"
   ]
  },
  {
   "cell_type": "markdown",
   "metadata": {},
   "source": [
    "### Three important concepts\n",
    "- Task\n",
    "- Preformance measure\n",
    "- Experience"
   ]
  },
  {
   "cell_type": "markdown",
   "metadata": {},
   "source": [
    "### Unsupervised learning\n",
    "- clustering\n",
    "- dimension reduction"
   ]
  },
  {
   "cell_type": "markdown",
   "metadata": {},
   "source": [
    "##### test\n",
    "nr.\n",
    "a g h\n",
    "x f d b\n",
    "e\n",
    "\n",
    "\n"
   ]
  },
  {
   "cell_type": "markdown",
   "metadata": {},
   "source": [
    "### Reinforcment learning\n",
    "- no object/ label pairs, only feedback from the actions"
   ]
  },
  {
   "cell_type": "markdown",
   "metadata": {},
   "source": [
    "# lecture 2 22/08/24"
   ]
  },
  {
   "cell_type": "markdown",
   "metadata": {},
   "source": [
    "- model - is a solution to a task\n",
    "- model family (or the hypothesis) is a set of models from which the model is chosen\n",
    "\n",
    "\n",
    "types of supervised?\n",
    "- regression - continious\n",
    "- classification - discrete"
   ]
  },
  {
   "cell_type": "markdown",
   "metadata": {},
   "source": [
    "Mitchell's definition\n",
    "- Task\n",
    "- Perform measure\n",
    "- experience"
   ]
  },
  {
   "cell_type": "markdown",
   "metadata": {},
   "source": [
    "The inductive bias of learning alorithm is the set of assumptions that the learner uses to predict output given inputs that it has not encountered (Mitchel)"
   ]
  },
  {
   "cell_type": "markdown",
   "metadata": {},
   "source": [
    "train\n",
    "validate\n",
    "test"
   ]
  },
  {
   "cell_type": "markdown",
   "metadata": {},
   "source": [
    "# K-nearest neighbor\n",
    "\n",
    "low k will make it more complex/overfit\n",
    "- potential issues:\n",
    "  - noice\n",
    "  - too little data\n",
    "  - too flexible"
   ]
  },
  {
   "cell_type": "markdown",
   "metadata": {},
   "source": [
    "# lecture 4\n",
    "\n",
    "univariate regression\n",
    "- univariate means that the object only has one feature\n",
    "- x: feature\n",
    "- y: label\n",
    "- $\\epsilon$: error/residual\n",
    "- y = w*x + b + $\\epsilon$\n",
    "- minimize loss on training data\n",
    "\n",
    "What is a loss function?\n",
    "- L(y, f(x)) = (y - f(x))^2\n",
    "- Minimize the sum of squared errors on the training set\n",
    "\n",
    "- Estimates for the parameters can be found by solving $\\hat{w}, \\hat{b} = arg min E(w, b)$\n",
    "- MSE\n",
    "\n",
    "Linear Models for classification\n",
    "- Logical regression\n",
    "\n",
    "Logical Regression\n",
    "\n",
    "\n",
    "lin reg + gaussian\n",
    "\n",
    "\n",
    "just add constant in\n",
    "y=W^T x  + b\n",
    "add b in with 1 in the x vector\n",
    "\n"
   ]
  }
 ],
 "metadata": {
  "kernelspec": {
   "display_name": "Python 3",
   "language": "python",
   "name": "python3"
  },
  "language_info": {
   "codemirror_mode": {
    "name": "ipython",
    "version": 3
   },
   "file_extension": ".py",
   "mimetype": "text/x-python",
   "name": "python",
   "nbconvert_exporter": "python",
   "pygments_lexer": "ipython3",
   "version": "3.11.4"
  }
 },
 "nbformat": 4,
 "nbformat_minor": 2
}
